{
 "cells": [
  {
   "cell_type": "markdown",
   "id": "32dd9c73-c6c0-460f-8f4d-7c64277408ea",
   "metadata": {},
   "source": [
    "# 🔴 Mini-Project: Data Analysis\n",
    "- Understanding enrollment trends of online-courses offered by university. \n",
    "- Extracting important insights from the dataset.\n",
    "- identifying what contributes to higher enrollment.\n",
    "- Determining if the course type (online or classroom) is a significant factor\n",
    "- Key Concepts: Statistics, Data cleaning, transformations and visualizations.\r",
    "#### Submitted by: Malaika Ahmed \n"
   ]
  },
  {
   "cell_type": "code",
   "execution_count": null,
   "id": "8c42d86e-6cb3-4076-94f2-ae7268caf37b",
   "metadata": {},
   "outputs": [],
   "source": [
    "## Importing libraries"
   ]
  },
  {
   "cell_type": "code",
   "execution_count": 37,
   "id": "74ed7924-2264-4a82-8ae2-a9f8c3223be5",
   "metadata": {},
   "outputs": [],
   "source": [
    "import numpy as np\n",
    "import pandas as pd\n",
    "import matplotlib.pyplot as plt"
   ]
  },
  {
   "cell_type": "code",
   "execution_count": null,
   "id": "1759caf3-2184-49e6-bf7e-52ecc5d3e280",
   "metadata": {},
   "outputs": [],
   "source": [
    "# Importing Data Set"
   ]
  },
  {
   "cell_type": "code",
   "execution_count": 2,
   "id": "de84d303-6616-4512-9884-22eaa5c80d92",
   "metadata": {},
   "outputs": [],
   "source": [
    "df=pd.read_csv(\"university_enrollment_(Mini-project-01).csv\")"
   ]
  },
  {
   "cell_type": "code",
   "execution_count": 3,
   "id": "5d908ec0-0f06-4b9f-b251-0147703424fb",
   "metadata": {},
   "outputs": [
    {
     "data": {
      "text/html": [
       "<div>\n",
       "<style scoped>\n",
       "    .dataframe tbody tr th:only-of-type {\n",
       "        vertical-align: middle;\n",
       "    }\n",
       "\n",
       "    .dataframe tbody tr th {\n",
       "        vertical-align: top;\n",
       "    }\n",
       "\n",
       "    .dataframe thead th {\n",
       "        text-align: right;\n",
       "    }\n",
       "</style>\n",
       "<table border=\"1\" class=\"dataframe\">\n",
       "  <thead>\n",
       "    <tr style=\"text-align: right;\">\n",
       "      <th></th>\n",
       "      <th>course_id</th>\n",
       "      <th>course_type</th>\n",
       "      <th>year</th>\n",
       "      <th>enrollment_count</th>\n",
       "      <th>pre_score</th>\n",
       "      <th>post_score</th>\n",
       "      <th>pre_requirement</th>\n",
       "      <th>department</th>\n",
       "    </tr>\n",
       "  </thead>\n",
       "  <tbody>\n",
       "    <tr>\n",
       "      <th>0</th>\n",
       "      <td>1</td>\n",
       "      <td>classroom</td>\n",
       "      <td>2018</td>\n",
       "      <td>165</td>\n",
       "      <td>28.14</td>\n",
       "      <td>73.0</td>\n",
       "      <td>Beginner</td>\n",
       "      <td>Science</td>\n",
       "    </tr>\n",
       "    <tr>\n",
       "      <th>1</th>\n",
       "      <td>2</td>\n",
       "      <td>classroom</td>\n",
       "      <td>2020</td>\n",
       "      <td>175</td>\n",
       "      <td>79.68</td>\n",
       "      <td>86.0</td>\n",
       "      <td>NaN</td>\n",
       "      <td>Science</td>\n",
       "    </tr>\n",
       "    <tr>\n",
       "      <th>2</th>\n",
       "      <td>3</td>\n",
       "      <td>online</td>\n",
       "      <td>2016</td>\n",
       "      <td>257</td>\n",
       "      <td>57.24</td>\n",
       "      <td>80.0</td>\n",
       "      <td>NaN</td>\n",
       "      <td>Mathematics</td>\n",
       "    </tr>\n",
       "    <tr>\n",
       "      <th>3</th>\n",
       "      <td>4</td>\n",
       "      <td>online</td>\n",
       "      <td>2013</td>\n",
       "      <td>251</td>\n",
       "      <td>97.67</td>\n",
       "      <td>75.0</td>\n",
       "      <td>Beginner</td>\n",
       "      <td>Technology</td>\n",
       "    </tr>\n",
       "    <tr>\n",
       "      <th>4</th>\n",
       "      <td>5</td>\n",
       "      <td>classroom</td>\n",
       "      <td>2019</td>\n",
       "      <td>165</td>\n",
       "      <td>39.75</td>\n",
       "      <td>76.0</td>\n",
       "      <td>Beginner</td>\n",
       "      <td>Science</td>\n",
       "    </tr>\n",
       "    <tr>\n",
       "      <th>...</th>\n",
       "      <td>...</td>\n",
       "      <td>...</td>\n",
       "      <td>...</td>\n",
       "      <td>...</td>\n",
       "      <td>...</td>\n",
       "      <td>...</td>\n",
       "      <td>...</td>\n",
       "      <td>...</td>\n",
       "    </tr>\n",
       "    <tr>\n",
       "      <th>1845</th>\n",
       "      <td>1846</td>\n",
       "      <td>classroom</td>\n",
       "      <td>2018</td>\n",
       "      <td>155</td>\n",
       "      <td>60.01</td>\n",
       "      <td>81.0</td>\n",
       "      <td>Intermediate</td>\n",
       "      <td>Science</td>\n",
       "    </tr>\n",
       "    <tr>\n",
       "      <th>1846</th>\n",
       "      <td>1847</td>\n",
       "      <td>online</td>\n",
       "      <td>2016</td>\n",
       "      <td>261</td>\n",
       "      <td>94.27</td>\n",
       "      <td>85.0</td>\n",
       "      <td>NaN</td>\n",
       "      <td>Technology</td>\n",
       "    </tr>\n",
       "    <tr>\n",
       "      <th>1847</th>\n",
       "      <td>1848</td>\n",
       "      <td>online</td>\n",
       "      <td>2011</td>\n",
       "      <td>257</td>\n",
       "      <td>76</td>\n",
       "      <td>81.0</td>\n",
       "      <td>NaN</td>\n",
       "      <td>Mathematics</td>\n",
       "    </tr>\n",
       "    <tr>\n",
       "      <th>1848</th>\n",
       "      <td>1849</td>\n",
       "      <td>online</td>\n",
       "      <td>2013</td>\n",
       "      <td>256</td>\n",
       "      <td>20.67</td>\n",
       "      <td>66.0</td>\n",
       "      <td>NaN</td>\n",
       "      <td>Math</td>\n",
       "    </tr>\n",
       "    <tr>\n",
       "      <th>1849</th>\n",
       "      <td>1850</td>\n",
       "      <td>online</td>\n",
       "      <td>2017</td>\n",
       "      <td>256</td>\n",
       "      <td>17.57</td>\n",
       "      <td>72.0</td>\n",
       "      <td>NaN</td>\n",
       "      <td>Math</td>\n",
       "    </tr>\n",
       "  </tbody>\n",
       "</table>\n",
       "<p>1850 rows × 8 columns</p>\n",
       "</div>"
      ],
      "text/plain": [
       "      course_id course_type  year  enrollment_count pre_score  post_score  \\\n",
       "0             1   classroom  2018               165     28.14        73.0   \n",
       "1             2   classroom  2020               175     79.68        86.0   \n",
       "2             3      online  2016               257     57.24        80.0   \n",
       "3             4      online  2013               251     97.67        75.0   \n",
       "4             5   classroom  2019               165     39.75        76.0   \n",
       "...         ...         ...   ...               ...       ...         ...   \n",
       "1845       1846   classroom  2018               155     60.01        81.0   \n",
       "1846       1847      online  2016               261     94.27        85.0   \n",
       "1847       1848      online  2011               257        76        81.0   \n",
       "1848       1849      online  2013               256     20.67        66.0   \n",
       "1849       1850      online  2017               256     17.57        72.0   \n",
       "\n",
       "     pre_requirement   department  \n",
       "0           Beginner      Science  \n",
       "1                NaN      Science  \n",
       "2                NaN  Mathematics  \n",
       "3           Beginner   Technology  \n",
       "4           Beginner      Science  \n",
       "...              ...          ...  \n",
       "1845    Intermediate      Science  \n",
       "1846             NaN   Technology  \n",
       "1847             NaN  Mathematics  \n",
       "1848             NaN         Math  \n",
       "1849             NaN         Math  \n",
       "\n",
       "[1850 rows x 8 columns]"
      ]
     },
     "execution_count": 3,
     "metadata": {},
     "output_type": "execute_result"
    }
   ],
   "source": [
    "df"
   ]
  },
  {
   "cell_type": "code",
   "execution_count": null,
   "id": "329b2b21-153e-43a2-ae3c-222b42ceb784",
   "metadata": {},
   "outputs": [],
   "source": []
  },
  {
   "cell_type": "markdown",
   "id": "b3c2c479-e56e-4fdf-9fd5-76a56caac80e",
   "metadata": {},
   "source": [
    "## 🟡 STEP 01- Data Cleaning and Preprocessing\n",
    "\n",
    "- Identifying duplicated rows\n",
    "- Identifying Nulll Values\n",
    "- Replacing null values with specific value\n",
    "- Interpolating values in specific column\n",
    "    \n",
    " "
   ]
  },
  {
   "cell_type": "markdown",
   "id": "e7fd0301-d65e-4429-8e12-4c0004fa2de7",
   "metadata": {},
   "source": [
    "###     🔹 Identifying duplicated rows\n"
   ]
  },
  {
   "cell_type": "code",
   "execution_count": 5,
   "id": "29ade09b-7fe0-4b8e-bc4a-9bcbe5fd5e70",
   "metadata": {},
   "outputs": [
    {
     "data": {
      "text/plain": [
       "0"
      ]
     },
     "execution_count": 5,
     "metadata": {},
     "output_type": "execute_result"
    }
   ],
   "source": [
    "df.duplicated().sum()"
   ]
  },
  {
   "cell_type": "markdown",
   "id": "59ac3690-1298-40ce-9ac4-e788cb3f9572",
   "metadata": {},
   "source": [
    "###     🔹 Identifying Nulll Values\n"
   ]
  },
  {
   "cell_type": "code",
   "execution_count": 4,
   "id": "1ccaa4fc-859f-4c59-b883-83c14dd726db",
   "metadata": {},
   "outputs": [
    {
     "data": {
      "text/plain": [
       "course_id             0\n",
       "course_type           0\n",
       "year                  0\n",
       "enrollment_count      0\n",
       "pre_score             0\n",
       "post_score          185\n",
       "pre_requirement     891\n",
       "department            0\n",
       "dtype: int64"
      ]
     },
     "execution_count": 4,
     "metadata": {},
     "output_type": "execute_result"
    }
   ],
   "source": [
    "df.isnull().sum()"
   ]
  },
  {
   "cell_type": "markdown",
   "id": "419fc93d-20c0-4545-b3ac-d7a6fb4eac4d",
   "metadata": {},
   "source": [
    "### 🔎 Insights: \n",
    "- We have two columns in which null values are present i.e post_score nd pre_requirement.\n",
    "- Since  both have large number of null values,dropping them is not a good option.\n",
    "- Filling pre_requirement null values with string \"None\"\n",
    "- Interpolating post_score nulll values\r\n"
   ]
  },
  {
   "cell_type": "markdown",
   "id": "ec8c6c9e-3336-4ccf-84b2-d3cd22951877",
   "metadata": {},
   "source": [
    "### 🔹 Replacing null values of pre_requirement with string \"None\""
   ]
  },
  {
   "cell_type": "code",
   "execution_count": 7,
   "id": "db930632-405b-43eb-92f2-b685ebf9d464",
   "metadata": {},
   "outputs": [],
   "source": [
    "df['pre_requirement'].fillna(value='None',inplace=True)"
   ]
  },
  {
   "cell_type": "code",
   "execution_count": 10,
   "id": "228e85c3-c0a9-4d1e-85a9-c2ab66c733b2",
   "metadata": {},
   "outputs": [],
   "source": [
    "# Checking wether null values has been replaced by 'None' "
   ]
  },
  {
   "cell_type": "code",
   "execution_count": 8,
   "id": "714cd3f8-8a1d-4890-a018-ad23a8721c48",
   "metadata": {},
   "outputs": [
    {
     "data": {
      "text/html": [
       "<div>\n",
       "<style scoped>\n",
       "    .dataframe tbody tr th:only-of-type {\n",
       "        vertical-align: middle;\n",
       "    }\n",
       "\n",
       "    .dataframe tbody tr th {\n",
       "        vertical-align: top;\n",
       "    }\n",
       "\n",
       "    .dataframe thead th {\n",
       "        text-align: right;\n",
       "    }\n",
       "</style>\n",
       "<table border=\"1\" class=\"dataframe\">\n",
       "  <thead>\n",
       "    <tr style=\"text-align: right;\">\n",
       "      <th></th>\n",
       "      <th>course_id</th>\n",
       "      <th>course_type</th>\n",
       "      <th>year</th>\n",
       "      <th>enrollment_count</th>\n",
       "      <th>pre_score</th>\n",
       "      <th>post_score</th>\n",
       "      <th>pre_requirement</th>\n",
       "      <th>department</th>\n",
       "    </tr>\n",
       "  </thead>\n",
       "  <tbody>\n",
       "    <tr>\n",
       "      <th>0</th>\n",
       "      <td>1</td>\n",
       "      <td>classroom</td>\n",
       "      <td>2018</td>\n",
       "      <td>165</td>\n",
       "      <td>28.14</td>\n",
       "      <td>73.0</td>\n",
       "      <td>Beginner</td>\n",
       "      <td>Science</td>\n",
       "    </tr>\n",
       "    <tr>\n",
       "      <th>1</th>\n",
       "      <td>2</td>\n",
       "      <td>classroom</td>\n",
       "      <td>2020</td>\n",
       "      <td>175</td>\n",
       "      <td>79.68</td>\n",
       "      <td>86.0</td>\n",
       "      <td>None</td>\n",
       "      <td>Science</td>\n",
       "    </tr>\n",
       "    <tr>\n",
       "      <th>2</th>\n",
       "      <td>3</td>\n",
       "      <td>online</td>\n",
       "      <td>2016</td>\n",
       "      <td>257</td>\n",
       "      <td>57.24</td>\n",
       "      <td>80.0</td>\n",
       "      <td>None</td>\n",
       "      <td>Mathematics</td>\n",
       "    </tr>\n",
       "    <tr>\n",
       "      <th>3</th>\n",
       "      <td>4</td>\n",
       "      <td>online</td>\n",
       "      <td>2013</td>\n",
       "      <td>251</td>\n",
       "      <td>97.67</td>\n",
       "      <td>75.0</td>\n",
       "      <td>Beginner</td>\n",
       "      <td>Technology</td>\n",
       "    </tr>\n",
       "    <tr>\n",
       "      <th>4</th>\n",
       "      <td>5</td>\n",
       "      <td>classroom</td>\n",
       "      <td>2019</td>\n",
       "      <td>165</td>\n",
       "      <td>39.75</td>\n",
       "      <td>76.0</td>\n",
       "      <td>Beginner</td>\n",
       "      <td>Science</td>\n",
       "    </tr>\n",
       "    <tr>\n",
       "      <th>...</th>\n",
       "      <td>...</td>\n",
       "      <td>...</td>\n",
       "      <td>...</td>\n",
       "      <td>...</td>\n",
       "      <td>...</td>\n",
       "      <td>...</td>\n",
       "      <td>...</td>\n",
       "      <td>...</td>\n",
       "    </tr>\n",
       "    <tr>\n",
       "      <th>1845</th>\n",
       "      <td>1846</td>\n",
       "      <td>classroom</td>\n",
       "      <td>2018</td>\n",
       "      <td>155</td>\n",
       "      <td>60.01</td>\n",
       "      <td>81.0</td>\n",
       "      <td>Intermediate</td>\n",
       "      <td>Science</td>\n",
       "    </tr>\n",
       "    <tr>\n",
       "      <th>1846</th>\n",
       "      <td>1847</td>\n",
       "      <td>online</td>\n",
       "      <td>2016</td>\n",
       "      <td>261</td>\n",
       "      <td>94.27</td>\n",
       "      <td>85.0</td>\n",
       "      <td>None</td>\n",
       "      <td>Technology</td>\n",
       "    </tr>\n",
       "    <tr>\n",
       "      <th>1847</th>\n",
       "      <td>1848</td>\n",
       "      <td>online</td>\n",
       "      <td>2011</td>\n",
       "      <td>257</td>\n",
       "      <td>76</td>\n",
       "      <td>81.0</td>\n",
       "      <td>None</td>\n",
       "      <td>Mathematics</td>\n",
       "    </tr>\n",
       "    <tr>\n",
       "      <th>1848</th>\n",
       "      <td>1849</td>\n",
       "      <td>online</td>\n",
       "      <td>2013</td>\n",
       "      <td>256</td>\n",
       "      <td>20.67</td>\n",
       "      <td>66.0</td>\n",
       "      <td>None</td>\n",
       "      <td>Math</td>\n",
       "    </tr>\n",
       "    <tr>\n",
       "      <th>1849</th>\n",
       "      <td>1850</td>\n",
       "      <td>online</td>\n",
       "      <td>2017</td>\n",
       "      <td>256</td>\n",
       "      <td>17.57</td>\n",
       "      <td>72.0</td>\n",
       "      <td>None</td>\n",
       "      <td>Math</td>\n",
       "    </tr>\n",
       "  </tbody>\n",
       "</table>\n",
       "<p>1850 rows × 8 columns</p>\n",
       "</div>"
      ],
      "text/plain": [
       "      course_id course_type  year  enrollment_count pre_score  post_score  \\\n",
       "0             1   classroom  2018               165     28.14        73.0   \n",
       "1             2   classroom  2020               175     79.68        86.0   \n",
       "2             3      online  2016               257     57.24        80.0   \n",
       "3             4      online  2013               251     97.67        75.0   \n",
       "4             5   classroom  2019               165     39.75        76.0   \n",
       "...         ...         ...   ...               ...       ...         ...   \n",
       "1845       1846   classroom  2018               155     60.01        81.0   \n",
       "1846       1847      online  2016               261     94.27        85.0   \n",
       "1847       1848      online  2011               257        76        81.0   \n",
       "1848       1849      online  2013               256     20.67        66.0   \n",
       "1849       1850      online  2017               256     17.57        72.0   \n",
       "\n",
       "     pre_requirement   department  \n",
       "0           Beginner      Science  \n",
       "1               None      Science  \n",
       "2               None  Mathematics  \n",
       "3           Beginner   Technology  \n",
       "4           Beginner      Science  \n",
       "...              ...          ...  \n",
       "1845    Intermediate      Science  \n",
       "1846            None   Technology  \n",
       "1847            None  Mathematics  \n",
       "1848            None         Math  \n",
       "1849            None         Math  \n",
       "\n",
       "[1850 rows x 8 columns]"
      ]
     },
     "execution_count": 8,
     "metadata": {},
     "output_type": "execute_result"
    }
   ],
   "source": [
    "df"
   ]
  },
  {
   "cell_type": "markdown",
   "id": "2ce782cd-a1a7-4762-86e3-b03b935d4981",
   "metadata": {},
   "source": [
    "### 🔹 Interpolating post_score Nulll Values\n"
   ]
  },
  {
   "cell_type": "code",
   "execution_count": 11,
   "id": "98805d8d-496c-4572-8c1b-a2d14e00fcfb",
   "metadata": {},
   "outputs": [],
   "source": [
    "df1=df['post_score']\n",
    "df1.interpolate(inplace=True)"
   ]
  },
  {
   "cell_type": "code",
   "execution_count": 12,
   "id": "8d6e4178-4d63-48e6-a196-46a01bce0fb3",
   "metadata": {},
   "outputs": [
    {
     "data": {
      "text/plain": [
       "0       73.0\n",
       "1       86.0\n",
       "2       80.0\n",
       "3       75.0\n",
       "4       76.0\n",
       "        ... \n",
       "1845    81.0\n",
       "1846    85.0\n",
       "1847    81.0\n",
       "1848    66.0\n",
       "1849    72.0\n",
       "Name: post_score, Length: 1850, dtype: float64"
      ]
     },
     "execution_count": 12,
     "metadata": {},
     "output_type": "execute_result"
    }
   ],
   "source": [
    "df1"
   ]
  },
  {
   "cell_type": "code",
   "execution_count": 13,
   "id": "e0db469f-74bb-4a2b-be99-e578a6b98365",
   "metadata": {},
   "outputs": [],
   "source": [
    "# Re-checking whether there's still any null value left in data set"
   ]
  },
  {
   "cell_type": "code",
   "execution_count": 14,
   "id": "78172e74-22fb-44ff-99c5-ca734ae08bea",
   "metadata": {},
   "outputs": [
    {
     "data": {
      "text/plain": [
       "course_id           0\n",
       "course_type         0\n",
       "year                0\n",
       "enrollment_count    0\n",
       "pre_score           0\n",
       "post_score          0\n",
       "pre_requirement     0\n",
       "department          0\n",
       "dtype: int64"
      ]
     },
     "execution_count": 14,
     "metadata": {},
     "output_type": "execute_result"
    }
   ],
   "source": [
    "df.isnull().sum()"
   ]
  },
  {
   "cell_type": "code",
   "execution_count": null,
   "id": "86300fc9-1b61-42c0-ae57-88372840d2a3",
   "metadata": {},
   "outputs": [],
   "source": []
  },
  {
   "cell_type": "markdown",
   "id": "22d769fc-d600-45fc-a002-63da5b824c5e",
   "metadata": {},
   "source": [
    "## 🟡 STEP 02: Summary Statistics\n",
    "- Drawing major insights from each column"
   ]
  },
  {
   "cell_type": "markdown",
   "id": "7c436857-8f9d-40a6-bb36-2b6ca41ada31",
   "metadata": {},
   "source": [
    "### 🔹 Exploring column \"course_type\"\n"
   ]
  },
  {
   "cell_type": "code",
   "execution_count": 15,
   "id": "9bbdd3fd-ecb4-492e-ab3d-1395f74dd44c",
   "metadata": {},
   "outputs": [
    {
     "data": {
      "text/plain": [
       "course_type\n",
       "online       1375\n",
       "classroom     475\n",
       "Name: count, dtype: int64"
      ]
     },
     "execution_count": 15,
     "metadata": {},
     "output_type": "execute_result"
    }
   ],
   "source": [
    "df['course_type'].value_counts()"
   ]
  },
  {
   "cell_type": "code",
   "execution_count": 48,
   "id": "724e46e4-5c6d-4a40-bb3a-cf4fc4837714",
   "metadata": {},
   "outputs": [
    {
     "data": {
      "text/plain": [
       "1850"
      ]
     },
     "execution_count": 48,
     "metadata": {},
     "output_type": "execute_result"
    }
   ],
   "source": [
    "df['course_type'].value_counts().sum()"
   ]
  },
  {
   "cell_type": "markdown",
   "id": "bda202de-5e2c-41c2-87e4-a91e0a2c0975",
   "metadata": {},
   "source": [
    "### 🔎 Insights: \n",
    "- Out of 1850 Courses,1375 courses are offered online and 475 courses are offered in-person by university"
   ]
  },
  {
   "cell_type": "markdown",
   "id": "211981e4-68d4-45fd-a3a8-d3071d67fb46",
   "metadata": {},
   "source": [
    "### 🔹 Exploring column \"year\"\n"
   ]
  },
  {
   "cell_type": "code",
   "execution_count": 16,
   "id": "9dbacaf0-1696-46af-abad-cfcf61c048c1",
   "metadata": {},
   "outputs": [
    {
     "data": {
      "text/plain": [
       "year\n",
       "2013    169\n",
       "2012    164\n",
       "2016    162\n",
       "2015    160\n",
       "2021    159\n",
       "2018    156\n",
       "2014    152\n",
       "2022    150\n",
       "2011    148\n",
       "2019    147\n",
       "2017    143\n",
       "2020    140\n",
       "Name: count, dtype: int64"
      ]
     },
     "execution_count": 16,
     "metadata": {},
     "output_type": "execute_result"
    }
   ],
   "source": [
    "df['year'].value_counts()"
   ]
  },
  {
   "cell_type": "markdown",
   "id": "1cea3226-e8b0-4f21-bdd7-7b4f15f4297c",
   "metadata": {},
   "source": [
    "### 🔎 Insights: \n",
    "- Shows the total number of courses offered in each year"
   ]
  },
  {
   "cell_type": "code",
   "execution_count": 17,
   "id": "84e797d9-eaeb-41b7-932f-d5d6f9816d70",
   "metadata": {},
   "outputs": [
    {
     "data": {
      "text/plain": [
       "2022"
      ]
     },
     "execution_count": 17,
     "metadata": {},
     "output_type": "execute_result"
    }
   ],
   "source": [
    "df['year'].max()"
   ]
  },
  {
   "cell_type": "code",
   "execution_count": null,
   "id": "d4dc0596-1296-4c8a-b0df-1705ed07f4b2",
   "metadata": {},
   "outputs": [],
   "source": [
    "df['year'].min()"
   ]
  },
  {
   "cell_type": "markdown",
   "id": "75982217-a354-45eb-9e21-06764976a5cf",
   "metadata": {},
   "source": [
    "### 🔎 Insights: \n",
    "- Courses are offered by university from year 2011 to year 2022"
   ]
  },
  {
   "cell_type": "code",
   "execution_count": 18,
   "id": "8a0bc444-d514-4ed9-a14b-37583d4670a4",
   "metadata": {},
   "outputs": [
    {
     "data": {
      "text/plain": [
       "169"
      ]
     },
     "execution_count": 18,
     "metadata": {},
     "output_type": "execute_result"
    }
   ],
   "source": [
    "df['year'].value_counts().max()"
   ]
  },
  {
   "cell_type": "code",
   "execution_count": 19,
   "id": "2c36cbd4-2ff9-4d08-88b0-ba5eb7762fa6",
   "metadata": {},
   "outputs": [
    {
     "data": {
      "text/plain": [
       "140"
      ]
     },
     "execution_count": 19,
     "metadata": {},
     "output_type": "execute_result"
    }
   ],
   "source": [
    "df['year'].value_counts().min()"
   ]
  },
  {
   "cell_type": "markdown",
   "id": "cc9b859b-178f-4292-b002-05af357896f3",
   "metadata": {},
   "source": [
    "### 🔎 Insights: \n",
    "- Maximum number of courses offered by univeristy in a single year is 169.\n",
    "- Minimum number of courses offered by university in a single year is 140.\n"
   ]
  },
  {
   "cell_type": "markdown",
   "id": "7451d0ee-656c-4ddc-9c57-55da6607c921",
   "metadata": {},
   "source": [
    "### 🔹 Exploring column \"enrollment_count\"\n"
   ]
  },
  {
   "cell_type": "code",
   "execution_count": 79,
   "id": "88e5d6d6-6a07-413f-9573-5a68b2c0c15e",
   "metadata": {},
   "outputs": [
    {
     "data": {
      "text/plain": [
       "428396"
      ]
     },
     "execution_count": 79,
     "metadata": {},
     "output_type": "execute_result"
    }
   ],
   "source": [
    "df['enrollment_count'].sum()"
   ]
  },
  {
   "cell_type": "code",
   "execution_count": 22,
   "id": "8f0b923c-2167-41be-a5a7-e443a586668a",
   "metadata": {},
   "outputs": [
    {
     "data": {
      "text/plain": [
       "267"
      ]
     },
     "execution_count": 22,
     "metadata": {},
     "output_type": "execute_result"
    }
   ],
   "source": [
    "df['enrollment_count'].max()"
   ]
  },
  {
   "cell_type": "code",
   "execution_count": 23,
   "id": "e621619b-6d85-4b17-882e-f1f8e82a3209",
   "metadata": {},
   "outputs": [
    {
     "data": {
      "text/plain": [
       "154"
      ]
     },
     "execution_count": 23,
     "metadata": {},
     "output_type": "execute_result"
    }
   ],
   "source": [
    "df['enrollment_count'].min()"
   ]
  },
  {
   "cell_type": "markdown",
   "id": "5adeb946-e1c6-40ef-b489-8a2840f3b2cf",
   "metadata": {},
   "source": [
    "### 🔎 Insights: \n",
    "- Total number of students that got enrolled in all courses from year 2011 to 2022 is 428396\n",
    "- Maximum number of students enrollment is 267 in a year\n",
    "- Minimum number of students enrollment is 154 is a year\n"
   ]
  },
  {
   "cell_type": "markdown",
   "id": "ad71e439-aa29-4726-9a50-2d40b69a3d0a",
   "metadata": {},
   "source": [
    "### 🔹 Exploring column \"pre_score\"\n"
   ]
  },
  {
   "cell_type": "code",
   "execution_count": 24,
   "id": "e7a521d1-cd8f-4dea-9b42-3cc5e973d79d",
   "metadata": {},
   "outputs": [],
   "source": [
    "# Pre-Score column is stored in string,converting it into 'Numeric'\n"
   ]
  },
  {
   "cell_type": "code",
   "execution_count": 25,
   "id": "5e207c5d-669f-4882-a9d8-4c8c829fb960",
   "metadata": {},
   "outputs": [],
   "source": [
    "df['pre_score'] = pd.to_numeric(df['pre_score'], errors='coerce')\n"
   ]
  },
  {
   "cell_type": "code",
   "execution_count": 26,
   "id": "1fc040c3-f559-479c-8ebb-f241fc2a2dad",
   "metadata": {},
   "outputs": [
    {
     "data": {
      "text/plain": [
       "100.0"
      ]
     },
     "execution_count": 26,
     "metadata": {},
     "output_type": "execute_result"
    }
   ],
   "source": [
    "df['pre_score'].max()"
   ]
  },
  {
   "cell_type": "code",
   "execution_count": 27,
   "id": "8d5ed418-abf8-49f4-ad06-ded3b693f004",
   "metadata": {},
   "outputs": [
    {
     "data": {
      "text/plain": [
       "1.02"
      ]
     },
     "execution_count": 27,
     "metadata": {},
     "output_type": "execute_result"
    }
   ],
   "source": [
    "df['pre_score'].min()"
   ]
  },
  {
   "cell_type": "code",
   "execution_count": 28,
   "id": "b0e2ed4b-860c-4541-84bf-d746213b0098",
   "metadata": {},
   "outputs": [
    {
     "data": {
      "text/plain": [
       "49.52731976744185"
      ]
     },
     "execution_count": 28,
     "metadata": {},
     "output_type": "execute_result"
    }
   ],
   "source": [
    "df['pre_score'].mean()"
   ]
  },
  {
   "cell_type": "code",
   "execution_count": 29,
   "id": "88605c18-df6d-4bce-ab40-097689ea0707",
   "metadata": {},
   "outputs": [
    {
     "data": {
      "text/plain": [
       "0    12.11\n",
       "1    18.01\n",
       "2    23.66\n",
       "3    27.44\n",
       "4    35.37\n",
       "5    50.72\n",
       "6    51.95\n",
       "7    64.62\n",
       "8    85.69\n",
       "Name: pre_score, dtype: float64"
      ]
     },
     "execution_count": 29,
     "metadata": {},
     "output_type": "execute_result"
    }
   ],
   "source": [
    "df['pre_score'].mode()"
   ]
  },
  {
   "cell_type": "markdown",
   "id": "01516954-ca77-401b-898f-39899289e8af",
   "metadata": {},
   "source": [
    "### 🔎 Insights: \n",
    "- Highest pre-score (before taking courses) is 100\n",
    "- Lowest pre-score is 1.02\n",
    "- Mean score of all students before taking courses is around 49.5\n",
    "- Mode shows most students scored this,before taking courses "
   ]
  },
  {
   "cell_type": "markdown",
   "id": "439f5872-5e62-4c95-90cb-594bd6baf51f",
   "metadata": {},
   "source": [
    "### 🔹 Exploring column \"post_score\"\n"
   ]
  },
  {
   "cell_type": "code",
   "execution_count": 30,
   "id": "0fcd0406-e750-40de-ba56-a4bb8a9c9bea",
   "metadata": {},
   "outputs": [
    {
     "data": {
      "text/plain": [
       "105.0"
      ]
     },
     "execution_count": 30,
     "metadata": {},
     "output_type": "execute_result"
    }
   ],
   "source": [
    "df['post_score'].max()"
   ]
  },
  {
   "cell_type": "code",
   "execution_count": 31,
   "id": "ff563d8a-2597-4eb6-a0be-a2d91941f5ad",
   "metadata": {},
   "outputs": [
    {
     "data": {
      "text/plain": [
       "51.0"
      ]
     },
     "execution_count": 31,
     "metadata": {},
     "output_type": "execute_result"
    }
   ],
   "source": [
    "df['post_score'].min()"
   ]
  },
  {
   "cell_type": "code",
   "execution_count": 32,
   "id": "1e3810d1-51c1-4621-bca5-cb89b3a9e6e7",
   "metadata": {},
   "outputs": [
    {
     "data": {
      "text/plain": [
       "75.16864864864864"
      ]
     },
     "execution_count": 32,
     "metadata": {},
     "output_type": "execute_result"
    }
   ],
   "source": [
    "df['post_score'].mean()"
   ]
  },
  {
   "cell_type": "code",
   "execution_count": 33,
   "id": "0c1b7276-f4b6-4d5e-9135-b882bdaf5e5e",
   "metadata": {},
   "outputs": [
    {
     "data": {
      "text/plain": [
       "0    76.0\n",
       "Name: post_score, dtype: float64"
      ]
     },
     "execution_count": 33,
     "metadata": {},
     "output_type": "execute_result"
    }
   ],
   "source": [
    "df['post_score'].mode()"
   ]
  },
  {
   "cell_type": "markdown",
   "id": "7e2346a8-2088-4cde-8774-685056a44c61",
   "metadata": {},
   "source": [
    "### 🔎 Insights: \n",
    "- Highest post-score (before taking courses) is 105\n",
    "- Lowest post-score is 51\n",
    "- Mean score of all students after taking courses is around 75.1\n",
    "- Mode shows most students scored 76 after taking courses "
   ]
  },
  {
   "cell_type": "markdown",
   "id": "815230b9-eaea-4b9d-928a-382e1c39eed1",
   "metadata": {},
   "source": [
    "### COMPARISON OF PRE-SCORE AND POST-SCORE STATISTICS\n",
    "- After taking courses mean score of students increased from 49.5 to 75.1\n",
    "- Lowest score before taking courses was 1.02 and after taking courses was 51.\n",
    "- Both these results suggests that students performace got far better after taking courses"
   ]
  },
  {
   "cell_type": "code",
   "execution_count": null,
   "id": "e41d53ac-1f91-427d-b5ac-1f51566bd398",
   "metadata": {},
   "outputs": [],
   "source": []
  },
  {
   "cell_type": "markdown",
   "id": "e6ae0298-09b7-4428-b87a-b782b29d7bab",
   "metadata": {},
   "source": [
    "### 🔹 Exploring column \"pre_requirement\"\n"
   ]
  },
  {
   "cell_type": "code",
   "execution_count": 34,
   "id": "8d0ce057-061c-4307-b5b6-f2c0d8004131",
   "metadata": {},
   "outputs": [
    {
     "data": {
      "text/plain": [
       "pre_requirement\n",
       "None            891\n",
       "Beginner        654\n",
       "Intermediate    305\n",
       "Name: count, dtype: int64"
      ]
     },
     "execution_count": 34,
     "metadata": {},
     "output_type": "execute_result"
    }
   ],
   "source": [
    "df['pre_requirement'].value_counts()"
   ]
  },
  {
   "cell_type": "markdown",
   "id": "f9283599-ce69-47d3-a489-958e52dbb3f1",
   "metadata": {},
   "source": [
    "### 🔎 Insights: \n",
    "- 891 courses had 'No prior' requirement\n",
    "- 654 courses had 'Beginner' level requirement\n",
    "- 305 courses had 'Intermediate' level requirement"
   ]
  },
  {
   "cell_type": "markdown",
   "id": "189de920-f07e-431d-b93b-1e6ab1be27b5",
   "metadata": {},
   "source": [
    "### 🔹 Exploring column \"department\"\n"
   ]
  },
  {
   "cell_type": "code",
   "execution_count": 35,
   "id": "84129dbd-c717-46cf-a832-c6b281d14cc3",
   "metadata": {},
   "outputs": [
    {
     "data": {
      "text/plain": [
       "department\n",
       "Technology     719\n",
       "Science        472\n",
       "Mathematics    220\n",
       "Math           220\n",
       "Engineering    219\n",
       "Name: count, dtype: int64"
      ]
     },
     "execution_count": 35,
     "metadata": {},
     "output_type": "execute_result"
    }
   ],
   "source": [
    "df['department'].value_counts()"
   ]
  },
  {
   "cell_type": "markdown",
   "id": "10c56858-84f7-4604-b515-f215f92e8a6c",
   "metadata": {},
   "source": [
    "### 🔎 Insights: \n",
    "- 719 courses were offered by 'Technology' Department\n",
    "- 471 courses were offered by 'Science' Department\n",
    "- 220 courses were offered by 'Mathmetics' Departmnet\n",
    "- 219 courses were offered by 'Engineering' Department"
   ]
  },
  {
   "cell_type": "code",
   "execution_count": null,
   "id": "e84a5a40-203d-4533-9af2-4be37d93d9c1",
   "metadata": {},
   "outputs": [],
   "source": []
  },
  {
   "cell_type": "markdown",
   "id": "85205af1-77a4-4724-87b5-49a00347cb3b",
   "metadata": {},
   "source": [
    "## 🟡 STEP 03: Drawing Insights from Multiple Columns\n",
    "- Understanding the distribution and relationships between columns"
   ]
  },
  {
   "cell_type": "markdown",
   "id": "8b0c60e7-61da-4385-982d-2a7ee83a4160",
   "metadata": {},
   "source": [
    "### 🔹 Finding insights from columns \"enrollment_count\" and \"course_type\"\n"
   ]
  },
  {
   "cell_type": "code",
   "execution_count": 81,
   "id": "90ec5d1c-f709-4b89-ba6d-71b423d3676f",
   "metadata": {},
   "outputs": [
    {
     "data": {
      "text/plain": [
       "course_type\n",
       "classroom     80954\n",
       "online       347442\n",
       "Name: enrollment_count, dtype: int64"
      ]
     },
     "execution_count": 81,
     "metadata": {},
     "output_type": "execute_result"
    }
   ],
   "source": [
    " df.groupby('course_type')['enrollment_count'].sum()"
   ]
  },
  {
   "cell_type": "markdown",
   "id": "165528a5-d01b-4acb-af61-97d462571495",
   "metadata": {},
   "source": [
    "### 🔎 Insights: \n",
    "- More number of students got enrolled in online courses (347442) than classroom courses (80954)"
   ]
  },
  {
   "cell_type": "code",
   "execution_count": null,
   "id": "7017ba06-9b83-4846-b514-c8b067d36550",
   "metadata": {},
   "outputs": [],
   "source": []
  },
  {
   "cell_type": "markdown",
   "id": "2c3f0aaa-7f8a-49cd-b0e3-85a3b2fa48e7",
   "metadata": {},
   "source": [
    "### 🔹 Finding insights from columns \"post_score\" and \"course_type\"\n"
   ]
  },
  {
   "cell_type": "code",
   "execution_count": 38,
   "id": "771431b8-837c-4bbe-a207-190bab838369",
   "metadata": {},
   "outputs": [
    {
     "data": {
      "text/plain": [
       "post_score      105.0\n",
       "course_type    online\n",
       "dtype: object"
      ]
     },
     "execution_count": 38,
     "metadata": {},
     "output_type": "execute_result"
    }
   ],
   "source": [
    "df[['post_score','course_type']].max()"
   ]
  },
  {
   "cell_type": "code",
   "execution_count": 39,
   "id": "a5f69d45-fbef-4aaf-be16-c73b611e36a1",
   "metadata": {},
   "outputs": [
    {
     "data": {
      "text/plain": [
       "post_score          51.0\n",
       "course_type    classroom\n",
       "dtype: object"
      ]
     },
     "execution_count": 39,
     "metadata": {},
     "output_type": "execute_result"
    }
   ],
   "source": [
    "df[['post_score','course_type']].min()"
   ]
  },
  {
   "cell_type": "markdown",
   "id": "6304e43a-dc5f-4a3f-9993-6ef0f83593a1",
   "metadata": {},
   "source": [
    "### 🔎 Insights: \n",
    "- The student who got highest post-score i.e 105 took online course\n",
    "- The student who got lowest post-score i.e 51 took in-person course"
   ]
  },
  {
   "cell_type": "code",
   "execution_count": null,
   "id": "5efd8a5e-9361-4406-b176-283a85b45750",
   "metadata": {},
   "outputs": [],
   "source": []
  },
  {
   "cell_type": "markdown",
   "id": "f01c5148-1bb0-4eee-8fb6-c571b9105c5a",
   "metadata": {},
   "source": [
    "### 🔹 Finding insights from columns \"pre_requirement\" and \"course_type\"\n"
   ]
  },
  {
   "cell_type": "code",
   "execution_count": 49,
   "id": "1e3b71de-d3c6-42e3-8456-d2184a33780e",
   "metadata": {},
   "outputs": [
    {
     "data": {
      "text/plain": [
       "course_type\n",
       "online       1375\n",
       "classroom     475\n",
       "Name: count, dtype: int64"
      ]
     },
     "execution_count": 49,
     "metadata": {},
     "output_type": "execute_result"
    }
   ],
   "source": [
    "df['course_type'].value_counts()"
   ]
  },
  {
   "cell_type": "code",
   "execution_count": 40,
   "id": "964b9bf1-c992-4fb5-95e2-b5382d3eae07",
   "metadata": {},
   "outputs": [
    {
     "data": {
      "text/plain": [
       "course_type  pre_requirement\n",
       "classroom    Beginner           192\n",
       "             Intermediate       171\n",
       "             None               112\n",
       "online       None               779\n",
       "             Beginner           462\n",
       "             Intermediate       134\n",
       "Name: count, dtype: int64"
      ]
     },
     "execution_count": 40,
     "metadata": {},
     "output_type": "execute_result"
    }
   ],
   "source": [
    "df.groupby('course_type')['pre_requirement'].value_counts()"
   ]
  },
  {
   "cell_type": "markdown",
   "id": "4880ff58-433a-4640-ae3c-8e3f4f052f00",
   "metadata": {},
   "source": [
    "### 🔎 Insights: \n",
    "Out of 1375 online courses :\n",
    "  - 462 had Pre-Requirement of \"Beginner\" level\n",
    "  - 134 had Pre-Requirement of \"Intermediate\" level\n",
    "  - 779 had 'No' Pre-Requirement\n",
    "\n",
    "Out of 475 classroom courses :\n",
    "  - 192 had Pre-Requirement of \"Beginner\" level\n",
    "  - 171 had Pre-Requirement of \"Inermediate\" level\n",
    "  - 112 had 'No' Pre-Requirement\n",
    "  \n",
    "### 🔎 Comparison of Online and Classroom courses in terms of Pre-Requirement\n",
    "   - Majority of online courses (779 out of 1375) have no pre-requirements, which makes them accessible.\n",
    "   - Most classroom courses (192 out of 475) require a beginner level.\n"
   ]
  },
  {
   "cell_type": "code",
   "execution_count": null,
   "id": "3aa2a405-731c-4e42-b3cc-f4ff02ab8c5c",
   "metadata": {},
   "outputs": [],
   "source": []
  },
  {
   "cell_type": "markdown",
   "id": "98812b83-47e9-4538-83a2-0b1e95f35c43",
   "metadata": {},
   "source": [
    "### 🔹 Finding insights from columns \"department\" and \"course_type\"\n"
   ]
  },
  {
   "cell_type": "code",
   "execution_count": 52,
   "id": "26e407b2-55d0-42d8-bdf8-84cf400c5eb1",
   "metadata": {},
   "outputs": [
    {
     "data": {
      "text/plain": [
       "course_type\n",
       "online       1375\n",
       "classroom     475\n",
       "Name: count, dtype: int64"
      ]
     },
     "execution_count": 52,
     "metadata": {},
     "output_type": "execute_result"
    }
   ],
   "source": [
    "df['course_type'].value_counts()"
   ]
  },
  {
   "cell_type": "code",
   "execution_count": 41,
   "id": "c77a3b68-66aa-4e1a-8ad0-9666178efcbe",
   "metadata": {},
   "outputs": [
    {
     "data": {
      "text/plain": [
       "course_type  department \n",
       "classroom    Science        178\n",
       "             Engineering    125\n",
       "             Technology      82\n",
       "             Mathematics     48\n",
       "             Math            42\n",
       "online       Technology     637\n",
       "             Science        294\n",
       "             Math           178\n",
       "             Mathematics    172\n",
       "             Engineering     94\n",
       "Name: count, dtype: int64"
      ]
     },
     "execution_count": 41,
     "metadata": {},
     "output_type": "execute_result"
    }
   ],
   "source": [
    "df.groupby('course_type')['department'].value_counts()\n",
    "# max inperson by sc and min by maths\n",
    "# max online by tech and min by eng"
   ]
  },
  {
   "cell_type": "markdown",
   "id": "70671ccc-94e9-46c7-aeeb-a6cafcad7ec3",
   "metadata": {},
   "source": [
    "### 🔎 Insights: \n",
    "- Majority of (178 out of 475) Classroom courses are offered by 'Science department'\n",
    "- Majority of (637 out of 1375) Online courses are offered by 'Technology department'\n",
    "- Least (42 out of 475) Classroom courses are offered by 'Math department'\n",
    "- Least (94 out of 1375) Online courses are offered by 'Engineering department'"
   ]
  },
  {
   "cell_type": "code",
   "execution_count": null,
   "id": "2723db9f-e34b-47a5-97f8-fcdab7551efe",
   "metadata": {},
   "outputs": [],
   "source": []
  },
  {
   "cell_type": "markdown",
   "id": "02e257d9-719f-4dd6-a025-02d94c9d9b4e",
   "metadata": {},
   "source": [
    "## FINDING WHAT CONTRIBUTES TO HIGHER ENROLLMENT?\n"
   ]
  },
  {
   "cell_type": "markdown",
   "id": "05f1e675-3944-4a47-b044-d259378a8002",
   "metadata": {},
   "source": [
    "### 🔹 Finding the impact of \"course_type\" on \"enrollment_count\"\n"
   ]
  },
  {
   "cell_type": "code",
   "execution_count": 54,
   "id": "3ebd1056-1e45-4205-8e37-67587f3966de",
   "metadata": {},
   "outputs": [],
   "source": [
    "\n",
    "dff = df.groupby(['enrollment_count', 'course_type']).size().reset_index(name='count')\n"
   ]
  },
  {
   "cell_type": "code",
   "execution_count": 55,
   "id": "bf69f50d-36c3-4acd-95d8-388e306d129f",
   "metadata": {},
   "outputs": [
    {
     "data": {
      "text/html": [
       "<div>\n",
       "<style scoped>\n",
       "    .dataframe tbody tr th:only-of-type {\n",
       "        vertical-align: middle;\n",
       "    }\n",
       "\n",
       "    .dataframe tbody tr th {\n",
       "        vertical-align: top;\n",
       "    }\n",
       "\n",
       "    .dataframe thead th {\n",
       "        text-align: right;\n",
       "    }\n",
       "</style>\n",
       "<table border=\"1\" class=\"dataframe\">\n",
       "  <thead>\n",
       "    <tr style=\"text-align: right;\">\n",
       "      <th></th>\n",
       "      <th>enrollment_count</th>\n",
       "      <th>course_type</th>\n",
       "      <th>count</th>\n",
       "    </tr>\n",
       "  </thead>\n",
       "  <tbody>\n",
       "    <tr>\n",
       "      <th>44</th>\n",
       "      <td>267</td>\n",
       "      <td>online</td>\n",
       "      <td>3</td>\n",
       "    </tr>\n",
       "    <tr>\n",
       "      <th>43</th>\n",
       "      <td>266</td>\n",
       "      <td>online</td>\n",
       "      <td>27</td>\n",
       "    </tr>\n",
       "    <tr>\n",
       "      <th>42</th>\n",
       "      <td>262</td>\n",
       "      <td>online</td>\n",
       "      <td>1</td>\n",
       "    </tr>\n",
       "    <tr>\n",
       "      <th>41</th>\n",
       "      <td>261</td>\n",
       "      <td>online</td>\n",
       "      <td>444</td>\n",
       "    </tr>\n",
       "    <tr>\n",
       "      <th>40</th>\n",
       "      <td>258</td>\n",
       "      <td>online</td>\n",
       "      <td>3</td>\n",
       "    </tr>\n",
       "    <tr>\n",
       "      <th>39</th>\n",
       "      <td>257</td>\n",
       "      <td>online</td>\n",
       "      <td>43</td>\n",
       "    </tr>\n",
       "    <tr>\n",
       "      <th>38</th>\n",
       "      <td>256</td>\n",
       "      <td>online</td>\n",
       "      <td>169</td>\n",
       "    </tr>\n",
       "    <tr>\n",
       "      <th>37</th>\n",
       "      <td>255</td>\n",
       "      <td>online</td>\n",
       "      <td>16</td>\n",
       "    </tr>\n",
       "    <tr>\n",
       "      <th>36</th>\n",
       "      <td>252</td>\n",
       "      <td>online</td>\n",
       "      <td>10</td>\n",
       "    </tr>\n",
       "    <tr>\n",
       "      <th>35</th>\n",
       "      <td>251</td>\n",
       "      <td>online</td>\n",
       "      <td>276</td>\n",
       "    </tr>\n",
       "    <tr>\n",
       "      <th>34</th>\n",
       "      <td>250</td>\n",
       "      <td>online</td>\n",
       "      <td>1</td>\n",
       "    </tr>\n",
       "    <tr>\n",
       "      <th>33</th>\n",
       "      <td>249</td>\n",
       "      <td>online</td>\n",
       "      <td>1</td>\n",
       "    </tr>\n",
       "    <tr>\n",
       "      <th>32</th>\n",
       "      <td>248</td>\n",
       "      <td>online</td>\n",
       "      <td>4</td>\n",
       "    </tr>\n",
       "    <tr>\n",
       "      <th>31</th>\n",
       "      <td>247</td>\n",
       "      <td>online</td>\n",
       "      <td>18</td>\n",
       "    </tr>\n",
       "    <tr>\n",
       "      <th>30</th>\n",
       "      <td>246</td>\n",
       "      <td>online</td>\n",
       "      <td>112</td>\n",
       "    </tr>\n",
       "    <tr>\n",
       "      <th>29</th>\n",
       "      <td>245</td>\n",
       "      <td>online</td>\n",
       "      <td>6</td>\n",
       "    </tr>\n",
       "    <tr>\n",
       "      <th>28</th>\n",
       "      <td>242</td>\n",
       "      <td>online</td>\n",
       "      <td>10</td>\n",
       "    </tr>\n",
       "    <tr>\n",
       "      <th>27</th>\n",
       "      <td>241</td>\n",
       "      <td>online</td>\n",
       "      <td>137</td>\n",
       "    </tr>\n",
       "    <tr>\n",
       "      <th>26</th>\n",
       "      <td>240</td>\n",
       "      <td>online</td>\n",
       "      <td>2</td>\n",
       "    </tr>\n",
       "    <tr>\n",
       "      <th>25</th>\n",
       "      <td>238</td>\n",
       "      <td>online</td>\n",
       "      <td>1</td>\n",
       "    </tr>\n",
       "  </tbody>\n",
       "</table>\n",
       "</div>"
      ],
      "text/plain": [
       "    enrollment_count course_type  count\n",
       "44               267      online      3\n",
       "43               266      online     27\n",
       "42               262      online      1\n",
       "41               261      online    444\n",
       "40               258      online      3\n",
       "39               257      online     43\n",
       "38               256      online    169\n",
       "37               255      online     16\n",
       "36               252      online     10\n",
       "35               251      online    276\n",
       "34               250      online      1\n",
       "33               249      online      1\n",
       "32               248      online      4\n",
       "31               247      online     18\n",
       "30               246      online    112\n",
       "29               245      online      6\n",
       "28               242      online     10\n",
       "27               241      online    137\n",
       "26               240      online      2\n",
       "25               238      online      1"
      ]
     },
     "execution_count": 55,
     "metadata": {},
     "output_type": "execute_result"
    }
   ],
   "source": [
    "dff = dff.sort_values(by='enrollment_count', ascending=False)\n",
    "dff.head(20)\n"
   ]
  },
  {
   "cell_type": "markdown",
   "id": "13bff657-5b0b-4c34-a011-83662936b6f0",
   "metadata": {},
   "source": [
    "### 🔎 Results: \n",
    "- Top 20 Highest enrollments happened when university offered 'ONLINE COURSES'\n",
    "- We can safely sum up that 'ONLINE COURSES' play and important role in having high enrollments"
   ]
  },
  {
   "cell_type": "code",
   "execution_count": null,
   "id": "cb23e015-39ca-46a4-95b5-d2736a949544",
   "metadata": {},
   "outputs": [],
   "source": []
  },
  {
   "cell_type": "markdown",
   "id": "71d48733-4030-4726-9eaf-d66a5b7d8023",
   "metadata": {},
   "source": [
    "### 🔹 Finding the impact of \"department\" on \"enrollment_count\"\n"
   ]
  },
  {
   "cell_type": "code",
   "execution_count": 93,
   "id": "9a9a1a5f-b80f-4a81-bbe5-c0cd94252c14",
   "metadata": {},
   "outputs": [
    {
     "data": {
      "text/plain": [
       "department\n",
       "Engineering     46065\n",
       "Math            51865\n",
       "Mathematics     51296\n",
       "Science        100572\n",
       "Technology     178598\n",
       "Name: enrollment_count, dtype: int64"
      ]
     },
     "execution_count": 93,
     "metadata": {},
     "output_type": "execute_result"
    }
   ],
   "source": [
    "df.groupby('department')['enrollment_count'].sum()\n"
   ]
  },
  {
   "cell_type": "code",
   "execution_count": 95,
   "id": "b918e0ac-71e6-420d-af07-a4eedc69d2ab",
   "metadata": {},
   "outputs": [
    {
     "data": {
      "text/plain": [
       "178598"
      ]
     },
     "execution_count": 95,
     "metadata": {},
     "output_type": "execute_result"
    }
   ],
   "source": [
    "df.groupby('department')['enrollment_count'].sum().max()\n"
   ]
  },
  {
   "cell_type": "markdown",
   "id": "c39dcff3-47c5-43d2-8da8-33bd0ff16432",
   "metadata": {},
   "source": [
    "### 🔎 Results: \n",
    "- Highest number of enrollments happened when 'ONLINE COURSES' are offered by 'Technology Deparmtnet'\n",
    "- We can safely say that when technology department offers online courses, Students turned out is highest."
   ]
  },
  {
   "cell_type": "markdown",
   "id": "dab2342c-a5ef-4f6b-8fdd-fedbaf8e0898",
   "metadata": {},
   "source": [
    "### 🔹 Finding the impact of \"pre_requirement\" on \"enrollment_count\"\n"
   ]
  },
  {
   "cell_type": "code",
   "execution_count": 94,
   "id": "4959752d-02cf-410a-be16-47c0b47f14f7",
   "metadata": {},
   "outputs": [
    {
     "data": {
      "text/plain": [
       "pre_requirement\n",
       "Beginner        147283\n",
       "Intermediate     59483\n",
       "None            221630\n",
       "Name: enrollment_count, dtype: int64"
      ]
     },
     "execution_count": 94,
     "metadata": {},
     "output_type": "execute_result"
    }
   ],
   "source": [
    "df.groupby('pre_requirement')['enrollment_count'].sum()\n"
   ]
  },
  {
   "cell_type": "code",
   "execution_count": 96,
   "id": "112e42b3-bf2c-4c31-a17d-8175261b8b0c",
   "metadata": {},
   "outputs": [
    {
     "data": {
      "text/plain": [
       "221630"
      ]
     },
     "execution_count": 96,
     "metadata": {},
     "output_type": "execute_result"
    }
   ],
   "source": [
    "df.groupby('pre_requirement')['enrollment_count'].sum().max()"
   ]
  },
  {
   "cell_type": "markdown",
   "id": "4f924458-02e3-4046-9ffb-9a2fc2b671c3",
   "metadata": {},
   "source": [
    "### 🔎 Results: \n",
    "- Highest number of students got enroll when there's no prior course requirement.\n",
    "- We can safely sum up that when there's no prior requirements for online courses, Students turned out is highest."
   ]
  },
  {
   "cell_type": "code",
   "execution_count": null,
   "id": "089ee0cd-7318-4c46-abbd-8b49b3f9bb05",
   "metadata": {},
   "outputs": [],
   "source": []
  },
  {
   "cell_type": "markdown",
   "id": "fe7777cf-d0a6-43bf-8f59-d57f8320e52e",
   "metadata": {},
   "source": [
    "## 🟡 STEP 04: Visualizing the Major Results\n"
   ]
  },
  {
   "cell_type": "markdown",
   "id": "b6c20475-37b5-4c40-9edb-da9db3e41840",
   "metadata": {},
   "source": [
    "#### 🔹 Visualizing the impact of \"course_type\" on \"enrollment_count\"\n",
    "Since we have to compare categorical and numerical data, Bar plot would be most suitable."
   ]
  },
  {
   "cell_type": "code",
   "execution_count": 80,
   "id": "a6785920-5911-4557-aecd-f9bcdac6b028",
   "metadata": {},
   "outputs": [
    {
     "data": {
      "text/plain": [
       "course_type\n",
       "classroom     80954\n",
       "online       347442\n",
       "Name: enrollment_count, dtype: int64"
      ]
     },
     "execution_count": 80,
     "metadata": {},
     "output_type": "execute_result"
    }
   ],
   "source": [
    "total_enrollments = df.groupby('course_type')['enrollment_count'].sum()\n",
    "total_enrollments"
   ]
  },
  {
   "cell_type": "code",
   "execution_count": 88,
   "id": "5c94d9ed-9b0d-40ac-adb5-aed408c0b706",
   "metadata": {},
   "outputs": [
    {
     "data": {
      "image/png": "[encoded data removed]",
      "text/plain": [
       "<Figure size 640x480 with 1 Axes>"
      ]
     },
     "metadata": {},
     "output_type": "display_data"
    }
   ],
   "source": [
    "\n",
    "total_enrollments.plot(kind='bar', color='green')\n",
    "plt.xlabel('Course Type')\n",
    "plt.ylabel('Total Enrollment Count')\n",
    "plt.title('Total Enrollment Count by Course Type',fontsize=16,pad=25)\n",
    "plt.xticks(rotation=0)\n",
    "\n",
    "plt.show()"
   ]
  },
  {
   "cell_type": "code",
   "execution_count": null,
   "id": "653589bd-0298-49e1-9d34-482f8a446aaa",
   "metadata": {},
   "outputs": [],
   "source": []
  },
  {
   "cell_type": "markdown",
   "id": "f0c2b0b1-11b4-4e4f-8503-84e667fc22e1",
   "metadata": {},
   "source": [
    "### 🔹 Visualizing the impact of \"department\" on \"enrollment_count\"\n",
    "Agian, we have to compare categorical and numerical data, so using bar chart is more approproate"
   ]
  },
  {
   "cell_type": "code",
   "execution_count": 92,
   "id": "41c5c3c0-af78-4371-b7be-6392a3385bb3",
   "metadata": {},
   "outputs": [
    {
     "data": {
      "text/plain": [
       "department\n",
       "Engineering     46065\n",
       "Math            51865\n",
       "Mathematics     51296\n",
       "Science        100572\n",
       "Technology     178598\n",
       "Name: enrollment_count, dtype: int64"
      ]
     },
     "execution_count": 92,
     "metadata": {},
     "output_type": "execute_result"
    }
   ],
   "source": [
    "df.groupby('department')['enrollment_count'].sum()\n"
   ]
  },
  {
   "cell_type": "code",
   "execution_count": 91,
   "id": "3609cd31-41ad-4ae0-8f94-850a2b786d81",
   "metadata": {},
   "outputs": [
    {
     "data": {
      "image/png": "[encoded data removed]",
      "text/plain": [
       "<Figure size 640x480 with 1 Axes>"
      ]
     },
     "metadata": {},
     "output_type": "display_data"
    }
   ],
   "source": [
    "total_enrollments_by_department = df.groupby('department')['enrollment_count'].sum()\n",
    "\n",
    "total_enrollments_by_department.plot(kind='bar', color='orange')\n",
    "plt.xlabel('Department')\n",
    "plt.ylabel('Total Enrollment Count')\n",
    "\n",
    "plt.title('Total Enrollment Count by Department',fontsize=16,pad =25)\n",
    "plt.xticks(rotation=0)\n",
    "\n",
    "plt.show()\n"
   ]
  },
  {
   "cell_type": "code",
   "execution_count": null,
   "id": "4985f442-a3fa-4518-9626-99b2700eb90b",
   "metadata": {},
   "outputs": [],
   "source": []
  },
  {
   "cell_type": "markdown",
   "id": "8116e4ca-5415-424f-bb00-0ebab4d18500",
   "metadata": {},
   "source": [
    "### 🔹 Visualizing the impact of \"pre_requirement\" on \"enrollment_count\""
   ]
  },
  {
   "cell_type": "code",
   "execution_count": 98,
   "id": "1446d51f-0d63-4ef0-a5f7-023a65ab6e14",
   "metadata": {},
   "outputs": [
    {
     "data": {
      "text/plain": [
       "pre_requirement\n",
       "Beginner        147283\n",
       "Intermediate     59483\n",
       "None            221630\n",
       "Name: enrollment_count, dtype: int64"
      ]
     },
     "execution_count": 98,
     "metadata": {},
     "output_type": "execute_result"
    }
   ],
   "source": [
    "total_enrollments_by_pre_req = df.groupby('pre_requirement')['enrollment_count'].sum()\n",
    "total_enrollments_by_pre_req"
   ]
  },
  {
   "cell_type": "code",
   "execution_count": 101,
   "id": "f8550b3a-4395-472e-a188-f8fbc38df307",
   "metadata": {},
   "outputs": [
    {
     "data": {
      "image/png": "[encoded data removed]",
      "text/plain": [
       "<Figure size 640x480 with 1 Axes>"
      ]
     },
     "metadata": {},
     "output_type": "display_data"
    }
   ],
   "source": [
    "\n",
    "total_enrollments_by_pre_req.plot(kind='bar', color='blue')\n",
    "\n",
    "plt.xlabel('Pre-Requirement')\n",
    "plt.ylabel('Total Enrollment Count')\n",
    "\n",
    "plt.title('Total Enrollment Count by Pre-Requirement',pad=25,fontsize=16)\n",
    "plt.xticks(rotation=0)\n",
    "plt.show()\n"
   ]
  },
  {
   "cell_type": "code",
   "execution_count": null,
   "id": "ba82e4a6-74ff-42ae-991a-70338bee682b",
   "metadata": {},
   "outputs": [],
   "source": []
  },
  {
   "cell_type": "markdown",
   "id": "e029afb4-9af2-4ddd-b91f-a73572135914",
   "metadata": {},
   "source": [
    "# 🟡 SUMMARY POINTS - MAJOR INSIGHTS \n",
    "### COURSES\n",
    "- Total: 1850 Courses:\n",
    "   - Online: 1375\n",
    "   - Classroom: 475\n",
    "  \n",
    "- Max courses in a year: 169\n",
    "- Min courses in a year: 140\n",
    "  \n",
    "### YEAR\n",
    "- Range: 2011 to 2022\n",
    "\n",
    "### STUDENTS ENROLLMENT\n",
    "- TOTAL: 428396\n",
    "  -  Online: 347442\n",
    "  - Classroom: 80954\n",
    "  \n",
    "- Max number of students enrolled in a year: 267\n",
    "- Min number of students enrolled in a year: 154\n",
    "\n",
    "### PRE-SCORE\n",
    "- Highest: 100\n",
    "- Lowest: 1.02\n",
    "- Mean: 49.5\n",
    "\n",
    "### POST-SCORE\n",
    "- Highest: 105\n",
    "- Lowest: 51\n",
    "- Mean: 75.1\n",
    "\n",
    "### PRIOR-REQUIREMENT\n",
    "-  No Requirement: 891 courses\n",
    "-  Beginner:  654 courses \n",
    "- Intermediate: 305 courses\n",
    "\n",
    "### DEPARTMENT\n",
    "- Technology: 719 courses \n",
    "- Science: 471 courses \n",
    "- Mathmetics: 220 courses\n",
    "- Engineering: 219 courses \n",
    "\n",
    "### FURTHER POINTS\n",
    "- Majority of (178 out of 475) Classroom courses are offered by 'Science department'\n",
    "- Majority of (637 out of 1375) Online courses are offered by 'Technology department'\n",
    "- Least (42 out of 475) Classroom courses are offered by 'Math department'\n",
    "- Least (94 out of 1375) Online courses are offered by 'Engineering department'\n",
    "- Top 20 Highest enrollments happened when university offered 'ONLINE COURSES'\n",
    "- Highest number of enrollments happened when 'ONLINE COURSES' are offered by 'Technology Department'\n",
    "- Highest number of students got enroll when there's no prior course requirement.\n"
   ]
  },
  {
   "cell_type": "code",
   "execution_count": null,
   "id": "f3d5b935-7d81-4957-af9a-15ade9f74331",
   "metadata": {},
   "outputs": [],
   "source": []
  }
 ],
 "metadata": {
  "kernelspec": {
   "display_name": "Python 3 (ipykernel)",
   "language": "python",
   "name": "python3"
  },
  "language_info": {
   "codemirror_mode": {
    "name": "ipython",
    "version": 3
   },
   "file_extension": ".py",
   "mimetype": "text/x-python",
   "name": "python",
   "nbconvert_exporter": "python",
   "pygments_lexer": "ipython3",
   "version": "3.11.7"
  }
 },
 "nbformat": 4,
 "nbformat_minor": 5
}
