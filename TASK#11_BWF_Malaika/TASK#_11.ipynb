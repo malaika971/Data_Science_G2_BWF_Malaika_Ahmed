{
 "cells": [
  {
   "cell_type": "markdown",
   "id": "5ab8db03-1726-42af-b718-89bc8d1f3ff2",
   "metadata": {},
   "source": [
    "# 🔴 Task 11: NumPy advanced operations (indexing, slicing, broadcasting)\r\n"
   ]
  },
  {
   "cell_type": "markdown",
   "id": "6a603425-36fc-48e1-8826-783cf9c75cf9",
   "metadata": {},
   "source": [
    "## Indexing and Slicing\r\n"
   ]
  },
  {
   "cell_type": "markdown",
   "id": "62501e35-c498-4098-a822-e723e01a5a96",
   "metadata": {},
   "source": [
    "#### 7.Given a 2D array of shape (6, 6), extract a 2x2 sub-array starting from the element at position (1, 1).\n"
   ]
  },
  {
   "cell_type": "code",
   "execution_count": 101,
   "id": "226c2b93-0e9a-4125-bc84-6e1a23a76529",
   "metadata": {},
   "outputs": [
    {
     "name": "stdout",
     "output_type": "stream",
     "text": [
      "2D ARRAY \n",
      " [[ 1  2  3  4  5  6]\n",
      " [ 7  8  9 10 11 12]\n",
      " [13 14 15 16 17 18]\n",
      " [19 20 21 22 23 24]\n",
      " [25 26 27 28 29 30]\n",
      " [31 32 33 34 35 36]]\n",
      "\n",
      "\n",
      "2x2 sub-array \n",
      " [[ 8  9]\n",
      " [14 15]]\n"
     ]
    }
   ],
   "source": [
    "import numpy as np\n",
    "array1=np.arange(1,37).reshape(6,6)\n",
    "print(\"2D ARRAY \\n\",array1)\n",
    "\n",
    "print(\"\\n\")\n",
    "\n",
    "x=array1[1:3,1:3]\n",
    "print(\"2x2 sub-array \\n\",x)"
   ]
  },
  {
   "cell_type": "markdown",
   "id": "9e5cc88b-75d9-493b-81f9-0828bc4227f0",
   "metadata": {},
   "source": [
    "#### 8.From a 3D array of shape (3, 2, 1), extract all elements in the first two rows and all columns of the second slice along the third axis.\r\n"
   ]
  },
  {
   "cell_type": "code",
   "execution_count": 102,
   "id": "6a6af182-d19e-460d-9906-f17dd8909c29",
   "metadata": {},
   "outputs": [
    {
     "name": "stdout",
     "output_type": "stream",
     "text": [
      "3D array\n",
      " [[[ 1  2]\n",
      "  [ 3  4]]\n",
      "\n",
      " [[ 5  6]\n",
      "  [ 7  8]]\n",
      "\n",
      " [[ 9 10]\n",
      "  [11 12]]]\n",
      "\n",
      "\n",
      "Extracted rows and columns \n",
      " [[2 4]\n",
      " [6 8]]\n"
     ]
    }
   ],
   "source": [
    "array1=np.arange(1,13).reshape(3,2,2) # Array will be divided into 3 blocks, each block will have 2 rows and 1 column\n",
    "print(\"3D array\\n\",array1)\n",
    "\n",
    "print(\"\\n\")\n",
    "\n",
    "x=array1[0:2,:,1]\n",
    "print(\"Extracted rows and columns \\n\",x)\n"
   ]
  },
  {
   "cell_type": "markdown",
   "id": "28edbdff-3ae7-421c-bcb5-9c9f78e31fab",
   "metadata": {},
   "source": [
    "#### 9.Given an array of integers, use fancy indexing to extract elements at positions [1, 3, 4, 6].\r\n"
   ]
  },
  {
   "cell_type": "code",
   "execution_count": 103,
   "id": "3f6ee75b-b022-4ed2-9ac4-b08a8437e035",
   "metadata": {},
   "outputs": [
    {
     "name": "stdout",
     "output_type": "stream",
     "text": [
      "Array of integers \n",
      " [[31 32  8 32]\n",
      " [26 26  8 23]\n",
      " [ 3 31 16 10]\n",
      " [12 20  4  7]\n",
      " [ 8 14 14 22]\n",
      " [13 28  7  9]\n",
      " [32 19 11 28]\n",
      " [12 27  9  5]]\n",
      "\n",
      "\n",
      "Extracted elements \n",
      " [[26 26  8 23]\n",
      " [12 20  4  7]\n",
      " [ 8 14 14 22]\n",
      " [32 19 11 28]]\n"
     ]
    }
   ],
   "source": [
    "array1=np.random.randint(1,33,size=(8,4))\n",
    "print(\"Array of integers \\n\",array1)\n",
    "print(\"\\n\")\n",
    "print(\"Extracted elements \\n\",array1[[1,3,4,6]])    # Fancy indexing extracts the number of rows in specific order \n"
   ]
  },
  {
   "cell_type": "markdown",
   "id": "b1aed29c-c719-466d-8fa7-d86d43db21ba",
   "metadata": {},
   "source": [
    "#### 10.Given a 2D array, use fancy indexing to select rows [0, 2, 2] and columns [1, 3].\r\n",
    "\n"
   ]
  },
  {
   "cell_type": "code",
   "execution_count": 104,
   "id": "c92f261f-000b-40dd-80b9-bf1b8251f728",
   "metadata": {},
   "outputs": [
    {
     "name": "stdout",
     "output_type": "stream",
     "text": [
      "2D ARRAY \n",
      " [[16  8 20 11]\n",
      " [20 12 10 14]\n",
      " [20 10  4 18]\n",
      " [17  5 18 13]\n",
      " [12  2 17 20]]\n",
      "\n",
      "\n",
      "Extracted rows and columns \n",
      " [[ 8 11]\n",
      " [10 18]\n",
      " [ 5 13]]\n"
     ]
    }
   ],
   "source": [
    "array1=np.random.randint(1,21,size=(5,4))\n",
    "print(\"2D ARRAY \\n\",array1)\n",
    "print(\"\\n\")\n",
    "print(\"Extracted rows and columns \\n\",array1[[0,2,3],:][:,[1,3]]) "
   ]
  },
  {
   "cell_type": "markdown",
   "id": "a68bdfd3-de10-4925-aa6b-0d59036286a4",
   "metadata": {},
   "source": [
    "#### 11.From a 1D array of random integers, extract all elements that are greater than 8.\r\n",
    "\n"
   ]
  },
  {
   "cell_type": "code",
   "execution_count": 106,
   "id": "10dcdc5c-a52f-4010-b60f-8272a05c6117",
   "metadata": {},
   "outputs": [
    {
     "name": "stdout",
     "output_type": "stream",
     "text": [
      "1D array\n",
      " [17  5 19 18  7 19  6  6 13 14]\n",
      "Elements that are > 8\n",
      " [17 19 18 19 13 14]\n"
     ]
    }
   ],
   "source": [
    "array1=np.random.randint(5,20,size=10)\n",
    "print(\"1D array\\n\",array1)\n",
    "\n",
    "x=array1[array1 > 8]\n",
    "print(\"Elements that are > 8\\n\",x)"
   ]
  },
  {
   "cell_type": "markdown",
   "id": "ff5ac6b3-a430-4a67-bc60-4ea9c5c1d27c",
   "metadata": {},
   "source": [
    "#### 12.Given a 2D array of shape (6, 6), replace all elements greater than 13 with the value 0.\r\n"
   ]
  },
  {
   "cell_type": "code",
   "execution_count": 109,
   "id": "98217d91-0670-4ea5-a89f-5e638992674b",
   "metadata": {},
   "outputs": [
    {
     "name": "stdout",
     "output_type": "stream",
     "text": [
      " 2D ARRAY \n",
      " [[11 19 14 18 13  8]\n",
      " [ 8 14 12 18 11 16]\n",
      " [15  3  9 10  2  1]\n",
      " [ 2 18 11  8 17  5]\n",
      " [16  8  4  7 10  1]\n",
      " [11 13  1 16  3  5]]\n",
      "\n",
      "\n",
      "Elements that are > 13\n",
      " [19 14 18 14 18 16 15 18 17 16 16]\n",
      "\n",
      "\n",
      "Zeros inplace of elements > 13 \n",
      " [[11  0  0  0 13  8]\n",
      " [ 8  0 12  0 11  0]\n",
      " [ 0  3  9 10  2  1]\n",
      " [ 2  0 11  8  0  5]\n",
      " [ 0  8  4  7 10  1]\n",
      " [11 13  1  0  3  5]]\n"
     ]
    }
   ],
   "source": [
    "array1=np.random.randint(1,21,size=(6,6))\n",
    "print(\" 2D ARRAY \\n\",array1)\n",
    "print(\"\\n\")\n",
    "\n",
    "x=array1[array1 > 13]\n",
    "print(\"Elements that are > 13\\n\",x)\n",
    "print(\"\\n\")\n",
    "\n",
    "array1[array1>13] = 0\n",
    "print(\"Zeros inplace of elements > 13 \\n\",array1)\n"
   ]
  },
  {
   "cell_type": "markdown",
   "id": "521df0e9-ca19-40df-9531-9e78107eeb93",
   "metadata": {},
   "source": [
    "## Broadcasting"
   ]
  },
  {
   "cell_type": "markdown",
   "id": "179fecba-d02d-4565-906f-aef730c5037b",
   "metadata": {},
   "source": [
    "#### 5.Add a 1D array of shape (3,) to each row of a 2D array of shape (4, 3).\r\n"
   ]
  },
  {
   "cell_type": "code",
   "execution_count": 112,
   "id": "3ce0f7c6-93b7-4a89-8d8f-27feefbccd81",
   "metadata": {},
   "outputs": [
    {
     "name": "stdout",
     "output_type": "stream",
     "text": [
      "1D array \n",
      " [1 2 3]\n",
      "2D array \n",
      " [[ 0  1  2]\n",
      " [ 3  4  5]\n",
      " [ 6  7  8]\n",
      " [ 9 10 11]]\n",
      "\n",
      " Addition of 1D array to each row of 2D array row\n",
      " [[ 1  3  5]\n",
      " [ 4  6  8]\n",
      " [ 7  9 11]\n",
      " [10 12 14]]\n"
     ]
    }
   ],
   "source": [
    "array1=np.array([1,2,3])\n",
    "print(\"1D array \\n\",array1)\n",
    "\n",
    "array2=np.arange(0,12).reshape(4,3)\n",
    "print(\"2D array \\n\",array2)\n",
    "\n",
    "x=array1+array2\n",
    "print(\"\\n Addition of 1D array to each row of 2D array row\\n\", x)"
   ]
  },
  {
   "cell_type": "markdown",
   "id": "5db487e1-e7a2-44c2-8bd4-8eb979763ad2",
   "metadata": {},
   "source": [
    "#### 6.Multiply a 2D array of shape (3, 3) by a 1D array of shape (3,).\r\n"
   ]
  },
  {
   "cell_type": "code",
   "execution_count": 113,
   "id": "dea8294a-2fdf-4fc4-9458-873da2266a8c",
   "metadata": {},
   "outputs": [
    {
     "name": "stdout",
     "output_type": "stream",
     "text": [
      "2D array\n",
      " [[0 1 2]\n",
      " [3 4 5]\n",
      " [6 7 8]]\n",
      "\n",
      "\n",
      "1D array \n",
      " [0 1 2]\n",
      "\n",
      "\n",
      "Multiplication of both arrays\n",
      " [[ 0  1  4]\n",
      " [ 0  4 10]\n",
      " [ 0  7 16]]\n"
     ]
    }
   ],
   "source": [
    "array1=np.arange(0,9).reshape(3,3)\n",
    "print(\"2D array\\n\",array1)\n",
    "\n",
    "print(\"\\n\")\n",
    "\n",
    "array2=np.arange(3).reshape(3)\n",
    "print(\"1D array \\n\",array2)\n",
    "\n",
    "print(\"\\n\")\n",
    "\n",
    "Multiply=array1 * array2\n",
    "print(\"Multiplication of both arrays\\n\",Multiply)"
   ]
  },
  {
   "cell_type": "markdown",
   "id": "174c2e44-f021-4e1f-b56e-1727529c4aa5",
   "metadata": {},
   "source": [
    "#### 7.Create two 2D arrays of shapes (3, 1) and (1, 4) respectively, and perform element-wise addition.\r\n"
   ]
  },
  {
   "cell_type": "code",
   "execution_count": 116,
   "id": "57b9b565-2597-4921-9213-daead1da790e",
   "metadata": {},
   "outputs": [
    {
     "name": "stdout",
     "output_type": "stream",
     "text": [
      "2D array of shape (3,1)\n",
      " [[0]\n",
      " [1]\n",
      " [2]]\n",
      "\n",
      "\n",
      "2D array of shape (1,4)\n",
      " [[0 1 2 3]]\n",
      "Element wise sum \n",
      " [[0 1 2 3]\n",
      " [1 2 3 4]\n",
      " [2 3 4 5]]\n"
     ]
    }
   ],
   "source": [
    "arr1=np.arange(0,3).reshape(3,1)\n",
    "print(\"2D array of shape (3,1)\\n\",arr1)\n",
    "\n",
    "print(\"\\n\")\n",
    "\n",
    "arr2=np.arange(0,4).reshape(1,4)\n",
    "print(\"2D array of shape (1,4)\\n\",arr2)\n",
    "\n",
    "Element_wise_sum=arr1+arr2\n",
    "print(\"Element wise sum \\n\",Element_wise_sum)\n"
   ]
  },
  {
   "cell_type": "markdown",
   "id": "2c6cb1dc-b0b0-4a36-a191-269c7aedd5ad",
   "metadata": {},
   "source": [
    "#### 8.Given a 3D array of shape (2, 3, 4), add a 2D array of shape (3, 4) to each 2D slice along the first axis."
   ]
  },
  {
   "cell_type": "code",
   "execution_count": 117,
   "id": "52fb7cac-3d9f-4cd1-aeb0-c84a864da965",
   "metadata": {},
   "outputs": [
    {
     "name": "stdout",
     "output_type": "stream",
     "text": [
      " 3D array of shape (2, 3, 4)\n",
      " [[[ 0  1  2  3]\n",
      "  [ 4  5  6  7]\n",
      "  [ 8  9 10 11]]\n",
      "\n",
      " [[12 13 14 15]\n",
      "  [16 17 18 19]\n",
      "  [20 21 22 23]]]\n",
      "\n",
      "\n",
      "2D array of shape (3, 4) \n",
      " [[ 0  1  2  3]\n",
      " [ 4  5  6  7]\n",
      " [ 8  9 10 11]]\n",
      "\n",
      "\n",
      "sum of both\n",
      " [[[ 0  2  4  6]\n",
      "  [ 8 10 12 14]\n",
      "  [16 18 20 22]]\n",
      "\n",
      " [[12 14 16 18]\n",
      "  [20 22 24 26]\n",
      "  [28 30 32 34]]]\n"
     ]
    }
   ],
   "source": [
    "arr1=np.arange(24).reshape(2,3,4)\n",
    "print(\" 3D array of shape (2, 3, 4)\\n\",arr1)\n",
    "\n",
    "print(\"\\n\")\n",
    "\n",
    "arr2=np.arange(12).reshape(3,4)\n",
    "print(\"2D array of shape (3, 4) \\n\",arr2)\n",
    "\n",
    "print(\"\\n\")\n",
    "\n",
    "sum=arr1+arr2\n",
    "print(\"sum of both\\n\",sum)"
   ]
  },
  {
   "cell_type": "markdown",
   "id": "3479916c-3a80-4289-898b-49d42abcb788",
   "metadata": {},
   "source": [
    "## More Examples"
   ]
  },
  {
   "cell_type": "markdown",
   "id": "fc79838e-0254-4dbf-9b7d-f0fcd8389e38",
   "metadata": {},
   "source": [
    "#### 7.Given a 2D array, use slicing to extract every second row and every second column, then add a 1D array to each row of the sliced array.\r\n"
   ]
  },
  {
   "cell_type": "code",
   "execution_count": 120,
   "id": "0cbf8374-9a43-4304-a2f7-810c2da23180",
   "metadata": {},
   "outputs": [
    {
     "name": "stdout",
     "output_type": "stream",
     "text": [
      "2D array\n",
      " [[ 0  1  2  3  4]\n",
      " [ 5  6  7  8  9]\n",
      " [10 11 12 13 14]\n",
      " [15 16 17 18 19]\n",
      " [20 21 22 23 24]]\n",
      "\n",
      "\n",
      "1D ARRAY\n",
      " [1 2 3]\n",
      "\n",
      "\n",
      "Extracted rows and columns \n",
      " [[10 12 14]\n",
      " [15 17 19]\n",
      " [20 22 24]]\n",
      "\n",
      "\n",
      "Final Result \n",
      " [[11 14 17]\n",
      " [16 19 22]\n",
      " [21 24 27]]\n"
     ]
    }
   ],
   "source": [
    "import numpy as np\n",
    "arr1=np.arange(25).reshape(5,5)\n",
    "print(\"2D array\\n\",arr1)\n",
    "\n",
    "print(\"\\n\")\n",
    "\n",
    "arr2=np.array([1,2,3])\n",
    "print(\"1D ARRAY\\n\",arr2)\n",
    "\n",
    "print(\"\\n\")\n",
    "\n",
    "x=arr1[2::,::2]\n",
    "print(\"Extracted rows and columns \\n\",x)\n",
    "\n",
    "print(\"\\n\")\n",
    "\n",
    "y=x+arr2\n",
    "print(\"Final Result \\n\",y)"
   ]
  },
  {
   "cell_type": "markdown",
   "id": "2d58d8e8-5518-48c3-b87f-a7e73cad7754",
   "metadata": {},
   "source": [
    "#### 8.From a 3D array of shape (3, 2, 1), extract a sub-array using slicing and then use broadcasting to subtract a 2D array from each slice along the third axis."
   ]
  },
  {
   "cell_type": "code",
   "execution_count": 121,
   "id": "515ef38e-c6f8-4588-87f8-6799bc6ed12e",
   "metadata": {},
   "outputs": [
    {
     "name": "stdout",
     "output_type": "stream",
     "text": [
      "3D array of shape (3, 2, 1)\n",
      " [[[0]\n",
      "  [1]]\n",
      "\n",
      " [[2]\n",
      "  [3]]\n",
      "\n",
      " [[4]\n",
      "  [5]]]\n",
      "\n",
      "\n",
      "sub-array [[1]\n",
      " [2]]\n",
      "\n",
      "\n",
      "After subtraction\n",
      " [[[-1]\n",
      "  [-1]]\n",
      "\n",
      " [[ 1]\n",
      "  [ 1]]\n",
      "\n",
      " [[ 3]\n",
      "  [ 3]]]\n"
     ]
    }
   ],
   "source": [
    "arr1=np.arange(6).reshape(3,2,1)\n",
    "print(\"3D array of shape (3, 2, 1)\\n\",arr1)\n",
    "print(\"\\n\")\n",
    "\n",
    "arr2 = np.array([[1], [2]])\n",
    "print(\"sub-array\",arr2)\n",
    "print(\"\\n\")\n",
    "\n",
    "subtract=arr1-arr2\n",
    "print(\"After subtraction\\n\",subtract)"
   ]
  },
  {
   "cell_type": "markdown",
   "id": "bc677dc4-8025-44e5-b4a9-3232eadb5716",
   "metadata": {},
   "source": [
    "#### 9.Given a 2D array, extract the diagonal elements and create a 1D array.\r\n"
   ]
  },
  {
   "cell_type": "code",
   "execution_count": 122,
   "id": "049d2e60-b93a-4848-b60a-22155f922b6a",
   "metadata": {},
   "outputs": [
    {
     "name": "stdout",
     "output_type": "stream",
     "text": [
      "2D array\n",
      " [[0 1 2]\n",
      " [3 4 5]\n",
      " [6 7 8]]\n",
      "diagonal elements\n",
      " [0 4 8]\n"
     ]
    }
   ],
   "source": [
    "arr1=np.arange(9).reshape(3,3)\n",
    "print(\"2D array\\n\",arr1)\n",
    "\n",
    "x=np.diagonal(arr1)\n",
    "print(\"diagonal elements\\n\",x)"
   ]
  },
  {
   "cell_type": "markdown",
   "id": "db40f421-83b4-4afb-80e7-83dcc2deb6d9",
   "metadata": {},
   "source": [
    "#### 10.Use slicing to reverse the order of elements in each row of a 2D array.\r\n"
   ]
  },
  {
   "cell_type": "code",
   "execution_count": 123,
   "id": "e8537e13-5966-44ab-8cee-6f0ebeb580fb",
   "metadata": {},
   "outputs": [
    {
     "name": "stdout",
     "output_type": "stream",
     "text": [
      "2D array.\n",
      " [[0 1 2]\n",
      " [3 4 5]\n",
      " [6 7 8]]\n",
      "Reverse of array\n",
      " [[2 1 0]\n",
      " [5 4 3]\n",
      " [8 7 6]]\n"
     ]
    }
   ],
   "source": [
    "arr1=np.arange(9).reshape(3,3)\n",
    "print(\"2D array.\\n\",arr1)\n",
    "\n",
    "x=arr1[:,::-1]\n",
    "print(\"Reverse of array\\n\",x)"
   ]
  },
  {
   "cell_type": "markdown",
   "id": "cfbe104c-0edc-4d1c-9a3b-a568a9f3d894",
   "metadata": {},
   "source": [
    "#### 11.Given a 3D array of shape (7, 6, 5), use slicing to extract a sub-array of shape (2, 3, 4) and then use broadcasting to add a 1D array of shape (4,) to each row along the third axis."
   ]
  },
  {
   "cell_type": "code",
   "execution_count": 124,
   "id": "6ddfbc2a-06d7-484b-a289-2b5e5952aea1",
   "metadata": {},
   "outputs": [
    {
     "name": "stdout",
     "output_type": "stream",
     "text": [
      "3D array of shape (7, 6, 5)\n",
      " [[[  0   1   2   3   4]\n",
      "  [  5   6   7   8   9]\n",
      "  [ 10  11  12  13  14]\n",
      "  [ 15  16  17  18  19]\n",
      "  [ 20  21  22  23  24]\n",
      "  [ 25  26  27  28  29]]\n",
      "\n",
      " [[ 30  31  32  33  34]\n",
      "  [ 35  36  37  38  39]\n",
      "  [ 40  41  42  43  44]\n",
      "  [ 45  46  47  48  49]\n",
      "  [ 50  51  52  53  54]\n",
      "  [ 55  56  57  58  59]]\n",
      "\n",
      " [[ 60  61  62  63  64]\n",
      "  [ 65  66  67  68  69]\n",
      "  [ 70  71  72  73  74]\n",
      "  [ 75  76  77  78  79]\n",
      "  [ 80  81  82  83  84]\n",
      "  [ 85  86  87  88  89]]\n",
      "\n",
      " [[ 90  91  92  93  94]\n",
      "  [ 95  96  97  98  99]\n",
      "  [100 101 102 103 104]\n",
      "  [105 106 107 108 109]\n",
      "  [110 111 112 113 114]\n",
      "  [115 116 117 118 119]]\n",
      "\n",
      " [[120 121 122 123 124]\n",
      "  [125 126 127 128 129]\n",
      "  [130 131 132 133 134]\n",
      "  [135 136 137 138 139]\n",
      "  [140 141 142 143 144]\n",
      "  [145 146 147 148 149]]\n",
      "\n",
      " [[150 151 152 153 154]\n",
      "  [155 156 157 158 159]\n",
      "  [160 161 162 163 164]\n",
      "  [165 166 167 168 169]\n",
      "  [170 171 172 173 174]\n",
      "  [175 176 177 178 179]]\n",
      "\n",
      " [[180 181 182 183 184]\n",
      "  [185 186 187 188 189]\n",
      "  [190 191 192 193 194]\n",
      "  [195 196 197 198 199]\n",
      "  [200 201 202 203 204]\n",
      "  [205 206 207 208 209]]]\n",
      "\n",
      "\n",
      "sub-array of shape (2, 3, 4)\n",
      " [[[ 0  1  2  3]\n",
      "  [ 4  5  6  7]\n",
      "  [ 8  9 10 11]]\n",
      "\n",
      " [[12 13 14 15]\n",
      "  [16 17 18 19]\n",
      "  [20 21 22 23]]]\n",
      "\n",
      "\n",
      "1D array of shape (4,)\n",
      " [1 2 3 4]\n",
      "Final Results \n",
      " [[[ 1  3  5  7]\n",
      "  [ 5  7  9 11]\n",
      "  [ 9 11 13 15]]\n",
      "\n",
      " [[13 15 17 19]\n",
      "  [17 19 21 23]\n",
      "  [21 23 25 27]]]\n"
     ]
    }
   ],
   "source": [
    "arr1=np.arange(210).reshape(7,6,5)\n",
    "print(\"3D array of shape (7, 6, 5)\\n\",arr1)\n",
    "print(\"\\n\")\n",
    "sub_array=np.arange(24).reshape(2,3,4)\n",
    "print(\"sub-array of shape (2, 3, 4)\\n\",sub_array)\n",
    "print(\"\\n\")\n",
    "\n",
    "arr2=np.array([1,2,3,4])\n",
    "print(\"1D array of shape (4,)\\n\",arr2)\n",
    "y=sub_array+arr2\n",
    "print(\"Final Results \\n\",y)"
   ]
  },
  {
   "cell_type": "markdown",
   "id": "4ffcd22a-7e2d-4086-a531-3236b89a121b",
   "metadata": {},
   "source": [
    "#### 12.Create a 2D array and use both slicing and broadcasting to set the last column to the sum of the first two columns for each row."
   ]
  },
  {
   "cell_type": "code",
   "execution_count": 126,
   "id": "6c9492e0-322a-4d39-b1e3-d860abce5af5",
   "metadata": {},
   "outputs": [
    {
     "name": "stdout",
     "output_type": "stream",
     "text": [
      "2D array \n",
      " [[ 0  1  2  3  4]\n",
      " [ 5  6  7  8  9]\n",
      " [10 11 12 13 14]]\n",
      "Modified list\n",
      " [[ 0  1  2  3  4]\n",
      " [ 5  6  7  8  9]\n",
      " [ 5  7  9 11 13]]\n"
     ]
    }
   ],
   "source": [
    "\n",
    "array_2d = np.arange(15).reshape(3,5)\n",
    "print(\"2D array \\n\",array_2d)\n",
    "\n",
    "array_2d[-1,: ] = array_2d[0,: ] + array_2d[1,: ]\n",
    "\n",
    "print(\"Modified list\\n\",array_2d)\n",
    "\n",
    "\n"
   ]
  },
  {
   "cell_type": "code",
   "execution_count": null,
   "id": "9df84de6-9ce0-4ae4-8e27-80bfa044b2da",
   "metadata": {},
   "outputs": [],
   "source": []
  }
 ],
 "metadata": {
  "kernelspec": {
   "display_name": "Python 3 (ipykernel)",
   "language": "python",
   "name": "python3"
  },
  "language_info": {
   "codemirror_mode": {
    "name": "ipython",
    "version": 3
   },
   "file_extension": ".py",
   "mimetype": "text/x-python",
   "name": "python",
   "nbconvert_exporter": "python",
   "pygments_lexer": "ipython3",
   "version": "3.11.7"
  }
 },
 "nbformat": 4,
 "nbformat_minor": 5
}
