{
 "cells": [
  {
   "cell_type": "code",
   "execution_count": 1,
   "id": "faefca1a-0751-459c-b704-873bca9eb3ae",
   "metadata": {},
   "outputs": [
    {
     "name": "stdout",
     "output_type": "stream",
     "text": [
      "\n",
      "__Employee Record Management System__\n",
      "1. Display Employees Record\n",
      "2. Add Employee Data\n",
      "3. Search Employee by ID\n",
      "4. Delete Employee Data\n",
      "5. Exit\n"
     ]
    },
    {
     "name": "stdin",
     "output_type": "stream",
     "text": [
      "Enter your choice:  1\n"
     ]
    },
    {
     "name": "stdout",
     "output_type": "stream",
     "text": [
      "No record of employees available.\n",
      "\n",
      "__Employee Record Management System__\n",
      "1. Display Employees Record\n",
      "2. Add Employee Data\n",
      "3. Search Employee by ID\n",
      "4. Delete Employee Data\n",
      "5. Exit\n"
     ]
    },
    {
     "name": "stdin",
     "output_type": "stream",
     "text": [
      "Enter your choice:  2\n",
      "Enter employee ID:  249868\n",
      "Enter Employee Name:  Zainab Fatima\n",
      "Enter Employee Age:  25\n",
      "Enter Employee Department:  IT\n"
     ]
    },
    {
     "name": "stdout",
     "output_type": "stream",
     "text": [
      "Data of new employee added successfully.\n",
      "\n",
      "__Employee Record Management System__\n",
      "1. Display Employees Record\n",
      "2. Add Employee Data\n",
      "3. Search Employee by ID\n",
      "4. Delete Employee Data\n",
      "5. Exit\n"
     ]
    },
    {
     "name": "stdin",
     "output_type": "stream",
     "text": [
      "Enter your choice:  2\n",
      "Enter employee ID:  249869\n",
      "Enter Employee Name:  Maryum Khan\n",
      "Enter Employee Age:  27\n",
      "Enter Employee Department:  Human Resources\n"
     ]
    },
    {
     "name": "stdout",
     "output_type": "stream",
     "text": [
      "Data of new employee added successfully.\n",
      "\n",
      "__Employee Record Management System__\n",
      "1. Display Employees Record\n",
      "2. Add Employee Data\n",
      "3. Search Employee by ID\n",
      "4. Delete Employee Data\n",
      "5. Exit\n"
     ]
    },
    {
     "name": "stdin",
     "output_type": "stream",
     "text": [
      "Enter your choice:  2\n",
      "Enter employee ID:  249870\n",
      "Enter Employee Name:  Muhammad Zakariya\n",
      "Enter Employee Age:  2 4  \n",
      "Enter Employee Department:   Research and development\n"
     ]
    },
    {
     "name": "stdout",
     "output_type": "stream",
     "text": [
      "Data of new employee added successfully.\n",
      "\n",
      "__Employee Record Management System__\n",
      "1. Display Employees Record\n",
      "2. Add Employee Data\n",
      "3. Search Employee by ID\n",
      "4. Delete Employee Data\n",
      "5. Exit\n"
     ]
    },
    {
     "name": "stdin",
     "output_type": "stream",
     "text": [
      "Enter your choice:  1\n"
     ]
    },
    {
     "name": "stdout",
     "output_type": "stream",
     "text": [
      "Data of Employees (added so far):\n",
      "ID: 249868\n",
      "Name: Zainab Fatima\n",
      "Age: 25\n",
      "Department: IT\n",
      "\n",
      "ID: 249869\n",
      "Name: Maryum Khan\n",
      "Age: 27\n",
      "Department: Human Resources\n",
      "\n",
      "ID: 249870\n",
      "Name: Muhammad Zakariya\n",
      "Age: 2 4  \n",
      "Department:  Research and development\n",
      "\n",
      "\n",
      "__Employee Record Management System__\n",
      "1. Display Employees Record\n",
      "2. Add Employee Data\n",
      "3. Search Employee by ID\n",
      "4. Delete Employee Data\n",
      "5. Exit\n"
     ]
    },
    {
     "name": "stdin",
     "output_type": "stream",
     "text": [
      "Enter your choice:  3\n",
      "Enter ID to search:  249868\n"
     ]
    },
    {
     "name": "stdout",
     "output_type": "stream",
     "text": [
      "ID: 249868\n",
      "Name: Zainab Fatima\n",
      "Age: 25\n",
      "Department: IT\n",
      "\n",
      "\n",
      "__Employee Record Management System__\n",
      "1. Display Employees Record\n",
      "2. Add Employee Data\n",
      "3. Search Employee by ID\n",
      "4. Delete Employee Data\n",
      "5. Exit\n"
     ]
    },
    {
     "name": "stdin",
     "output_type": "stream",
     "text": [
      "Enter your choice:  4\n",
      "Enter ID to delete:  249870\n"
     ]
    },
    {
     "name": "stdout",
     "output_type": "stream",
     "text": [
      "Employee data deleted successfully.\n",
      "\n",
      "__Employee Record Management System__\n",
      "1. Display Employees Record\n",
      "2. Add Employee Data\n",
      "3. Search Employee by ID\n",
      "4. Delete Employee Data\n",
      "5. Exit\n"
     ]
    },
    {
     "name": "stdin",
     "output_type": "stream",
     "text": [
      "Enter your choice:  1\n"
     ]
    },
    {
     "name": "stdout",
     "output_type": "stream",
     "text": [
      "Data of Employees (added so far):\n",
      "ID: 249868\n",
      "Name: Zainab Fatima\n",
      "Age: 25\n",
      "Department: IT\n",
      "\n",
      "ID: 249869\n",
      "Name: Maryum Khan\n",
      "Age: 27\n",
      "Department: Human Resources\n",
      "\n",
      "\n",
      "__Employee Record Management System__\n",
      "1. Display Employees Record\n",
      "2. Add Employee Data\n",
      "3. Search Employee by ID\n",
      "4. Delete Employee Data\n",
      "5. Exit\n"
     ]
    },
    {
     "name": "stdin",
     "output_type": "stream",
     "text": [
      "Enter your choice:  5\n"
     ]
    }
   ],
   "source": [
    "import os\n",
    "\n",
    "# Define the filename where employees data will be stored\n",
    "FILENAME = 'employees.txt'\n",
    "\n",
    "# PART 1---Function to load employees data from the file\n",
    "def load_employees():\n",
    "    # Created an empty dictionary to store data of all employees plus to access whenever needed\n",
    "    employees = {} \n",
    "    \n",
    "    try:\n",
    "        #First opening the file as read mode,in the next step when we will have to add/save data,we will open it in write mode\n",
    "        with open(FILENAME, 'r') as file:\n",
    "            for line in file:\n",
    "                # line.strip().split() will remove any spaces from each line in file employees.txt plus it will split the each attribute of employee into next line\n",
    "                parts = line.strip().split()\n",
    "                # Ensuring we have exactly four attributes of employees data\n",
    "                if len(parts) == 4:  \n",
    "                    employee_id, employee_name, employee_age, employee_department = parts\n",
    "                    # Created a dictionary with each of 4 attributes with keys and values,for stroing data\n",
    "                    employees[employee_id] = {\n",
    "                        'employee_name': employee_name,\n",
    "                        'employee_age': employee_age,\n",
    "                        'employee_department': employee_department\n",
    "                    }\n",
    "    # if no file name was set at the start,after the try part code will enter except part and will show the message\n",
    "    except FileNotFoundError:\n",
    "        print(\"Starting with an empty employee record.\")\n",
    "    return employees\n",
    "\n",
    "\n",
    "# PART 2------ Function to save employees data to the file\n",
    "def save_employees(employees):\n",
    "    # Opening the file in write mode to store data\n",
    "    with open(FILENAME, 'w') as file:\n",
    "        # for loop will iterate through each key of dictionary employees\n",
    "        for employee_id in employees.keys():\n",
    "            details = employees[employee_id]\n",
    "            # It will writes the details of each employee in file employees.txt\n",
    "            file.write(employee_id + '\\n' + details['employee_name'] + '\\n' + details['employee_age'] + '\\n' + details['employee_department'] + '\\n')\n",
    "\n",
    "\n",
    "# PART 3------ Function to display data of all employees \n",
    "def display_employees(employees):\n",
    "    # if statement is checking whether there's data of employees stored\n",
    "    if len(employees) > 0:\n",
    "        print(\"Data of Employees (added so far):\")\n",
    "        # for loop will iterate through each key of ditctionary employees and will show the stored data\n",
    "        for employee_id in employees.keys():  \n",
    "            details = employees[employee_id]\n",
    "            print(\"ID: \" + employee_id)\n",
    "            print(\"Name: \" + details['employee_name'])\n",
    "            print(\"Age: \" + details['employee_age'])\n",
    "            print(\"Department: \" + details['employee_department'])  \n",
    "            # Empty line for better readability\n",
    "            print()  \n",
    "    else:\n",
    "        print(\"No record of employees available.\")\n",
    "\n",
    "\n",
    "\n",
    "# Part 4----Function to add the data of new employee\n",
    "def add_employee(employees):\n",
    "    employee_id = input(\"Enter employee ID: \") \n",
    "    if employee_id in employees:\n",
    "        print(\"ID already exists. Please enter a unique ID.\")\n",
    "        return\n",
    "    employee_name = input(\"Enter Employee Name: \")\n",
    "    employee_age = input(\"Enter Employee Age: \")\n",
    "    employee_department = input(\"Enter Employee Department: \")  \n",
    "    # Dictionary to store new employee data through keys and values\n",
    "    employees[employee_id] = {\n",
    "        'employee_name': employee_name,\n",
    "        'employee_age': employee_age,\n",
    "        'employee_department': employee_department\n",
    "    }    \n",
    "    save_employees(employees)\n",
    "    print(\"Data of new employee added successfully.\")\n",
    "\n",
    "\n",
    "# Part 5-----Function to search for an employee by ID\n",
    "def search_employee(employees):\n",
    "    employee_id = input(\"Enter ID to search: \")\n",
    "    if employee_id in employees:\n",
    "        details = employees[employee_id]\n",
    "        print(\"ID: \" + employee_id)\n",
    "        print(\"Name: \" + details['employee_name'])\n",
    "        print(\"Age: \" + details['employee_age'])\n",
    "        print(\"Department: \" + details['employee_department'])  \n",
    "        print()  \n",
    "    else:\n",
    "        print(\"Employee ID not found.Enter valid ID\")\n",
    "\n",
    "        \n",
    "# Part 6-----Function to delete an employee's data by ID\n",
    "def delete_employee(employees):\n",
    "    employee_id = input(\"Enter ID to delete: \")\n",
    "    if employee_id in employees:\n",
    "        del employees[employee_id]\n",
    "        save_employees(employees)\n",
    "        print(\"Employee data deleted successfully.\")\n",
    "    else:\n",
    "        print(\"Employee ID not found.Enter valid ID\")\n",
    "\n",
    "\n",
    "# Main function to run the program\n",
    "def main():\n",
    "    employees = load_employees()\n",
    "    # As long as user doesn't enter exit,this program will keep running\n",
    "    while True:\n",
    "        print(\"\\n__Employee Record Management System__\")\n",
    "        print(\"1. Display Employees Record\")\n",
    "        print(\"2. Add Employee Data\")\n",
    "        print(\"3. Search Employee by ID\")\n",
    "        print(\"4. Delete Employee Data\")\n",
    "        print(\"5. Exit\")\n",
    "        choice = input(\"Enter your choice: \")\n",
    "\n",
    "        if choice == '1':\n",
    "            display_employees(employees)\n",
    "        elif choice == '2':\n",
    "            add_employee(employees)\n",
    "        elif choice == '3':\n",
    "            search_employee(employees)\n",
    "        elif choice == '4':\n",
    "            delete_employee(employees)\n",
    "        elif choice == '5':\n",
    "            break\n",
    "        else:\n",
    "            print(\"Invalid choice. Please try again.\")\n",
    "\n",
    "if __name__ == '__main__':\n",
    "    main()\n"
   ]
  },
  {
   "cell_type": "code",
   "execution_count": null,
   "id": "5c5aa2b5-5bc3-4bff-8ba6-fdf4fcbbba9e",
   "metadata": {},
   "outputs": [],
   "source": []
  }
 ],
 "metadata": {
  "kernelspec": {
   "display_name": "Python 3 (ipykernel)",
   "language": "python",
   "name": "python3"
  },
  "language_info": {
   "codemirror_mode": {
    "name": "ipython",
    "version": 3
   },
   "file_extension": ".py",
   "mimetype": "text/x-python",
   "name": "python",
   "nbconvert_exporter": "python",
   "pygments_lexer": "ipython3",
   "version": "3.11.7"
  }
 },
 "nbformat": 4,
 "nbformat_minor": 5
}
