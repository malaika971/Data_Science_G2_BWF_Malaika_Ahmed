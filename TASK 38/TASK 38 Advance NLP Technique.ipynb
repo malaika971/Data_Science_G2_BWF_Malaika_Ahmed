{
 "cells": [
  {
   "cell_type": "markdown",
   "id": "857f5f0b-f66d-45f1-8c9d-30f5f4d3e7d6",
   "metadata": {},
   "source": [
    "# ***🔴Task 38: Advanced NLP Techniques (NER, Sentiment Analysis)***\r",
    "***\r\n"
   ]
  },
  {
   "cell_type": "markdown",
   "id": "39cf3ad6-4c1c-4dda-afa3-4f9b458c5704",
   "metadata": {},
   "source": [
    "# ***Sentiment Analysis***\n",
    "\n",
    "***Objective***: Create a basic sentiment analysis model that can classify text as positive, negative, or neutral using Python. This task will involve data preprocessing, model training, and evaluation.\n",
    "\n",
    "***Dataset used***: https://www.kaggle.com/datasets/lakshmi25npathi/imdb-dataset-of-50k-movie-reviews\n",
    "***\n",
    "***"
   ]
  },
  {
   "cell_type": "markdown",
   "id": "553bc700-2265-44f5-a0ed-f264525afb01",
   "metadata": {},
   "source": [
    "# ***Importing Libraries***"
   ]
  },
  {
   "cell_type": "code",
   "execution_count": 2,
   "id": "a095643f-01f2-4bd1-9146-ac5e52e2af37",
   "metadata": {},
   "outputs": [],
   "source": [
    "import nltk\n",
    "import numpy as np\n",
    "import pandas as pd\n",
    "import matplotlib.pyplot as plt\n",
    "from nltk.corpus import stopwords\n",
    "import re\n",
    "import string\n",
    "\n",
    "from sklearn.preprocessing import LabelEncoder\n",
    "from sklearn.model_selection import train_test_split\n",
    "from sklearn.feature_extraction.text import CountVectorizer\n",
    "from sklearn.linear_model import LogisticRegression\n",
    "from sklearn.metrics import accuracy_score\n",
    "from sklearn.naive_bayes import MultinomialNB,BernoulliNB\n",
    "from sklearn.metrics import accuracy_score\n",
    "\n",
    "from tensorflow.keras.preprocessing.text import Tokenizer\n",
    "from tensorflow.keras.preprocessing.sequence import pad_sequences\n",
    "\n",
    "import warnings\n",
    "warnings.filterwarnings('ignore')\n"
   ]
  },
  {
   "cell_type": "markdown",
   "id": "1f0194a0-e94e-457d-b656-5120a14c86fb",
   "metadata": {},
   "source": [
    "# ***Data Preprocessing***\r\n"
   ]
  },
  {
   "cell_type": "code",
   "execution_count": 3,
   "id": "3dba4f88-f267-419f-b4cb-ff3e49e18413",
   "metadata": {},
   "outputs": [
    {
     "data": {
      "text/html": [
       "<div>\n",
       "<style scoped>\n",
       "    .dataframe tbody tr th:only-of-type {\n",
       "        vertical-align: middle;\n",
       "    }\n",
       "\n",
       "    .dataframe tbody tr th {\n",
       "        vertical-align: top;\n",
       "    }\n",
       "\n",
       "    .dataframe thead th {\n",
       "        text-align: right;\n",
       "    }\n",
       "</style>\n",
       "<table border=\"1\" class=\"dataframe\">\n",
       "  <thead>\n",
       "    <tr style=\"text-align: right;\">\n",
       "      <th></th>\n",
       "      <th>review</th>\n",
       "      <th>sentiment</th>\n",
       "    </tr>\n",
       "  </thead>\n",
       "  <tbody>\n",
       "    <tr>\n",
       "      <th>0</th>\n",
       "      <td>One of the other reviewers has mentioned that ...</td>\n",
       "      <td>positive</td>\n",
       "    </tr>\n",
       "    <tr>\n",
       "      <th>1</th>\n",
       "      <td>A wonderful little production. &lt;br /&gt;&lt;br /&gt;The...</td>\n",
       "      <td>positive</td>\n",
       "    </tr>\n",
       "    <tr>\n",
       "      <th>2</th>\n",
       "      <td>I thought this was a wonderful way to spend ti...</td>\n",
       "      <td>positive</td>\n",
       "    </tr>\n",
       "    <tr>\n",
       "      <th>3</th>\n",
       "      <td>Basically there's a family where a little boy ...</td>\n",
       "      <td>negative</td>\n",
       "    </tr>\n",
       "    <tr>\n",
       "      <th>4</th>\n",
       "      <td>Petter Mattei's \"Love in the Time of Money\" is...</td>\n",
       "      <td>positive</td>\n",
       "    </tr>\n",
       "    <tr>\n",
       "      <th>...</th>\n",
       "      <td>...</td>\n",
       "      <td>...</td>\n",
       "    </tr>\n",
       "    <tr>\n",
       "      <th>49995</th>\n",
       "      <td>I thought this movie did a down right good job...</td>\n",
       "      <td>positive</td>\n",
       "    </tr>\n",
       "    <tr>\n",
       "      <th>49996</th>\n",
       "      <td>Bad plot, bad dialogue, bad acting, idiotic di...</td>\n",
       "      <td>negative</td>\n",
       "    </tr>\n",
       "    <tr>\n",
       "      <th>49997</th>\n",
       "      <td>I am a Catholic taught in parochial elementary...</td>\n",
       "      <td>negative</td>\n",
       "    </tr>\n",
       "    <tr>\n",
       "      <th>49998</th>\n",
       "      <td>I'm going to have to disagree with the previou...</td>\n",
       "      <td>negative</td>\n",
       "    </tr>\n",
       "    <tr>\n",
       "      <th>49999</th>\n",
       "      <td>No one expects the Star Trek movies to be high...</td>\n",
       "      <td>negative</td>\n",
       "    </tr>\n",
       "  </tbody>\n",
       "</table>\n",
       "<p>50000 rows × 2 columns</p>\n",
       "</div>"
      ],
      "text/plain": [
       "                                                  review sentiment\n",
       "0      One of the other reviewers has mentioned that ...  positive\n",
       "1      A wonderful little production. <br /><br />The...  positive\n",
       "2      I thought this was a wonderful way to spend ti...  positive\n",
       "3      Basically there's a family where a little boy ...  negative\n",
       "4      Petter Mattei's \"Love in the Time of Money\" is...  positive\n",
       "...                                                  ...       ...\n",
       "49995  I thought this movie did a down right good job...  positive\n",
       "49996  Bad plot, bad dialogue, bad acting, idiotic di...  negative\n",
       "49997  I am a Catholic taught in parochial elementary...  negative\n",
       "49998  I'm going to have to disagree with the previou...  negative\n",
       "49999  No one expects the Star Trek movies to be high...  negative\n",
       "\n",
       "[50000 rows x 2 columns]"
      ]
     },
     "execution_count": 3,
     "metadata": {},
     "output_type": "execute_result"
    }
   ],
   "source": [
    "# Loading the dataset into a Pandas DataFrame\n",
    "df = pd.read_csv(\"IMDB Dataset.csv\")\n",
    "df"
   ]
  },
  {
   "cell_type": "code",
   "execution_count": 4,
   "id": "ff48ee38-63aa-4171-8547-d0003346a5a9",
   "metadata": {},
   "outputs": [
    {
     "name": "stdout",
     "output_type": "stream",
     "text": [
      "<class 'pandas.core.frame.DataFrame'>\n",
      "RangeIndex: 50000 entries, 0 to 49999\n",
      "Data columns (total 2 columns):\n",
      " #   Column     Non-Null Count  Dtype \n",
      "---  ------     --------------  ----- \n",
      " 0   review     50000 non-null  object\n",
      " 1   sentiment  50000 non-null  object\n",
      "dtypes: object(2)\n",
      "memory usage: 781.4+ KB\n"
     ]
    }
   ],
   "source": [
    "df.info()"
   ]
  },
  {
   "cell_type": "code",
   "execution_count": 5,
   "id": "1d8d7096-bfc9-41c2-b901-97ba200d77d3",
   "metadata": {},
   "outputs": [
    {
     "data": {
      "text/plain": [
       "review       0\n",
       "sentiment    0\n",
       "dtype: int64"
      ]
     },
     "execution_count": 5,
     "metadata": {},
     "output_type": "execute_result"
    }
   ],
   "source": [
    "df.isnull().sum()"
   ]
  },
  {
   "cell_type": "code",
   "execution_count": 6,
   "id": "ee8d8dcc-d31a-4572-802e-b920634e142d",
   "metadata": {},
   "outputs": [
    {
     "data": {
      "text/plain": [
       "418"
      ]
     },
     "execution_count": 6,
     "metadata": {},
     "output_type": "execute_result"
    }
   ],
   "source": [
    "df.duplicated().sum()"
   ]
  },
  {
   "cell_type": "code",
   "execution_count": 7,
   "id": "680b4f58-3424-471e-a76d-7e7f91fcb5a6",
   "metadata": {},
   "outputs": [],
   "source": [
    "df.drop_duplicates(inplace=True)"
   ]
  },
  {
   "cell_type": "code",
   "execution_count": 8,
   "id": "9164a710-4b57-43f0-983b-21b318990bf4",
   "metadata": {},
   "outputs": [
    {
     "data": {
      "text/plain": [
       "0"
      ]
     },
     "execution_count": 8,
     "metadata": {},
     "output_type": "execute_result"
    }
   ],
   "source": [
    "df.duplicated().sum()"
   ]
  },
  {
   "cell_type": "markdown",
   "id": "aea700d6-e44e-477e-8e78-18c289b292f4",
   "metadata": {},
   "source": [
    "***\n",
    "# ***EDA***"
   ]
  },
  {
   "cell_type": "markdown",
   "id": "3638e0ec-b18a-44a1-a4f0-96368d25baaa",
   "metadata": {},
   "source": [
    "### ***Looking at Target Variable Distribution***"
   ]
  },
  {
   "cell_type": "code",
   "execution_count": 9,
   "id": "10a8774e-93cf-4ee1-93b8-20b4d77e8e62",
   "metadata": {},
   "outputs": [
    {
     "data": {
      "text/html": [
       "<div>\n",
       "<style scoped>\n",
       "    .dataframe tbody tr th:only-of-type {\n",
       "        vertical-align: middle;\n",
       "    }\n",
       "\n",
       "    .dataframe tbody tr th {\n",
       "        vertical-align: top;\n",
       "    }\n",
       "\n",
       "    .dataframe thead th {\n",
       "        text-align: right;\n",
       "    }\n",
       "</style>\n",
       "<table border=\"1\" class=\"dataframe\">\n",
       "  <thead>\n",
       "    <tr style=\"text-align: right;\">\n",
       "      <th></th>\n",
       "      <th>review</th>\n",
       "      <th>sentiment</th>\n",
       "    </tr>\n",
       "  </thead>\n",
       "  <tbody>\n",
       "    <tr>\n",
       "      <th>0</th>\n",
       "      <td>One of the other reviewers has mentioned that ...</td>\n",
       "      <td>positive</td>\n",
       "    </tr>\n",
       "    <tr>\n",
       "      <th>1</th>\n",
       "      <td>A wonderful little production. &lt;br /&gt;&lt;br /&gt;The...</td>\n",
       "      <td>positive</td>\n",
       "    </tr>\n",
       "    <tr>\n",
       "      <th>2</th>\n",
       "      <td>I thought this was a wonderful way to spend ti...</td>\n",
       "      <td>positive</td>\n",
       "    </tr>\n",
       "    <tr>\n",
       "      <th>3</th>\n",
       "      <td>Basically there's a family where a little boy ...</td>\n",
       "      <td>negative</td>\n",
       "    </tr>\n",
       "    <tr>\n",
       "      <th>4</th>\n",
       "      <td>Petter Mattei's \"Love in the Time of Money\" is...</td>\n",
       "      <td>positive</td>\n",
       "    </tr>\n",
       "  </tbody>\n",
       "</table>\n",
       "</div>"
      ],
      "text/plain": [
       "                                              review sentiment\n",
       "0  One of the other reviewers has mentioned that ...  positive\n",
       "1  A wonderful little production. <br /><br />The...  positive\n",
       "2  I thought this was a wonderful way to spend ti...  positive\n",
       "3  Basically there's a family where a little boy ...  negative\n",
       "4  Petter Mattei's \"Love in the Time of Money\" is...  positive"
      ]
     },
     "execution_count": 9,
     "metadata": {},
     "output_type": "execute_result"
    }
   ],
   "source": [
    "df.head()"
   ]
  },
  {
   "cell_type": "code",
   "execution_count": 10,
   "id": "a644e8b8-d19e-45ee-9c5d-59bf0f7cc39e",
   "metadata": {},
   "outputs": [
    {
     "data": {
      "text/plain": [
       "sentiment\n",
       "positive    24884\n",
       "negative    24698\n",
       "Name: count, dtype: int64"
      ]
     },
     "execution_count": 10,
     "metadata": {},
     "output_type": "execute_result"
    }
   ],
   "source": [
    "df['sentiment'].value_counts()"
   ]
  },
  {
   "cell_type": "code",
   "execution_count": 11,
   "id": "6151eee6-b66d-43d5-906c-0b586f5d3ac0",
   "metadata": {},
   "outputs": [],
   "source": [
    "vc=df['sentiment'].value_counts()"
   ]
  },
  {
   "cell_type": "code",
   "execution_count": 12,
   "id": "a5922ef4-a587-44a7-b446-c49a446d099b",
   "metadata": {},
   "outputs": [
    {
     "data": {
      "image/png": "[encoded data removed]",
      "text/plain": [
       "<Figure size 640x480 with 1 Axes>"
      ]
     },
     "metadata": {},
     "output_type": "display_data"
    }
   ],
   "source": [
    "vc.plot(kind='barh')\n",
    "plt.title('Distribution of Target Variable (Sentiment)',pad=20,fontsize=15)\n",
    "plt.xlabel('Sentiment',fontsize=14,labelpad=18)\n",
    "plt.ylabel('Count',fontsize=14,labelpad=18)\n",
    "plt.show()"
   ]
  },
  {
   "cell_type": "markdown",
   "id": "ab9d2513-fbb9-4060-b256-d6f5b81c6221",
   "metadata": {},
   "source": [
    "***\n",
    "# ***Applying NLP Preprocessing Techniques***\n",
    "For each row, we're gonna preprocess the text by removing stopwords, punctuation, and converting the text to lowercase. We're also gonna tokenize the text and lemmatize it. We're gonna use the WordNetLemmatizer from the nltk library."
   ]
  },
  {
   "cell_type": "code",
   "execution_count": 13,
   "id": "8532a790-9dc3-4f4c-bcec-2f618b2c34ad",
   "metadata": {},
   "outputs": [
    {
     "data": {
      "text/html": [
       "<div>\n",
       "<style scoped>\n",
       "    .dataframe tbody tr th:only-of-type {\n",
       "        vertical-align: middle;\n",
       "    }\n",
       "\n",
       "    .dataframe tbody tr th {\n",
       "        vertical-align: top;\n",
       "    }\n",
       "\n",
       "    .dataframe thead th {\n",
       "        text-align: right;\n",
       "    }\n",
       "</style>\n",
       "<table border=\"1\" class=\"dataframe\">\n",
       "  <thead>\n",
       "    <tr style=\"text-align: right;\">\n",
       "      <th></th>\n",
       "      <th>review</th>\n",
       "      <th>sentiment</th>\n",
       "    </tr>\n",
       "  </thead>\n",
       "  <tbody>\n",
       "    <tr>\n",
       "      <th>0</th>\n",
       "      <td>One of the other reviewers has mentioned that ...</td>\n",
       "      <td>positive</td>\n",
       "    </tr>\n",
       "    <tr>\n",
       "      <th>1</th>\n",
       "      <td>A wonderful little production. &lt;br /&gt;&lt;br /&gt;The...</td>\n",
       "      <td>positive</td>\n",
       "    </tr>\n",
       "    <tr>\n",
       "      <th>2</th>\n",
       "      <td>I thought this was a wonderful way to spend ti...</td>\n",
       "      <td>positive</td>\n",
       "    </tr>\n",
       "    <tr>\n",
       "      <th>3</th>\n",
       "      <td>Basically there's a family where a little boy ...</td>\n",
       "      <td>negative</td>\n",
       "    </tr>\n",
       "    <tr>\n",
       "      <th>4</th>\n",
       "      <td>Petter Mattei's \"Love in the Time of Money\" is...</td>\n",
       "      <td>positive</td>\n",
       "    </tr>\n",
       "  </tbody>\n",
       "</table>\n",
       "</div>"
      ],
      "text/plain": [
       "                                              review sentiment\n",
       "0  One of the other reviewers has mentioned that ...  positive\n",
       "1  A wonderful little production. <br /><br />The...  positive\n",
       "2  I thought this was a wonderful way to spend ti...  positive\n",
       "3  Basically there's a family where a little boy ...  negative\n",
       "4  Petter Mattei's \"Love in the Time of Money\" is...  positive"
      ]
     },
     "execution_count": 13,
     "metadata": {},
     "output_type": "execute_result"
    }
   ],
   "source": [
    "df.head()"
   ]
  },
  {
   "cell_type": "code",
   "execution_count": 14,
   "id": "ff334ea3-d341-4047-bf36-198812534020",
   "metadata": {},
   "outputs": [
    {
     "data": {
      "text/plain": [
       "'A wonderful little production. <br /><br />The filming technique is very unassuming- very old-time-BBC fashion and gives a comforting, and sometimes discomforting, sense of realism to the entire piece. <br /><br />The actors are extremely well chosen- Michael Sheen not only \"has got all the polari\" but he has all the voices down pat too! You can truly see the seamless editing guided by the references to Williams\\' diary entries, not only is it well worth the watching but it is a terrificly written and performed piece. A masterful production about one of the great master\\'s of comedy and his life. <br /><br />The realism really comes home with the little things: the fantasy of the guard which, rather than use the traditional \\'dream\\' techniques remains solid then disappears. It plays on our knowledge and our senses, particularly with the scenes concerning Orton and Halliwell and the sets (particularly of their flat with Halliwell\\'s murals decorating every surface) are terribly well done.'"
      ]
     },
     "execution_count": 14,
     "metadata": {},
     "output_type": "execute_result"
    }
   ],
   "source": [
    "# Taking an example text for analyzing the preprocessing method to use\n",
    "text = df.iloc[1, 0]\n",
    "\n",
    "text"
   ]
  },
  {
   "cell_type": "markdown",
   "id": "682d9e21-d705-4a86-9f09-07f34452cfef",
   "metadata": {},
   "source": [
    "### ***Removing the HTML markdown tags***"
   ]
  },
  {
   "cell_type": "code",
   "execution_count": 15,
   "id": "b4905f23-3af9-459f-9f52-c21ccfa05534",
   "metadata": {},
   "outputs": [
    {
     "name": "stderr",
     "output_type": "stream",
     "text": [
      "[nltk_data] Downloading package stopwords to C:\\Users\\Malaika\n",
      "[nltk_data]     ahmad\\AppData\\Roaming\\nltk_data...\n",
      "[nltk_data]   Package stopwords is already up-to-date!\n"
     ]
    },
    {
     "data": {
      "text/plain": [
       "'A wonderful little production. The filming technique is very unassuming- very old-time-BBC fashion and gives a comforting, and sometimes discomforting, sense of realism to the entire piece. The actors are extremely well chosen- Michael Sheen not only \"has got all the polari\" but he has all the voices down pat too! You can truly see the seamless editing guided by the references to Williams\\' diary entries, not only is it well worth the watching but it is a terrificly written and performed piece. A masterful production about one of the great master\\'s of comedy and his life. The realism really comes home with the little things: the fantasy of the guard which, rather than use the traditional \\'dream\\' techniques remains solid then disappears. It plays on our knowledge and our senses, particularly with the scenes concerning Orton and Halliwell and the sets (particularly of their flat with Halliwell\\'s murals decorating every surface) are terribly well done.'"
      ]
     },
     "execution_count": 15,
     "metadata": {},
     "output_type": "execute_result"
    }
   ],
   "source": [
    "nltk.download('stopwords')\n",
    "\n",
    "stop_words = set(stopwords.words('english'))\n",
    "\n",
    "# For removing the HTML markdown tags (such as those present in text above)\n",
    "def remove_html_tags(text):\n",
    "    pattern = re.compile(\"<.*?>\")\n",
    "    return pattern.sub(r\"\", text)\n",
    "\n",
    "mkd_removed_text = remove_html_tags(text)\n",
    "mkd_removed_text"
   ]
  },
  {
   "cell_type": "markdown",
   "id": "be9783ae-d80a-4739-91f8-8b4847874bc3",
   "metadata": {},
   "source": [
    "### ***Converting into lowercase***"
   ]
  },
  {
   "cell_type": "code",
   "execution_count": 16,
   "id": "ec512c86-c666-47af-abe1-2ecf8b11d941",
   "metadata": {},
   "outputs": [
    {
     "data": {
      "text/plain": [
       "'a wonderful little production. the filming technique is very unassuming- very old-time-bbc fashion and gives a comforting, and sometimes discomforting, sense of realism to the entire piece. the actors are extremely well chosen- michael sheen not only \"has got all the polari\" but he has all the voices down pat too! you can truly see the seamless editing guided by the references to williams\\' diary entries, not only is it well worth the watching but it is a terrificly written and performed piece. a masterful production about one of the great master\\'s of comedy and his life. the realism really comes home with the little things: the fantasy of the guard which, rather than use the traditional \\'dream\\' techniques remains solid then disappears. it plays on our knowledge and our senses, particularly with the scenes concerning orton and halliwell and the sets (particularly of their flat with halliwell\\'s murals decorating every surface) are terribly well done.'"
      ]
     },
     "execution_count": 16,
     "metadata": {},
     "output_type": "execute_result"
    }
   ],
   "source": [
    "# Now, converting into lowercase\n",
    "mkd_removed_text = mkd_removed_text.lower()\n",
    "mkd_removed_text"
   ]
  },
  {
   "cell_type": "markdown",
   "id": "e2c3cf18-cb23-42ad-a0f1-06f29af8ae97",
   "metadata": {},
   "source": [
    "### ***Removing URL Links***"
   ]
  },
  {
   "cell_type": "code",
   "execution_count": 17,
   "id": "c1112b22-8edf-4b87-bc71-7cec8e9ff1df",
   "metadata": {},
   "outputs": [],
   "source": [
    "# For removing any type of links present in the text\n",
    "\n",
    "#For removing URL links\n",
    "def remove_url(text):\n",
    "    pattern = re.compile(r'https?://\\S+|www\\.\\S+')\n",
    "    return pattern.sub(r'', text)"
   ]
  },
  {
   "cell_type": "markdown",
   "id": "56c42ae4-ab41-4fdf-90be-b7754b29ceb1",
   "metadata": {},
   "source": [
    "### ***Removing Punctuation Marks***"
   ]
  },
  {
   "cell_type": "code",
   "execution_count": 18,
   "id": "e687516e-ad63-4edc-9968-0e92bf648e85",
   "metadata": {},
   "outputs": [],
   "source": [
    "# Now, removing the punctuation marks\n",
    "punctuation_marks = string.punctuation\n",
    "\n",
    "def remove_punctuations(text):\n",
    "    for punctuation in punctuation_marks:\n",
    "        text = text.replace(punctuation, \"\")\n",
    "    return text"
   ]
  },
  {
   "cell_type": "code",
   "execution_count": 19,
   "id": "81000d3b-1025-43c0-9084-18f5c6b4d920",
   "metadata": {},
   "outputs": [
    {
     "name": "stdout",
     "output_type": "stream",
     "text": [
      "a wonderful little production the filming technique is very unassuming very oldtimebbc fashion and gives a comforting and sometimes discomforting sense of realism to the entire piece the actors are extremely well chosen michael sheen not only has got all the polari but he has all the voices down pat too you can truly see the seamless editing guided by the references to williams diary entries not only is it well worth the watching but it is a terrificly written and performed piece a masterful production about one of the great masters of comedy and his life the realism really comes home with the little things the fantasy of the guard which rather than use the traditional dream techniques remains solid then disappears it plays on our knowledge and our senses particularly with the scenes concerning orton and halliwell and the sets particularly of their flat with halliwells murals decorating every surface are terribly well done\n"
     ]
    }
   ],
   "source": [
    "mkd_url_removed =  remove_url(mkd_removed_text)\n",
    "mkd_punct_removed = remove_punctuations(mkd_url_removed)\n",
    "\n",
    "print(mkd_punct_removed)"
   ]
  },
  {
   "cell_type": "markdown",
   "id": "92950657-3338-4339-8608-1a509ea44aed",
   "metadata": {},
   "source": [
    "### ***Removing Stop Words***"
   ]
  },
  {
   "cell_type": "code",
   "execution_count": 20,
   "id": "09f92675-e2cd-47df-b15e-847aea9716ca",
   "metadata": {},
   "outputs": [
    {
     "name": "stdout",
     "output_type": "stream",
     "text": [
      "wonderful little production filming technique unassuming oldtimebbc fashion gives comforting sometimes discomforting sense realism entire piece actors extremely well chosen michael sheen got polari voices pat truly see seamless editing guided references williams diary entries well worth watching terrificly written performed piece masterful production one great masters comedy life realism really comes home little things fantasy guard rather use traditional dream techniques remains solid disappears plays knowledge senses particularly scenes concerning orton halliwell sets particularly flat halliwells murals decorating every surface terribly well done\n"
     ]
    }
   ],
   "source": [
    "# Now, finally removing the stopwords\n",
    "def remove_stopwords(text):\n",
    "    words = text.split()\n",
    "    words = [word for word in words if word not in stop_words]\n",
    "    return \" \".join(words)\n",
    "\n",
    "mkd_stopwords_removed = remove_stopwords(mkd_punct_removed)\n",
    "print(mkd_stopwords_removed)"
   ]
  },
  {
   "cell_type": "code",
   "execution_count": 21,
   "id": "89672c0e-6eff-4129-88ae-bef1fc11f130",
   "metadata": {},
   "outputs": [],
   "source": [
    "#Now that we've decided how to pre-process each line, we will do it for all the reviews present\n",
    "def preprocess_text(text):\n",
    "    text = remove_html_tags(text)\n",
    "    text = text.lower()\n",
    "    text = remove_url(text)\n",
    "    text = remove_punctuations(text)\n",
    "    text = remove_stopwords(text)\n",
    "    return text"
   ]
  },
  {
   "cell_type": "code",
   "execution_count": 22,
   "id": "afe5a46e-c88a-468e-98a9-a9c4860030b0",
   "metadata": {},
   "outputs": [],
   "source": [
    "no_rows = df.shape[0]\n",
    "for i in range(no_rows):\n",
    "    df.iloc[i, 0] = preprocess_text(df.iloc[i, 0])"
   ]
  },
  {
   "cell_type": "code",
   "execution_count": 23,
   "id": "68f27a6d-cd2c-4f60-8ff9-8b1bcda09a3c",
   "metadata": {},
   "outputs": [
    {
     "data": {
      "text/html": [
       "<div>\n",
       "<style scoped>\n",
       "    .dataframe tbody tr th:only-of-type {\n",
       "        vertical-align: middle;\n",
       "    }\n",
       "\n",
       "    .dataframe tbody tr th {\n",
       "        vertical-align: top;\n",
       "    }\n",
       "\n",
       "    .dataframe thead th {\n",
       "        text-align: right;\n",
       "    }\n",
       "</style>\n",
       "<table border=\"1\" class=\"dataframe\">\n",
       "  <thead>\n",
       "    <tr style=\"text-align: right;\">\n",
       "      <th></th>\n",
       "      <th>review</th>\n",
       "      <th>sentiment</th>\n",
       "    </tr>\n",
       "  </thead>\n",
       "  <tbody>\n",
       "    <tr>\n",
       "      <th>0</th>\n",
       "      <td>one reviewers mentioned watching 1 oz episode ...</td>\n",
       "      <td>positive</td>\n",
       "    </tr>\n",
       "    <tr>\n",
       "      <th>1</th>\n",
       "      <td>wonderful little production filming technique ...</td>\n",
       "      <td>positive</td>\n",
       "    </tr>\n",
       "    <tr>\n",
       "      <th>2</th>\n",
       "      <td>thought wonderful way spend time hot summer we...</td>\n",
       "      <td>positive</td>\n",
       "    </tr>\n",
       "    <tr>\n",
       "      <th>3</th>\n",
       "      <td>basically theres family little boy jake thinks...</td>\n",
       "      <td>negative</td>\n",
       "    </tr>\n",
       "    <tr>\n",
       "      <th>4</th>\n",
       "      <td>petter matteis love time money visually stunni...</td>\n",
       "      <td>positive</td>\n",
       "    </tr>\n",
       "    <tr>\n",
       "      <th>...</th>\n",
       "      <td>...</td>\n",
       "      <td>...</td>\n",
       "    </tr>\n",
       "    <tr>\n",
       "      <th>49995</th>\n",
       "      <td>thought movie right good job wasnt creative or...</td>\n",
       "      <td>positive</td>\n",
       "    </tr>\n",
       "    <tr>\n",
       "      <th>49996</th>\n",
       "      <td>bad plot bad dialogue bad acting idiotic direc...</td>\n",
       "      <td>negative</td>\n",
       "    </tr>\n",
       "    <tr>\n",
       "      <th>49997</th>\n",
       "      <td>catholic taught parochial elementary schools n...</td>\n",
       "      <td>negative</td>\n",
       "    </tr>\n",
       "    <tr>\n",
       "      <th>49998</th>\n",
       "      <td>im going disagree previous comment side maltin...</td>\n",
       "      <td>negative</td>\n",
       "    </tr>\n",
       "    <tr>\n",
       "      <th>49999</th>\n",
       "      <td>one expects star trek movies high art fans exp...</td>\n",
       "      <td>negative</td>\n",
       "    </tr>\n",
       "  </tbody>\n",
       "</table>\n",
       "<p>49582 rows × 2 columns</p>\n",
       "</div>"
      ],
      "text/plain": [
       "                                                  review sentiment\n",
       "0      one reviewers mentioned watching 1 oz episode ...  positive\n",
       "1      wonderful little production filming technique ...  positive\n",
       "2      thought wonderful way spend time hot summer we...  positive\n",
       "3      basically theres family little boy jake thinks...  negative\n",
       "4      petter matteis love time money visually stunni...  positive\n",
       "...                                                  ...       ...\n",
       "49995  thought movie right good job wasnt creative or...  positive\n",
       "49996  bad plot bad dialogue bad acting idiotic direc...  negative\n",
       "49997  catholic taught parochial elementary schools n...  negative\n",
       "49998  im going disagree previous comment side maltin...  negative\n",
       "49999  one expects star trek movies high art fans exp...  negative\n",
       "\n",
       "[49582 rows x 2 columns]"
      ]
     },
     "execution_count": 23,
     "metadata": {},
     "output_type": "execute_result"
    }
   ],
   "source": [
    "df\n"
   ]
  },
  {
   "cell_type": "markdown",
   "id": "78823989-6b7c-451c-8f53-706d5cf12741",
   "metadata": {},
   "source": [
    "Data has been successfully pre-processed. Now, preparing the data for training the model.on"
   ]
  },
  {
   "cell_type": "markdown",
   "id": "6ce6abb8-2477-4df5-9cfa-14a7e24c7f30",
   "metadata": {},
   "source": [
    "***\n",
    "# ***Model Training***"
   ]
  },
  {
   "cell_type": "markdown",
   "id": "07ede1cc-bf89-42a7-bb22-1a93067108a2",
   "metadata": {},
   "source": [
    "Since we're tackling with text-based data, we will have to use the bag-of-words model, utilizing techniques such as TF vectorization"
   ]
  },
  {
   "cell_type": "code",
   "execution_count": 24,
   "id": "56fe59fa-96eb-489e-9827-32ba4d70c0ba",
   "metadata": {},
   "outputs": [],
   "source": [
    "X = df['review']\n",
    "Y = df['sentiment']"
   ]
  },
  {
   "cell_type": "code",
   "execution_count": 25,
   "id": "02f05c44-5cb9-4ec8-8a03-7e78b01c0585",
   "metadata": {},
   "outputs": [],
   "source": [
    "# LabelEncoder to convert categorical sentiment labels into numerical values\n",
    "le = LabelEncoder()\n",
    "\n",
    "# Fit the LabelEncoder on the sentiment labels and transform them into numerical values\n",
    "Y_enc = le.fit_transform(Y)"
   ]
  },
  {
   "cell_type": "code",
   "execution_count": 26,
   "id": "887440a6-9d79-4f70-a145-e92466957ce5",
   "metadata": {},
   "outputs": [],
   "source": [
    "# Split the dataset into training and testing sets\n",
    "# 'test_size=0.25' means 25% of the data will be used for testing, and 75% for training\n",
    "# 'random_state=42' ensures reproducibility of the split\n",
    "\n",
    "x_train, x_test, y_train, y_test = train_test_split(X, Y_enc, test_size = 0.25, random_state = 42)"
   ]
  },
  {
   "cell_type": "code",
   "execution_count": 27,
   "id": "5042a019-2697-4c11-b2d6-8881734dafb1",
   "metadata": {},
   "outputs": [],
   "source": [
    "# Initialize the CountVectorizer to convert text data into a matrix of token counts\n",
    "vectorizer = CountVectorizer()\n",
    "\n",
    "# Fit the CountVectorizer to the training data and transform the training data into a feature matrix\n",
    "x_train = vectorizer.fit_transform(x_train)\n",
    "\n",
    "# Transform the test data into a feature matrix using the fitted CountVectorizer\n",
    "x_test = vectorizer.transform(x_test)"
   ]
  },
  {
   "cell_type": "code",
   "execution_count": 28,
   "id": "da14e81f-cfde-493a-a8ca-a2916beb5dcd",
   "metadata": {},
   "outputs": [
    {
     "data": {
      "text/plain": [
       "['vectorizer.pkl']"
      ]
     },
     "execution_count": 28,
     "metadata": {},
     "output_type": "execute_result"
    }
   ],
   "source": [
    "# Save the fitted CountVectorizer for future use\n",
    "joblib.dump(vectorizer, 'vectorizer.pkl')"
   ]
  },
  {
   "cell_type": "markdown",
   "id": "f68ceca4-ed7b-483f-881c-0f6a78c22aa8",
   "metadata": {},
   "source": [
    "***\n",
    "# ***Model Development***\n",
    "### ***Using ML models***"
   ]
  },
  {
   "cell_type": "code",
   "execution_count": 29,
   "id": "14d3ecf9-11d7-47b1-a3c5-9da9613884c5",
   "metadata": {},
   "outputs": [],
   "source": [
    "# Initializing Naive Bayes models\n",
    "\n",
    "mn = MultinomialNB()\n",
    "bn = BernoulliNB()"
   ]
  },
  {
   "cell_type": "code",
   "execution_count": 30,
   "id": "727e01cc-f3c6-4be1-8784-28884bb7ef43",
   "metadata": {},
   "outputs": [],
   "source": [
    "# MultinomialNB\n",
    "\n",
    "mn.fit(x_train, y_train)\n",
    "mn_pred_test = mn.predict(x_test)\n",
    "mn_pred_train = mn.predict(x_train)"
   ]
  },
  {
   "cell_type": "code",
   "execution_count": 31,
   "id": "c78df5ca-131d-4030-8fb9-a21c15a7822c",
   "metadata": {},
   "outputs": [],
   "source": [
    "# BernoulliNB\n",
    "\n",
    "bn.fit(x_train, y_train)\n",
    "bn_pred_test = bn.predict(x_test)\n",
    "bn_pred_train = bn.predict(x_train)"
   ]
  },
  {
   "cell_type": "code",
   "execution_count": 32,
   "id": "6249777b-2131-4a7e-a895-03ab2e3b30c6",
   "metadata": {},
   "outputs": [],
   "source": [
    "# Logistic Regression\n",
    "# Initializing Logistic Regression model\n",
    "\n",
    "lr = LogisticRegression()"
   ]
  },
  {
   "cell_type": "code",
   "execution_count": 33,
   "id": "26779738-00b0-43f1-8e97-2f933d7d7de1",
   "metadata": {},
   "outputs": [],
   "source": [
    "# Training the model\n",
    "\n",
    "lr.fit(x_train, y_train)\n",
    "lr_pred_test = lr.predict(x_test)\n",
    "lr_pred_train = lr.predict(x_train)"
   ]
  },
  {
   "cell_type": "code",
   "execution_count": 34,
   "id": "7514cb3b-2961-4b70-a08a-69cb52b9a648",
   "metadata": {},
   "outputs": [],
   "source": [
    "# Logistic Regression Test Accuracy\n",
    "lr_acc_test = accuracy_score(y_test, lr_pred_test)\n",
    "\n",
    "#MultinomialNB Test Accuracy\n",
    "mn_acc_test = accuracy_score(y_test, mn_pred_test)\n",
    "\n",
    "#BernoulliNB Test Accuracy\n",
    "bn_acc_test = accuracy_score(y_test, bn_pred_test)"
   ]
  },
  {
   "cell_type": "markdown",
   "id": "48d88785-f892-4840-9d69-275d10d428dc",
   "metadata": {},
   "source": [
    "***\n",
    "# ***Model Evaluation***"
   ]
  },
  {
   "cell_type": "code",
   "execution_count": 35,
   "id": "0f37daf2-a00d-4a56-ac9d-68ff349c7585",
   "metadata": {},
   "outputs": [
    {
     "name": "stdout",
     "output_type": "stream",
     "text": [
      "Accuracy score of Model Using Logistic Regression 0.8823007421748952\n",
      "Accuracy score of Model Using MultinomialNB  0.856405292029687\n",
      "Accuracy score of Model Using BernoulliNB  0.8556792513714101\n"
     ]
    }
   ],
   "source": [
    "print(\"Accuracy score of Model Using Logistic Regression\",lr_acc_test)\n",
    "print(\"Accuracy score of Model Using MultinomialNB \",mn_acc_test)\n",
    "print(\"Accuracy score of Model Using BernoulliNB \",bn_acc_test)"
   ]
  },
  {
   "cell_type": "code",
   "execution_count": 36,
   "id": "0ea4f701-382c-417f-8aec-ba2353fe128a",
   "metadata": {},
   "outputs": [
    {
     "data": {
      "image/png": "[encoded data removed]",
      "text/plain": [
       "<Figure size 1000x600 with 1 Axes>"
      ]
     },
     "metadata": {},
     "output_type": "display_data"
    }
   ],
   "source": [
    "# Define the accuracy scores for different models\n",
    "accuracy_scores = {\n",
    "    'Logistic Regression': lr_acc_test,\n",
    "    'MultinomialNB': mn_acc_test,\n",
    "    'BernoulliNB': bn_acc_test\n",
    "}\n",
    "\n",
    "# Extracting model names and their corresponding accuracy scores\n",
    "models = list(accuracy_scores.keys())\n",
    "scores = list(accuracy_scores.values())\n",
    "\n",
    "# Creating a bar chart\n",
    "plt.figure(figsize=(10, 6))  # Set the size of the figure\n",
    "bars = plt.bar(models, scores, color=['skyblue', 'lightcoral', 'lightgreen'])\n",
    "\n",
    "# Adding labels and title\n",
    "plt.xlabel('Models', fontsize=14)\n",
    "plt.ylabel('Accuracy Score', fontsize=14)\n",
    "plt.title('Comparison of Model Accuracy Scores', fontsize=16)\n",
    "\n",
    "# Adding value labels on top of each bar\n",
    "for bar in bars:\n",
    "    yval = bar.get_height()\n",
    "    plt.text(bar.get_x() + bar.get_width()/2, yval + 0.01, f'{yval:.2f}', ha='center', va='bottom', fontsize=12)\n",
    "\n",
    "\n",
    "plt.show()\n"
   ]
  },
  {
   "cell_type": "markdown",
   "id": "bb399f05-9ac5-44d9-8e7a-a985696770f3",
   "metadata": {},
   "source": [
    "***\n",
    "## ***Saving all the models for future use***\n"
   ]
  },
  {
   "cell_type": "code",
   "execution_count": 37,
   "id": "09d20954-dfb4-4591-bea7-26bfdea0019f",
   "metadata": {},
   "outputs": [
    {
     "data": {
      "text/plain": [
       "['bn_model.pkl']"
      ]
     },
     "execution_count": 37,
     "metadata": {},
     "output_type": "execute_result"
    }
   ],
   "source": [
    "# joblib.dump(): This function is used to save the model object to a file. It takes two arguments:\n",
    "# The model object to be saved (e.g., lr, mn, bn).\n",
    "# The filename where the model will be saved (e.g., \"lr_model.pkl\").\n",
    "\n",
    "joblib.dump(lr, \"lr_model.pkl\")  #Logistic Regression Model\n",
    "joblib.dump(mn, \"mn_model.pkl\")  #Multinomial Naive Bayes Model\n",
    "joblib.dump(bn, \"bn_model.pkl\")  #Bernoulli Naive Bayes Model\n",
    " "
   ]
  },
  {
   "cell_type": "markdown",
   "id": "4b05af22-eed5-4324-8a44-4039c53c6cf3",
   "metadata": {},
   "source": [
    "***\n",
    "# ***Checking the ML model on user's input***"
   ]
  },
  {
   "cell_type": "code",
   "execution_count": 43,
   "id": "1461e6eb-d810-4ea3-87e0-a48a619d5fc5",
   "metadata": {},
   "outputs": [
    {
     "name": "stdout",
     "output_type": "stream",
     "text": [
      "1\n"
     ]
    }
   ],
   "source": [
    "inp = \"I love this movie!\"\n",
    "\n",
    "# Preprocessing the input text\n",
    "inp = preprocess_text(inp)\n",
    "\n",
    "# Convert the text to a numerical format using a previously fitted vectorizer\n",
    "# transform([inp]) converts the preprocessed text into a feature vector. \n",
    "# The input text is wrapped in a list because transform expects an iterable of texts.\n",
    "inp = vectorizer.transform([inp])\n",
    "\n",
    "\n",
    "# user_pred_lr = lr.predict(inp): This line uses the trained Logistic Regression model (lr) to make a prediction based on the transformed input features.\n",
    "user_pred_lr = lr.predict(inp)\n",
    "print(user_pred_lr[0])"
   ]
  },
  {
   "cell_type": "markdown",
   "id": "58242f8c-83af-4a25-9138-a63890c176ce",
   "metadata": {},
   "source": [
    "### ***1 in the output shows positive sentiment***"
   ]
  },
  {
   "cell_type": "code",
   "execution_count": 45,
   "id": "11280a9f-ca97-4238-bf42-54b7196b9db8",
   "metadata": {},
   "outputs": [
    {
     "name": "stdout",
     "output_type": "stream",
     "text": [
      "int32\n",
      "0\n"
     ]
    }
   ],
   "source": [
    "inp2= \"Hating the movie\"\n",
    "\n",
    "# Preprocessing the input text\n",
    "inp2 = preprocess_text(inp2)\n",
    "\n",
    "# Convert the text to a numerical format using a previously fitted vectorizer\n",
    "# transform([inp]) converts the preprocessed text into a feature vector. \n",
    "# The input text is wrapped in a list because transform expects an iterable of texts.\n",
    "inp2 = vectorizer.transform([inp2])\n",
    "\n",
    "\n",
    "# user_pred_lr = lr.predict(inp): This line uses the trained Logistic Regression model (lr) to make a prediction based on the transformed input features.\n",
    "user2_pred_lr = lr.predict(inp2)\n",
    "print(user2_pred_lr.dtype)\n",
    "print(user2_pred_lr[0])"
   ]
  },
  {
   "cell_type": "markdown",
   "id": "9f094a7d-e506-48b1-817f-746af5af7a9e",
   "metadata": {},
   "source": [
    "### ***0 in the output shows positive sentiment***\n",
    "***\n",
    "***"
   ]
  }
 ],
 "metadata": {
  "kernelspec": {
   "display_name": "Python 3 (ipykernel)",
   "language": "python",
   "name": "python3"
  },
  "language_info": {
   "codemirror_mode": {
    "name": "ipython",
    "version": 3
   },
   "file_extension": ".py",
   "mimetype": "text/x-python",
   "name": "python",
   "nbconvert_exporter": "python",
   "pygments_lexer": "ipython3",
   "version": "3.11.7"
  }
 },
 "nbformat": 4,
 "nbformat_minor": 5
}
