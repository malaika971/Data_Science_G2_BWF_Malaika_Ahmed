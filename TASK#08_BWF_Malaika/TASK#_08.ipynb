{
 "cells": [
  {
   "cell_type": "code",
   "execution_count": null,
   "id": "05f950e1-9e1e-4443-a336-5cde788ae5cb",
   "metadata": {},
   "outputs": [
    {
     "name": "stdout",
     "output_type": "stream",
     "text": [
      "\n",
      "____Welcome to Inventory Management System____\n",
      "\n",
      "1. Add Product\n",
      "2. Update Stock\n",
      "3. Display All Products\n",
      "4. Display Products by Category\n",
      "5. Exit\n"
     ]
    },
    {
     "name": "stdin",
     "output_type": "stream",
     "text": [
      "Enter your choice:\n",
      " 1\n",
      "Enter product ID:  001\n",
      "Enter product name:  Pamolive\n",
      "Enter product category:  soap\n",
      "Enter product stock:  50\n"
     ]
    },
    {
     "name": "stdout",
     "output_type": "stream",
     "text": [
      "Product Pamolive added successfully.\n",
      "\n",
      "____Welcome to Inventory Management System____\n",
      "\n",
      "1. Add Product\n",
      "2. Update Stock\n",
      "3. Display All Products\n",
      "4. Display Products by Category\n",
      "5. Exit\n"
     ]
    },
    {
     "name": "stdin",
     "output_type": "stream",
     "text": [
      "Enter your choice:\n",
      " 1\n",
      "Enter product ID:  002\n",
      "Enter product name:  Tressme\n",
      "Enter product category:  shampoo\n",
      "Enter product stock:  60\n"
     ]
    },
    {
     "name": "stdout",
     "output_type": "stream",
     "text": [
      "Product Tressme added successfully.\n",
      "\n",
      "____Welcome to Inventory Management System____\n",
      "\n",
      "1. Add Product\n",
      "2. Update Stock\n",
      "3. Display All Products\n",
      "4. Display Products by Category\n",
      "5. Exit\n"
     ]
    },
    {
     "name": "stdin",
     "output_type": "stream",
     "text": [
      "Enter your choice:\n",
      " 2\n",
      "Enter product ID:  001\n",
      "Enter quantity to update (positive to add, negative to remove):  20\n"
     ]
    },
    {
     "name": "stdout",
     "output_type": "stream",
     "text": [
      "Stock for product ID 001 has been updated*\n",
      "\n",
      "____Welcome to Inventory Management System____\n",
      "\n",
      "1. Add Product\n",
      "2. Update Stock\n",
      "3. Display All Products\n",
      "4. Display Products by Category\n",
      "5. Exit\n"
     ]
    },
    {
     "name": "stdin",
     "output_type": "stream",
     "text": [
      "Enter your choice:\n",
      " 3\n"
     ]
    },
    {
     "name": "stdout",
     "output_type": "stream",
     "text": [
      "ID: 001, Name: Pamolive, Category: soap, Stock: 70\n",
      "ID: 002, Name: Tressme, Category: shampoo, Stock: 60\n",
      "\n",
      "____Welcome to Inventory Management System____\n",
      "\n",
      "1. Add Product\n",
      "2. Update Stock\n",
      "3. Display All Products\n",
      "4. Display Products by Category\n",
      "5. Exit\n"
     ]
    },
    {
     "name": "stdin",
     "output_type": "stream",
     "text": [
      "Enter your choice:\n",
      " 4\n",
      "Enter category to display:  soap\n"
     ]
    },
    {
     "name": "stdout",
     "output_type": "stream",
     "text": [
      "ID: 001, Name: Pamolive, Stock: 70\n",
      "\n",
      "____Welcome to Inventory Management System____\n",
      "\n",
      "1. Add Product\n",
      "2. Update Stock\n",
      "3. Display All Products\n",
      "4. Display Products by Category\n",
      "5. Exit\n"
     ]
    },
    {
     "name": "stdin",
     "output_type": "stream",
     "text": [
      "Enter your choice:\n",
      " 6\n"
     ]
    },
    {
     "name": "stdout",
     "output_type": "stream",
     "text": [
      "Invalid choice. Please try again.\n",
      "\n",
      "____Welcome to Inventory Management System____\n",
      "\n",
      "1. Add Product\n",
      "2. Update Stock\n",
      "3. Display All Products\n",
      "4. Display Products by Category\n",
      "5. Exit\n"
     ]
    },
    {
     "name": "stdin",
     "output_type": "stream",
     "text": [
      "Enter your choice:\n",
      " 1\n",
      "Enter product ID:  001\n",
      "Enter product name:  Safeguard\n",
      "Enter product category:  Soap\n",
      "Enter product stock:  20\n"
     ]
    },
    {
     "name": "stdout",
     "output_type": "stream",
     "text": [
      "Product ID 001 already exists. Please choose a different ID.\n",
      "\n",
      "____Welcome to Inventory Management System____\n",
      "\n",
      "1. Add Product\n",
      "2. Update Stock\n",
      "3. Display All Products\n",
      "4. Display Products by Category\n",
      "5. Exit\n"
     ]
    },
    {
     "name": "stdin",
     "output_type": "stream",
     "text": [
      "Enter your choice:\n",
      " 2\n"
     ]
    }
   ],
   "source": [
    "\n",
    "#=================PART# 01==============================\n",
    "#==============Data structures==========================\n",
    "\n",
    "# Dictionary to store product details\n",
    "product_details={}\n",
    "\n",
    "# List to store order of product addition\n",
    "product_order=[]\n",
    "\n",
    "# Set to track unique categories\n",
    "categories=set()\n",
    "\n",
    "# tuple to store product name and category\n",
    "product_info=()\n",
    "\n",
    "#================PART #02==============================\n",
    "#==============Functions===============================\n",
    "\n",
    "#Function to add product \n",
    "def add_product(product_id,name,category,stock):\n",
    "     #checking if product id already exits\n",
    "     if product_id in product_details:\n",
    "        print(\"Product ID \" + product_id +\" already exists. Please choose a different ID.\")\n",
    "     else:\n",
    "        # Adding product details to dictionary\n",
    "        product_details[product_id]={\"name\":name,\"category\":category,\"stock\":stock}\n",
    "        # Adding product ID to the order list\n",
    "        product_order.append(product_id)\n",
    "        # Adding category to the set of categories\n",
    "        categories.add(category)\n",
    "        print(\"Product \" + name + \" added successfully.\")\n",
    "\n",
    "\n",
    "\n",
    "#Function to update stock\n",
    "def update_stock(product_id,quantity):\n",
    "        # Checking if product ID exists\n",
    "        if product_id not in product_details:\n",
    "           print(\"Product ID \" + product_id + \" not found.\")\n",
    "        else:\n",
    "           # Updating the stock quantity\n",
    "           # Accessing the dictionary \"Product details\" and setting it\n",
    "           # to variable \"product\"\n",
    "           product = product_details[product_id]   \n",
    "           # Accessing current stock in stored in dictionary\n",
    "           current_stock = product['stock']\n",
    "           # Calculating new stock\n",
    "           new_stock = current_stock + quantity \n",
    "           # Updating stock value\n",
    "           product['stock'] = new_stock\n",
    "           print(\"Stock for product ID \" + product_id + \" has been updated*\")\n",
    "\n",
    "\n",
    "\n",
    "# Function to display all products\n",
    "def display_all_products():\n",
    "    # Check if list \"product_order\" is empty\n",
    "    if len(product_order)==0:\n",
    "        print(\"No products available.\")\n",
    "    else:\n",
    "        # Loop will iterate through each product IDs in \"product_order\" to display details\n",
    "        for product_id in product_order:\n",
    "            info = product_details[product_id]\n",
    "            product_name = info['name']\n",
    "            product_category = info['category']\n",
    "            stock = info['stock']\n",
    "\n",
    "            print(\"ID: \" + product_id + \", Name: \" \n",
    "                   + product_name + \", Category: \" \n",
    "                   + product_category + \", Stock: \" + str(stock))\n",
    "\n",
    "# Function to display products by a given category\n",
    "def display_by_category(category):\n",
    "    # Initialiing counter variable that will track the number of products\n",
    "    found_count = 0\n",
    "\n",
    "    # Loop will iterate through each product ID in the list \"product_order\"\n",
    "    for product_id in product_order:\n",
    "        product = product_details[product_id]\n",
    "        # Accessing name and category directly from the product dictionary\n",
    "        product_name = product['name']\n",
    "        product_category = product['category']\n",
    "        current_stock = product['stock']\n",
    "        \n",
    "\n",
    "        # Checking if the product's category matches the given category\n",
    "        # Accessing category directly from product dictionary\n",
    "        if product_category == category: \n",
    "            print(\"ID: \" + product_id + \", Name: \" + product_name + \", Stock: \" + str(current_stock))\n",
    "            # Increment the counter since a matching product was found\n",
    "            found_count += 1\n",
    "            \n",
    "    if found_count == 0:\n",
    "        print(\"No products found in category \" + category + \".\")\n",
    "\n",
    "\n",
    "#==============================PART #03=========================================\n",
    "#===========================MAIN FUNCTION=======================================\n",
    "\n",
    "def main():\n",
    "    while True:\n",
    "        print(\"\\n____Welcome to Inventory Management System____\\n\")\n",
    "        print(\"1. Add Product\")\n",
    "        print(\"2. Update Stock\")\n",
    "        print(\"3. Display All Products\")\n",
    "        print(\"4. Display Products by Category\")\n",
    "        print(\"5. Exit\")\n",
    "\n",
    "        \n",
    "        choice = input(\"Enter your choice:\\n\")\n",
    "        if choice == '1':\n",
    "            product_id = input(\"Enter product ID: \")\n",
    "            name = input(\"Enter product name: \")\n",
    "            category = input(\"Enter product category: \")\n",
    "            stock = int(input(\"Enter product stock: \"))\n",
    "            # calling \"add product\" function to add the information entered by user\n",
    "            add_product(product_id, name, category, stock)\n",
    "        \n",
    "        elif choice == '2':\n",
    "            product_id = input(\"Enter product ID: \")\n",
    "            quantity = int(input(\"Enter quantity to update (positive to add, negative to remove): \"))\n",
    "            # calling \"update_stock\" function to update the information entered by user\n",
    "            update_stock(product_id, quantity)\n",
    "        \n",
    "        elif choice == '3':\n",
    "            # calling \"Display_all_products\" function\n",
    "            display_all_products()\n",
    "        \n",
    "        elif choice == '4':\n",
    "            category = input(\"Enter category to display: \")\n",
    "            # calling \"display_by_category\" function to display the information\n",
    "            # acc to the category entered by user\n",
    "            display_by_category(category)\n",
    "        \n",
    "        elif choice == '5':\n",
    "            print(\"Exiting the program! Thank you for using Inventory management system\")\n",
    "            break\n",
    "        \n",
    "        else:\n",
    "            print(\"Invalid choice. Please try again.\")\n",
    "\n",
    "# Run the main function\n",
    "if __name__ == \"__main__\":\n",
    "    main()\n",
    "\n",
    "\n",
    "\n",
    "\n",
    " \n",
    "\n",
    "\n"
   ]
  },
  {
   "cell_type": "code",
   "execution_count": null,
   "id": "96f722fb-b7af-4345-a4da-001460d76289",
   "metadata": {},
   "outputs": [],
   "source": []
  }
 ],
 "metadata": {
  "kernelspec": {
   "display_name": "Python 3 (ipykernel)",
   "language": "python",
   "name": "python3"
  },
  "language_info": {
   "codemirror_mode": {
    "name": "ipython",
    "version": 3
   },
   "file_extension": ".py",
   "mimetype": "text/x-python",
   "name": "python",
   "nbconvert_exporter": "python",
   "pygments_lexer": "ipython3",
   "version": "3.11.7"
  }
 },
 "nbformat": 4,
 "nbformat_minor": 5
}
