{
 "cells": [
  {
   "cell_type": "markdown",
   "id": "6e2d3481-b23c-4897-9fae-2a31df6f3255",
   "metadata": {},
   "source": [
    "## EXPLORING DIFFERENT CELLS IN JUPYTER NOTEBOOK\n",
    "### TASK#03"
   ]
  },
  {
   "cell_type": "markdown",
   "id": "7f793861-d8f2-46aa-8206-5cd93fdecf36",
   "metadata": {},
   "source": [
    "## 1.Code cell \n",
    " First is code cell,in which we write code and it displays the output on screen "
   ]
  },
  {
   "cell_type": "markdown",
   "id": "c878097d-4762-4b80-80d0-8e73330d3e84",
   "metadata": {},
   "source": [
    "## 2.Markdown\n",
    " Second is Markdown headings.Headings can be of various levels\n",
    "\n",
    "# Level#01 Heading\n",
    "## Level#02 Heading\n",
    "### Level#03 Heading\n",
    "#### Level#03 Heading"
   ]
  },
  {
   "cell_type": "markdown",
   "id": "1c4b9fb4-82cb-4e97-980f-e91c4f578f95",
   "metadata": {},
   "source": [
    "## 3.Adding List\n",
    "Markdown heading can also be used to adding list\n",
    "ADDING LIST WITH NUMBERS\n",
    "1. List#01\n",
    "     1. Sublist#01 inside List#01\n",
    "     2. Sublist#02  inside List#01\n",
    "2. List#02\n",
    "      1. Sublist#01 inside List#02\n",
    "      2. Sublist#02 inside List#03\n",
    "\n",
    "ADDING LIST WITH BULLETS\n",
    "(use hyphen before list name)\n",
    "- List#03\n",
    "    - Sublist#01 inside List#03\n",
    "    - Sublist#02 inside List#03\n",
    "\n"
   ]
  },
  {
   "cell_type": "markdown",
   "id": "2d07c3c1-06bd-4b7b-9269-59cd715de764",
   "metadata": {},
   "source": [
    "## 4.Adding links\n",
    "For adding links use round brackets\n",
    "(https://github.com/malaika971/Data_Science_G2_BWF_Malaika_Ahmed)"
   ]
  },
  {
   "cell_type": "markdown",
   "id": "e02bd3ac-0684-44fd-9ac3-26e4432f247e",
   "metadata": {
    "jp-MarkdownHeadingCollapsed": true
   },
   "source": [
    "## 5.Creating Table \n",
    "\n",
    "\r\n",
    "| Sr No. | Name   | Semester | Discipline   | University |\r\n",
    "|--------|--------|----------|--------------|------------|\r\n",
    "| 01     | Fatimah| 8th      | Data Science | NUST       |\r\n",
    "| 02     | Aminah | 6th      | AI           | FAST       |\r\n",
    "| 03     | Ayesha | 2nd      | CS           | LUMS  s   |\r\n",
    "|"
   ]
  },
  {
   "cell_type": "markdown",
   "id": "d2fbe7a7-da27-4227-bf09-be61681c30c3",
   "metadata": {},
   "source": [
    "## 6.Adding Equation\n",
    "\n",
    "\\begin{equation}\n",
    "x^2=y^2+z^2\n",
    "\\end{equation}"
   ]
  },
  {
   "cell_type": "markdown",
   "id": "0d952530-0945-49bf-b80f-8d8d759a6474",
   "metadata": {},
   "source": [
    "[](DS.PNG)"
   ]
  }
 ],
 "metadata": {
  "kernelspec": {
   "display_name": "Python 3 (ipykernel)",
   "language": "python",
   "name": "python3"
  },
  "language_info": {
   "codemirror_mode": {
    "name": "ipython",
    "version": 3
   },
   "file_extension": ".py",
   "mimetype": "text/x-python",
   "name": "python",
   "nbconvert_exporter": "python",
   "pygments_lexer": "ipython3",
   "version": "3.11.7"
  }
 },
 "nbformat": 4,
 "nbformat_minor": 5
}
