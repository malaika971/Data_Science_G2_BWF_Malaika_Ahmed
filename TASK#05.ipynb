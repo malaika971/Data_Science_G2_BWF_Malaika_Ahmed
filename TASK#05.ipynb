{
 "cells": [
  {
   "cell_type": "markdown",
   "id": "329d688e-0540-477a-8d11-097c6065277b",
   "metadata": {},
   "source": [
    "# Task 5: If conditions, for loops, while loops, and functions using Python"
   ]
  },
  {
   "cell_type": "markdown",
   "id": "49f1015f-8217-41c6-884d-5550d50273a9",
   "metadata": {},
   "source": [
    "## PROJECT #01- List down numbers from 1-10 in ascending and descending order using while and for loop and indicates that \"midway\" when number reaches 5\n"
   ]
  },
  {
   "cell_type": "code",
   "execution_count": 33,
   "id": "d558354f-487d-4452-b8cb-b2cb66018713",
   "metadata": {},
   "outputs": [
    {
     "name": "stdout",
     "output_type": "stream",
     "text": [
      "Ascending order using for loop\n",
      "1 2 3 4 Midway 6 7 8 9 10 \n",
      "Descending order using for loop\n",
      "10 9 8 7 6 Midway 4 3 2 1 \n",
      " \n",
      "Ascending order using while loop\n",
      "1 2 3 4 Midway 6 7 8 9 10 \n",
      "Descending order using while loop\n",
      "10 9 8 7 6 Midway 4 3 2 1 "
     ]
    }
   ],
   "source": [
    "#FOR_LOOP\n",
    "print(\"Ascending order using for loop\")\n",
    "for i in range(1,11,1):\n",
    "     if i==5:\n",
    "        print(\"Midway\",end=\" \")\n",
    "     else:\n",
    "        print(i,end =\" \")\n",
    "         \n",
    "print(\"\\nDescending order using for loop\")\n",
    "for i in range(10,0,-1):\n",
    "    if i==5:\n",
    "        print(\"Midway\",end=\" \")\n",
    "    else:\n",
    "       print(i,end =\" \")\n",
    "\n",
    "#WHILE_LOOP\n",
    "print(\"\\n \\nAscending order using while loop\")\n",
    "i=1\n",
    "while i<11:\n",
    "    if i==5:\n",
    "        print(\"Midway\",end= \" \")\n",
    "    else:\n",
    "        print(i,end =\" \")\n",
    "    i=i+1\n",
    "\n",
    "print(\"\\nDescending order using while loop\")\n",
    "i=10\n",
    "while i>0:\n",
    "    if i==5:\n",
    "        print(\"Midway\",end= \" \")\n",
    "    else:\n",
    "        print(i,end =\" \")\n",
    "    i=i-1\n"
   ]
  },
  {
   "cell_type": "markdown",
   "id": "5ca31488-9e27-4ef5-a629-3ed41576d28c",
   "metadata": {},
   "source": [
    "## PROJECT #02- Make a python function that input marks of 5 students and gives the grades as output\n"
   ]
  },
  {
   "cell_type": "code",
   "execution_count": 55,
   "id": "698d970f-9e9a-488c-b6fe-0dfc34df8b2d",
   "metadata": {},
   "outputs": [
    {
     "name": "stdout",
     "output_type": "stream",
     "text": [
      "GOOD LUCK :)\n"
     ]
    },
    {
     "name": "stdin",
     "output_type": "stream",
     "text": [
      "Enter your marks please:  90\n"
     ]
    },
    {
     "name": "stdout",
     "output_type": "stream",
     "text": [
      "Grade: A\n",
      "\n"
     ]
    },
    {
     "name": "stdin",
     "output_type": "stream",
     "text": [
      "Enter your marks please:  -8\n"
     ]
    },
    {
     "name": "stdout",
     "output_type": "stream",
     "text": [
      "Marks can't be negative, enter valid\n",
      "\n"
     ]
    },
    {
     "name": "stdin",
     "output_type": "stream",
     "text": [
      "Enter your marks please:  0\n"
     ]
    },
    {
     "name": "stdout",
     "output_type": "stream",
     "text": [
      "Kindly enter valid marks in the range of 1-100\n",
      "\n"
     ]
    },
    {
     "name": "stdin",
     "output_type": "stream",
     "text": [
      "Enter your marks please:  60\n"
     ]
    },
    {
     "name": "stdout",
     "output_type": "stream",
     "text": [
      "Grade: B\n",
      "\n"
     ]
    },
    {
     "name": "stdin",
     "output_type": "stream",
     "text": [
      "Enter your marks please:  23\n"
     ]
    },
    {
     "name": "stdout",
     "output_type": "stream",
     "text": [
      "Grade: F\n",
      "\n",
      "None\n"
     ]
    }
   ],
   "source": [
    "def Marks():\n",
    "    for i in range(5):\n",
    "        marks = int(input(\"Enter your marks please: \"))\n",
    "        if marks >= 80 and marks <= 100:\n",
    "            print(\"Grade: A\\n\")\n",
    "        elif marks >= 60:\n",
    "            print(\"Grade: B\\n\")\n",
    "        elif marks >= 40:\n",
    "            print(\"Grade: C\\n\")\n",
    "        elif marks <= 39 and marks > 0:\n",
    "            print(\"Grade: F\\n\")\n",
    "        elif marks == 0:\n",
    "            print(\"Kindly enter valid marks in the range of 1-100\\n\")\n",
    "        elif marks <= 0:\n",
    "            print(\"Marks can't be negative, enter valid\\n\")\n",
    "\n",
    "print(\"GOOD LUCK :)\") \n",
    "\n",
    "output=Marks()\n",
    "print(output)"
   ]
  },
  {
   "cell_type": "markdown",
   "id": "c049df54-ccd6-4100-8957-d3a40451ae35",
   "metadata": {},
   "source": [
    "# PROJECT #03 -Create the patterns using python\n",
    "## PART 01(a)-Print pattern using 2 loops\n"
   ]
  },
  {
   "cell_type": "code",
   "execution_count": 167,
   "id": "e3031417-a1e2-482e-99fe-a370b91fd922",
   "metadata": {},
   "outputs": [
    {
     "name": "stdout",
     "output_type": "stream",
     "text": [
      "* \n",
      "* * \n",
      "* * * \n",
      "* * * * \n",
      "* * * * * \n"
     ]
    }
   ],
   "source": [
    "rows=5\n",
    "for i in range(1,rows+1):   #Outer loop i is for printing rows\n",
    "    for j in range(1,i+1):  #Inner loop j is for printing *\n",
    "        print(\"*\",end=\" \")  #end=\" \" shows that after each * dont move in the next line,continue in the same line\n",
    "    print(\"\")              #when inner loop j is done,it will move in the next line"
   ]
  },
  {
   "cell_type": "markdown",
   "id": "cd929e22-b4b5-4839-8381-05e3314512be",
   "metadata": {},
   "source": [
    "# PROJECT #03\n",
    "## PART 01(b)-Print pattern using single loop\n",
    "\n",
    "   "
   ]
  },
  {
   "cell_type": "code",
   "execution_count": 184,
   "id": "6017971b-a819-449e-9bb7-5639a8f29481",
   "metadata": {},
   "outputs": [
    {
     "name": "stdout",
     "output_type": "stream",
     "text": [
      "*\n",
      "**\n",
      "***\n",
      "****\n",
      "*****\n"
     ]
    }
   ],
   "source": [
    "rows=5 \n",
    "for i in range(1, rows + 1):\n",
    "        print(\"*\" * i)\n"
   ]
  },
  {
   "cell_type": "markdown",
   "id": "ec5946c8-11d0-4b99-ade6-b1feba1198b4",
   "metadata": {},
   "source": [
    "# PROJECT #03\n",
    "## part#01(c)- Invert the same pattern using 2 loops\n"
   ]
  },
  {
   "cell_type": "code",
   "execution_count": 165,
   "id": "ff925bc3-82bb-43c8-98ad-d98258fb6753",
   "metadata": {},
   "outputs": [
    {
     "name": "stdout",
     "output_type": "stream",
     "text": [
      "* * * * * *  \n",
      "* * * * *  \n",
      "* * * *  \n",
      "* * *  \n",
      "* *  \n",
      "*  \n"
     ]
    }
   ],
   "source": [
    "rows=5\n",
    "for i in range(rows+1,0,-1):   #Outer loop i is for printing rows\n",
    "    for j in range(1,i+1):  #Inner loop j is for printing *\n",
    "        print(\"*\",end=\" \")  #end=\" \" shows that after each * dont move in the next line,continue in the same line\n",
    "    print(\" \")              #when inner loop j is done,it will move in the next line\n"
   ]
  },
  {
   "cell_type": "markdown",
   "id": "6955ea7c-e502-4b4d-b2ea-1d6b6d41f880",
   "metadata": {},
   "source": [
    "# PROJECT #03\n",
    "## part#01(d)- Invert the same pattern using single loop\n"
   ]
  },
  {
   "cell_type": "code",
   "execution_count": 192,
   "id": "037cecf2-51e9-419f-9c43-fbd9dec21358",
   "metadata": {},
   "outputs": [
    {
     "name": "stdout",
     "output_type": "stream",
     "text": [
      "******\n",
      "*****\n",
      "****\n",
      "***\n",
      "**\n",
      "*\n"
     ]
    }
   ],
   "source": [
    "rows=5 \n",
    "for i in range(rows+1, 0,-1):\n",
    "        print(\"*\" * i)\n"
   ]
  },
  {
   "cell_type": "markdown",
   "id": "84569269-94e8-4f5a-b0ac-e4a69e69e441",
   "metadata": {},
   "source": [
    "# PROJECT #03\n",
    "## PART_#02(a)"
   ]
  },
  {
   "cell_type": "code",
   "execution_count": 155,
   "id": "6c8f4358-22d0-4b2b-a600-0866bc855da3",
   "metadata": {},
   "outputs": [
    {
     "name": "stdout",
     "output_type": "stream",
     "text": [
      "        * \n",
      "      * * * \n",
      "    * * * * * \n",
      "  * * * * * * * \n",
      "* * * * * * * * * \n"
     ]
    }
   ],
   "source": [
    "rows=6\n",
    "\n",
    "for i in range(1,rows):             #Outer loop is for printing lines,it will run from 1-5,the pattern will be of 5 lines\n",
    "    for j in range(1,rows-i):       #Inner loop j runs from 1 to 6-i,it will keep track of number of spaces.For example in first iteration when i is 1,\n",
    "         print(\" \",end =\" \")        #,inner loop j will run from 1 to 6-1=5(excluding),result in having 4 leading spaces\n",
    "        \n",
    "    for k in range(1,2*i):         #For first iteration i=1,Second inner loop k will run from 1 to 2(1)=2(excluding),result in printing 1 star\n",
    "        print(\"*\",end=\" \")\n",
    "        \n",
    "    print()                       #When both inner loops are done,it will move towards next line.\n"
   ]
  },
  {
   "cell_type": "markdown",
   "id": "fda8f384-35b6-4a73-8760-8adb00b787ee",
   "metadata": {},
   "source": [
    "# Project#03\n",
    "## PART_#02(b)"
   ]
  },
  {
   "cell_type": "code",
   "execution_count": 158,
   "id": "f429b963-be98-4949-b8be-0f2e0f3a32a9",
   "metadata": {},
   "outputs": [
    {
     "name": "stdout",
     "output_type": "stream",
     "text": [
      "* * * * * * * * * * * \n",
      "* * * * * * * * * \n",
      "  * * * * * * * \n",
      "    * * * * * \n",
      "      * * * \n",
      "        * \n"
     ]
    }
   ],
   "source": [
    "rows=6\n",
    "\n",
    "for i in range(rows,0,-1):             #Outer loop is for printing lines,it will run from 1-5,the pattern will be of 5 lines\n",
    "    for j in range(1,rows-i):       #Inner loop j runs from 1 to 6-i,it will keep track of number of spaces.For example in first iteration when i is 1,\n",
    "         print(\" \",end =\" \")        #,inner loop j will run from 1 to 6-1=5(excluding),result in having 4 leading spaces\n",
    "        \n",
    "    for k in range(1,2*i):         #For first iteration i=1,Second inner loop k will run from 1 to 2(1)=2(excluding),result in printing 1 star\n",
    "        print(\"*\",end=\" \")\n",
    "        \n",
    "    print()                       #When both inner loops are done,it will move towards next line.\n"
   ]
  },
  {
   "cell_type": "markdown",
   "id": "cd608daa-3b79-4b03-98f9-e6a2080efa10",
   "metadata": {},
   "source": [
    "# Project#03\n",
    "## PART_#03(a)"
   ]
  },
  {
   "cell_type": "code",
   "execution_count": 169,
   "id": "ccaa0b39-b68b-4e21-b35a-0d6a216a43d3",
   "metadata": {},
   "outputs": [
    {
     "name": "stdout",
     "output_type": "stream",
     "text": [
      "\n",
      "1 \n",
      "2 3 \n",
      "4 5 6 \n",
      "7 8 9 10 \n",
      "11 12 13 14 15 \n"
     ]
    }
   ],
   "source": [
    "rows=6\n",
    "num=1\n",
    "for i in range(0,rows):  #outer loop will run from 1 to 5.there will be 5 iterations in total\n",
    "    for j in range(0,i): #inner loop will run from 0 to i.For example when we have first iteration i.e i=1,inner loop will run once\n",
    "        print(num,end=\" \") #inner loop will print value of num,when i=1,num will be 1.\n",
    "        num=num+1         #after each iteration value of num will have increment of 1.After first iteration,when inner loop j is done.Num will have \n",
    "     print()              #value of 2.Likewise for subsequent iterations,it will follow the same pattern"
   ]
  },
  {
   "cell_type": "markdown",
   "id": "cb2e8de7-1ef4-48f6-962a-0e0f3ea5604e",
   "metadata": {},
   "source": [
    "\n",
    "# Project#03\n",
    "## PART_#03(b)\n"
   ]
  },
  {
   "cell_type": "code",
   "execution_count": 188,
   "id": "91f11f4f-99ff-4dbd-bd89-423f594126ae",
   "metadata": {},
   "outputs": [
    {
     "name": "stdout",
     "output_type": "stream",
     "text": [
      "15 14 13 12 11 \n",
      "10 9 8 7 \n",
      "6 5 4 \n",
      "3 2 \n",
      "1 \n"
     ]
    }
   ],
   "source": [
    "rows=5\n",
    "num=15\n",
    "for i in range(0,rows):  #outer loop will run from 1 to 5.there will be 5 iterations in total\n",
    "    for j in range(0,rows-i): #inner loop will run from 0 to i.For example when we have first iteration i.e i=1,inner loop will run once\n",
    "        print(num,end=\" \") #inner loop will print value of num,when i=1,num will be 1.\n",
    "        num=num-1         #after each iteration value of num will have increment of 1.After first iteration,when inner loop j is done.Num will have \n",
    "    print()      "
   ]
  },
  {
   "cell_type": "markdown",
   "id": "7926a04e-7cd3-4d7e-81d6-0862fa83be39",
   "metadata": {},
   "source": [
    "# Project #04\n",
    "## Number Guessing Game in Python"
   ]
  },
  {
   "cell_type": "code",
   "execution_count": 200,
   "id": "3256582c-789d-48e2-890c-c5d368dffa19",
   "metadata": {},
   "outputs": [
    {
     "name": "stdin",
     "output_type": "stream",
     "text": [
      "Guess any number from 1 to 10\n",
      " 0\n"
     ]
    },
    {
     "name": "stdout",
     "output_type": "stream",
     "text": [
      "Invalid number!please guess from 1 to 10\n",
      "\n"
     ]
    },
    {
     "name": "stdin",
     "output_type": "stream",
     "text": [
      "Guess any number from 1 to 10\n",
      " 99\n"
     ]
    },
    {
     "name": "stdout",
     "output_type": "stream",
     "text": [
      "Invalid number!please guess from 1 to 10\n",
      "\n"
     ]
    },
    {
     "name": "stdin",
     "output_type": "stream",
     "text": [
      "Guess any number from 1 to 10\n",
      " 8\n"
     ]
    },
    {
     "name": "stdout",
     "output_type": "stream",
     "text": [
      "Wrong guess!Try again.Better luck next time :)\n",
      "\n"
     ]
    },
    {
     "name": "stdin",
     "output_type": "stream",
     "text": [
      "Guess any number from 1 to 10\n",
      " 9\n"
     ]
    },
    {
     "name": "stdout",
     "output_type": "stream",
     "text": [
      "Wrong guess!Try again.Better luck next time :)\n",
      "\n"
     ]
    },
    {
     "name": "stdin",
     "output_type": "stream",
     "text": [
      "Guess any number from 1 to 10\n",
      " 7\n"
     ]
    },
    {
     "name": "stdout",
     "output_type": "stream",
     "text": [
      "Wrong guess!Try again.Better luck next time :)\n",
      "\n",
      "Sorry you run out of attempt\n",
      " Secret number is 5\n"
     ]
    }
   ],
   "source": [
    "secret_number=5\n",
    "\n",
    "for num in range(1,6):\n",
    "    guess_number=int(input(\"Guess any number from 1 to 10\\n\"))\n",
    "    if guess_number<=0 or guess_number>10:\n",
    "        print(\"Invalid number!please guess from 1 to 10\\n\")\n",
    "    elif guess_number==secret_number:\n",
    "        print(\"You guess right\")\n",
    "        break\n",
    "    else:\n",
    "        print(\"Wrong guess!Try again.Better luck next time :)\\n\")\n",
    "    if num==5:\n",
    "       print(\"Sorry you run out of attempt\\n Secret number is\",secret_number)"
   ]
  },
  {
   "cell_type": "markdown",
   "id": "18252014-84b3-4f7f-9f59-88fc03b33bb4",
   "metadata": {},
   "source": [
    "# PROJECT 05\n",
    "## GUESSING CHARACTERS\n"
   ]
  },
  {
   "cell_type": "code",
   "execution_count": 233,
   "id": "ca5bcd24-320b-44b9-9c71-6bd8e5673d94",
   "metadata": {},
   "outputs": [
    {
     "name": "stdin",
     "output_type": "stream",
     "text": [
      "Guess any character from A TO F.Write in capital please \n",
      " A\n"
     ]
    },
    {
     "name": "stdout",
     "output_type": "stream",
     "text": [
      "WRONG GUESS.BETTER LUCK NEXT TIME\n"
     ]
    },
    {
     "name": "stdin",
     "output_type": "stream",
     "text": [
      "Guess any character from A TO F.Write in capital please \n",
      " K\n"
     ]
    },
    {
     "name": "stdout",
     "output_type": "stream",
     "text": [
      "INVALID INPUT,GUESS FROM A TO F\n",
      "\n"
     ]
    },
    {
     "name": "stdin",
     "output_type": "stream",
     "text": [
      "Guess any character from A TO F.Write in capital please \n",
      " b\n"
     ]
    },
    {
     "name": "stdout",
     "output_type": "stream",
     "text": [
      "INVALID INPUT,GUESS FROM A TO F\n",
      "\n"
     ]
    },
    {
     "name": "stdin",
     "output_type": "stream",
     "text": [
      "Guess any character from A TO F.Write in capital please \n",
      " D\n"
     ]
    },
    {
     "name": "stdout",
     "output_type": "stream",
     "text": [
      "RIGHT GUESS\n",
      "Thanks for using character guessing game\n",
      "\n"
     ]
    }
   ],
   "source": [
    "secret_character=\"D\"\n",
    "for guess in range(1,6):\n",
    "    guess_character=input(\"Guess any character from A TO F.Write in capital please \\n\")\n",
    "    if guess_character==secret_character:\n",
    "        print(\"RIGHT GUESS\")\n",
    "        break\n",
    "    elif guess_character not in [\"A\",\"B\",\"C\",\"D\",\"E\",\"F\"]:\n",
    "        print(\"INVALID INPUT,GUESS FROM A TO F\\n\")\n",
    "    else:\n",
    "        print(\"WRONG GUESS.BETTER LUCK NEXT TIME\")\n",
    "    if guess==5:\n",
    "        print(\"You have reached your guess limit\\n\")\n",
    "print(\"Thanks for using character guessing game\\n\")"
   ]
  }
 ],
 "metadata": {
  "kernelspec": {
   "display_name": "Python 3 (ipykernel)",
   "language": "python",
   "name": "python3"
  },
  "language_info": {
   "codemirror_mode": {
    "name": "ipython",
    "version": 3
   },
   "file_extension": ".py",
   "mimetype": "text/x-python",
   "name": "python",
   "nbconvert_exporter": "python",
   "pygments_lexer": "ipython3",
   "version": "3.11.7"
  }
 },
 "nbformat": 4,
 "nbformat_minor": 5
}
