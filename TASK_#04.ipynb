{
 "cells": [
  {
   "cell_type": "code",
   "execution_count": null,
   "id": "d97420b9-06bd-4c56-9274-a4ed049a673f",
   "metadata": {},
   "outputs": [],
   "source": [
    "##  TASK : Ask user to take a number. Program will tell either the number is\n",
    "\n",
    "## > Positive Even\n",
    "## > Positive Odd\n",
    "## > Negative Even\n",
    "## > Negative Odd\n",
    "## > Zero"
   ]
  },
  {
   "cell_type": "code",
   "execution_count": 1,
   "id": "7e5f10f9-2f90-47da-8896-f285c47abe1b",
   "metadata": {},
   "outputs": [
    {
     "name": "stdin",
     "output_type": "stream",
     "text": [
      "Enter a number\n",
      " 8\n"
     ]
    },
    {
     "name": "stdout",
     "output_type": "stream",
     "text": [
      "Positive Even\n",
      "\n"
     ]
    },
    {
     "name": "stdin",
     "output_type": "stream",
     "text": [
      "Enter a number\n",
      " -9\n"
     ]
    },
    {
     "name": "stdout",
     "output_type": "stream",
     "text": [
      "Negative odd\n"
     ]
    },
    {
     "name": "stdin",
     "output_type": "stream",
     "text": [
      "Enter a number\n",
      " 6\n"
     ]
    },
    {
     "name": "stdout",
     "output_type": "stream",
     "text": [
      "Positive Even\n",
      "\n"
     ]
    },
    {
     "name": "stdin",
     "output_type": "stream",
     "text": [
      "Enter a number\n",
      " 0\n"
     ]
    },
    {
     "name": "stdout",
     "output_type": "stream",
     "text": [
      "Zero\n"
     ]
    },
    {
     "name": "stdin",
     "output_type": "stream",
     "text": [
      "Enter a number\n",
      " -4\n"
     ]
    },
    {
     "name": "stdout",
     "output_type": "stream",
     "text": [
      "Negative even\n"
     ]
    }
   ],
   "source": [
    "for num in range(0,5):\n",
    "    number=int(input(\"Enter a number\\n\"))\n",
    "\n",
    "    if number>0 and number%2==0: \n",
    "       print(\"Positive Even\\n\")\n",
    "    elif number>0 and number%2!=0:\n",
    "       print(\"Positive Odd\\n\")\n",
    "    elif number<0 and number%2==0:\n",
    "        print(\"Negative even\")\n",
    "    elif number<0 and number%2!=0:\n",
    "      print(\"Negative odd\")\n",
    "    elif number==0:\n",
    "      print(\"Zero\")\n",
    "    else:\n",
    "      print(\"Invalid! please enter numeric numbers\")"
   ]
  },
  {
   "cell_type": "code",
   "execution_count": null,
   "id": "38a2400f-68e1-4d11-97ad-b41c8a012a76",
   "metadata": {},
   "outputs": [],
   "source": []
  }
 ],
 "metadata": {
  "kernelspec": {
   "display_name": "Python 3 (ipykernel)",
   "language": "python",
   "name": "python3"
  },
  "language_info": {
   "codemirror_mode": {
    "name": "ipython",
    "version": 3
   },
   "file_extension": ".py",
   "mimetype": "text/x-python",
   "name": "python",
   "nbconvert_exporter": "python",
   "pygments_lexer": "ipython3",
   "version": "3.11.7"
  }
 },
 "nbformat": 4,
 "nbformat_minor": 5
}
