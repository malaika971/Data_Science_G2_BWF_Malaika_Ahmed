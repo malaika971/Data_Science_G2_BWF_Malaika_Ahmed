{
 "cells": [
  {
   "cell_type": "markdown",
   "id": "1a76e5cb-208e-4d25-ab4b-556a7ec540df",
   "metadata": {},
   "source": [
    "# 🔴 **Task 20: Feature Engineering**\n",
    "    Submitted by: Malaika Ahmed\r\n",
    "Feature engineering is the process of using domain knowledge to select, modify, or create new features (variables) that make machine learning algorithms work better. It is one of the most critical steps in building effective machine-learning models because it directly influences the model's ability to learn and make accurate predictions.\n",
    "\n",
    "\n"
   ]
  },
  {
   "cell_type": "markdown",
   "id": "4eba8a2a-052d-4c9f-9305-01fa91a3fd37",
   "metadata": {},
   "source": [
    "## Key steps in feature engineering include:\r\n",
    "\r\n",
    "1. Feature Selection: Identifying the most relevant features that contribute to the model's accuracy.\r\n",
    "2. Feature Transformation: Applying mathematical transformations to features to improve the model's performance.\r\n",
    "3. Feature Creation: Creating new features from existing data to provide more information to the model.\r\n"
   ]
  },
  {
   "cell_type": "markdown",
   "id": "5be3b692-f6af-41ad-b5fc-381d004e9d3f",
   "metadata": {},
   "source": [
    "# **Task 1: Feature Selection**\n"
   ]
  },
  {
   "cell_type": "code",
   "execution_count": 1,
   "id": "82492850-b06c-4b58-a5ae-c1e0b323420b",
   "metadata": {},
   "outputs": [],
   "source": [
    "# IMPORTING LIBRARIES"
   ]
  },
  {
   "cell_type": "code",
   "execution_count": 402,
   "id": "29d87b38-241e-42d1-a54b-3661d178bb92",
   "metadata": {},
   "outputs": [],
   "source": [
    "import pandas as pd\n",
    "import numpy as np\n",
    "import matplotlib.pyplot as plt\n",
    "import seaborn as sns\n",
    "\n",
    "from sklearn.linear_model import LogisticRegression\n",
    "\n",
    "from sklearn.preprocessing import PolynomialFeatures\n",
    "from sklearn.preprocessing import OrdinalEncoder\n",
    "from sklearn.preprocessing import LabelEncoder\n",
    "\n",
    "\n",
    "from sklearn.feature_selection import chi2\n",
    "from sklearn.preprocessing import MinMaxScaler, LabelEncoder\n",
    "\n",
    "from sklearn.model_selection import train_test_split\n",
    "from sklearn.preprocessing import StandardScaler\n"
   ]
  },
  {
   "cell_type": "code",
   "execution_count": 96,
   "id": "259d9fef-2479-48d5-9d8f-7645aa0cbeef",
   "metadata": {},
   "outputs": [
    {
     "data": {
      "text/html": [
       "<div>\n",
       "<style scoped>\n",
       "    .dataframe tbody tr th:only-of-type {\n",
       "        vertical-align: middle;\n",
       "    }\n",
       "\n",
       "    .dataframe tbody tr th {\n",
       "        vertical-align: top;\n",
       "    }\n",
       "\n",
       "    .dataframe thead th {\n",
       "        text-align: right;\n",
       "    }\n",
       "</style>\n",
       "<table border=\"1\" class=\"dataframe\">\n",
       "  <thead>\n",
       "    <tr style=\"text-align: right;\">\n",
       "      <th></th>\n",
       "      <th>survived</th>\n",
       "      <th>pclass</th>\n",
       "      <th>sex</th>\n",
       "      <th>age</th>\n",
       "      <th>sibsp</th>\n",
       "      <th>parch</th>\n",
       "      <th>fare</th>\n",
       "      <th>embarked</th>\n",
       "      <th>class</th>\n",
       "      <th>who</th>\n",
       "      <th>adult_male</th>\n",
       "      <th>deck</th>\n",
       "      <th>embark_town</th>\n",
       "      <th>alive</th>\n",
       "      <th>alone</th>\n",
       "    </tr>\n",
       "  </thead>\n",
       "  <tbody>\n",
       "    <tr>\n",
       "      <th>0</th>\n",
       "      <td>0</td>\n",
       "      <td>3</td>\n",
       "      <td>male</td>\n",
       "      <td>22.0</td>\n",
       "      <td>1</td>\n",
       "      <td>0</td>\n",
       "      <td>7.2500</td>\n",
       "      <td>S</td>\n",
       "      <td>Third</td>\n",
       "      <td>man</td>\n",
       "      <td>True</td>\n",
       "      <td>NaN</td>\n",
       "      <td>Southampton</td>\n",
       "      <td>no</td>\n",
       "      <td>False</td>\n",
       "    </tr>\n",
       "    <tr>\n",
       "      <th>1</th>\n",
       "      <td>1</td>\n",
       "      <td>1</td>\n",
       "      <td>female</td>\n",
       "      <td>38.0</td>\n",
       "      <td>1</td>\n",
       "      <td>0</td>\n",
       "      <td>71.2833</td>\n",
       "      <td>C</td>\n",
       "      <td>First</td>\n",
       "      <td>woman</td>\n",
       "      <td>False</td>\n",
       "      <td>C</td>\n",
       "      <td>Cherbourg</td>\n",
       "      <td>yes</td>\n",
       "      <td>False</td>\n",
       "    </tr>\n",
       "    <tr>\n",
       "      <th>2</th>\n",
       "      <td>1</td>\n",
       "      <td>3</td>\n",
       "      <td>female</td>\n",
       "      <td>26.0</td>\n",
       "      <td>0</td>\n",
       "      <td>0</td>\n",
       "      <td>7.9250</td>\n",
       "      <td>S</td>\n",
       "      <td>Third</td>\n",
       "      <td>woman</td>\n",
       "      <td>False</td>\n",
       "      <td>NaN</td>\n",
       "      <td>Southampton</td>\n",
       "      <td>yes</td>\n",
       "      <td>True</td>\n",
       "    </tr>\n",
       "    <tr>\n",
       "      <th>3</th>\n",
       "      <td>1</td>\n",
       "      <td>1</td>\n",
       "      <td>female</td>\n",
       "      <td>35.0</td>\n",
       "      <td>1</td>\n",
       "      <td>0</td>\n",
       "      <td>53.1000</td>\n",
       "      <td>S</td>\n",
       "      <td>First</td>\n",
       "      <td>woman</td>\n",
       "      <td>False</td>\n",
       "      <td>C</td>\n",
       "      <td>Southampton</td>\n",
       "      <td>yes</td>\n",
       "      <td>False</td>\n",
       "    </tr>\n",
       "    <tr>\n",
       "      <th>4</th>\n",
       "      <td>0</td>\n",
       "      <td>3</td>\n",
       "      <td>male</td>\n",
       "      <td>35.0</td>\n",
       "      <td>0</td>\n",
       "      <td>0</td>\n",
       "      <td>8.0500</td>\n",
       "      <td>S</td>\n",
       "      <td>Third</td>\n",
       "      <td>man</td>\n",
       "      <td>True</td>\n",
       "      <td>NaN</td>\n",
       "      <td>Southampton</td>\n",
       "      <td>no</td>\n",
       "      <td>True</td>\n",
       "    </tr>\n",
       "    <tr>\n",
       "      <th>...</th>\n",
       "      <td>...</td>\n",
       "      <td>...</td>\n",
       "      <td>...</td>\n",
       "      <td>...</td>\n",
       "      <td>...</td>\n",
       "      <td>...</td>\n",
       "      <td>...</td>\n",
       "      <td>...</td>\n",
       "      <td>...</td>\n",
       "      <td>...</td>\n",
       "      <td>...</td>\n",
       "      <td>...</td>\n",
       "      <td>...</td>\n",
       "      <td>...</td>\n",
       "      <td>...</td>\n",
       "    </tr>\n",
       "    <tr>\n",
       "      <th>886</th>\n",
       "      <td>0</td>\n",
       "      <td>2</td>\n",
       "      <td>male</td>\n",
       "      <td>27.0</td>\n",
       "      <td>0</td>\n",
       "      <td>0</td>\n",
       "      <td>13.0000</td>\n",
       "      <td>S</td>\n",
       "      <td>Second</td>\n",
       "      <td>man</td>\n",
       "      <td>True</td>\n",
       "      <td>NaN</td>\n",
       "      <td>Southampton</td>\n",
       "      <td>no</td>\n",
       "      <td>True</td>\n",
       "    </tr>\n",
       "    <tr>\n",
       "      <th>887</th>\n",
       "      <td>1</td>\n",
       "      <td>1</td>\n",
       "      <td>female</td>\n",
       "      <td>19.0</td>\n",
       "      <td>0</td>\n",
       "      <td>0</td>\n",
       "      <td>30.0000</td>\n",
       "      <td>S</td>\n",
       "      <td>First</td>\n",
       "      <td>woman</td>\n",
       "      <td>False</td>\n",
       "      <td>B</td>\n",
       "      <td>Southampton</td>\n",
       "      <td>yes</td>\n",
       "      <td>True</td>\n",
       "    </tr>\n",
       "    <tr>\n",
       "      <th>888</th>\n",
       "      <td>0</td>\n",
       "      <td>3</td>\n",
       "      <td>female</td>\n",
       "      <td>NaN</td>\n",
       "      <td>1</td>\n",
       "      <td>2</td>\n",
       "      <td>23.4500</td>\n",
       "      <td>S</td>\n",
       "      <td>Third</td>\n",
       "      <td>woman</td>\n",
       "      <td>False</td>\n",
       "      <td>NaN</td>\n",
       "      <td>Southampton</td>\n",
       "      <td>no</td>\n",
       "      <td>False</td>\n",
       "    </tr>\n",
       "    <tr>\n",
       "      <th>889</th>\n",
       "      <td>1</td>\n",
       "      <td>1</td>\n",
       "      <td>male</td>\n",
       "      <td>26.0</td>\n",
       "      <td>0</td>\n",
       "      <td>0</td>\n",
       "      <td>30.0000</td>\n",
       "      <td>C</td>\n",
       "      <td>First</td>\n",
       "      <td>man</td>\n",
       "      <td>True</td>\n",
       "      <td>C</td>\n",
       "      <td>Cherbourg</td>\n",
       "      <td>yes</td>\n",
       "      <td>True</td>\n",
       "    </tr>\n",
       "    <tr>\n",
       "      <th>890</th>\n",
       "      <td>0</td>\n",
       "      <td>3</td>\n",
       "      <td>male</td>\n",
       "      <td>32.0</td>\n",
       "      <td>0</td>\n",
       "      <td>0</td>\n",
       "      <td>7.7500</td>\n",
       "      <td>Q</td>\n",
       "      <td>Third</td>\n",
       "      <td>man</td>\n",
       "      <td>True</td>\n",
       "      <td>NaN</td>\n",
       "      <td>Queenstown</td>\n",
       "      <td>no</td>\n",
       "      <td>True</td>\n",
       "    </tr>\n",
       "  </tbody>\n",
       "</table>\n",
       "<p>891 rows × 15 columns</p>\n",
       "</div>"
      ],
      "text/plain": [
       "     survived  pclass     sex   age  sibsp  parch     fare embarked   class  \\\n",
       "0           0       3    male  22.0      1      0   7.2500        S   Third   \n",
       "1           1       1  female  38.0      1      0  71.2833        C   First   \n",
       "2           1       3  female  26.0      0      0   7.9250        S   Third   \n",
       "3           1       1  female  35.0      1      0  53.1000        S   First   \n",
       "4           0       3    male  35.0      0      0   8.0500        S   Third   \n",
       "..        ...     ...     ...   ...    ...    ...      ...      ...     ...   \n",
       "886         0       2    male  27.0      0      0  13.0000        S  Second   \n",
       "887         1       1  female  19.0      0      0  30.0000        S   First   \n",
       "888         0       3  female   NaN      1      2  23.4500        S   Third   \n",
       "889         1       1    male  26.0      0      0  30.0000        C   First   \n",
       "890         0       3    male  32.0      0      0   7.7500        Q   Third   \n",
       "\n",
       "       who  adult_male deck  embark_town alive  alone  \n",
       "0      man        True  NaN  Southampton    no  False  \n",
       "1    woman       False    C    Cherbourg   yes  False  \n",
       "2    woman       False  NaN  Southampton   yes   True  \n",
       "3    woman       False    C  Southampton   yes  False  \n",
       "4      man        True  NaN  Southampton    no   True  \n",
       "..     ...         ...  ...          ...   ...    ...  \n",
       "886    man        True  NaN  Southampton    no   True  \n",
       "887  woman       False    B  Southampton   yes   True  \n",
       "888  woman       False  NaN  Southampton    no  False  \n",
       "889    man        True    C    Cherbourg   yes   True  \n",
       "890    man        True  NaN   Queenstown    no   True  \n",
       "\n",
       "[891 rows x 15 columns]"
      ]
     },
     "execution_count": 96,
     "metadata": {},
     "output_type": "execute_result"
    }
   ],
   "source": [
    "pd.read_csv(\"titanic.csv\")"
   ]
  },
  {
   "cell_type": "code",
   "execution_count": null,
   "id": "f5806075-7543-4d84-91b8-307159a31fba",
   "metadata": {},
   "outputs": [],
   "source": []
  },
  {
   "cell_type": "markdown",
   "id": "3ac4df7e-7480-419c-aa33-0856c079681a",
   "metadata": {},
   "source": [
    "## DATA PRE-PROCESSING"
   ]
  },
  {
   "cell_type": "code",
   "execution_count": 179,
   "id": "82694be9-221e-44bd-982e-ab90e559cd41",
   "metadata": {},
   "outputs": [
    {
     "data": {
      "text/plain": [
       "(848, 15)"
      ]
     },
     "execution_count": 179,
     "metadata": {},
     "output_type": "execute_result"
    }
   ],
   "source": [
    "df.shape"
   ]
  },
  {
   "cell_type": "code",
   "execution_count": 99,
   "id": "0f2e890f-ea21-4435-8444-46ee949ec1ac",
   "metadata": {},
   "outputs": [],
   "source": [
    "df=pd.read_csv(\"titanic.csv\")"
   ]
  },
  {
   "cell_type": "code",
   "execution_count": 122,
   "id": "5950c4b7-2f4a-4eec-8098-2fa77cd1b85a",
   "metadata": {},
   "outputs": [
    {
     "data": {
      "text/html": [
       "<div>\n",
       "<style scoped>\n",
       "    .dataframe tbody tr th:only-of-type {\n",
       "        vertical-align: middle;\n",
       "    }\n",
       "\n",
       "    .dataframe tbody tr th {\n",
       "        vertical-align: top;\n",
       "    }\n",
       "\n",
       "    .dataframe thead th {\n",
       "        text-align: right;\n",
       "    }\n",
       "</style>\n",
       "<table border=\"1\" class=\"dataframe\">\n",
       "  <thead>\n",
       "    <tr style=\"text-align: right;\">\n",
       "      <th></th>\n",
       "      <th>survived</th>\n",
       "      <th>pclass</th>\n",
       "      <th>sex</th>\n",
       "      <th>age</th>\n",
       "      <th>sibsp</th>\n",
       "      <th>parch</th>\n",
       "      <th>fare</th>\n",
       "      <th>embarked</th>\n",
       "      <th>class</th>\n",
       "      <th>who</th>\n",
       "      <th>adult_male</th>\n",
       "      <th>deck</th>\n",
       "      <th>embark_town</th>\n",
       "      <th>alive</th>\n",
       "      <th>alone</th>\n",
       "    </tr>\n",
       "  </thead>\n",
       "  <tbody>\n",
       "    <tr>\n",
       "      <th>358</th>\n",
       "      <td>1</td>\n",
       "      <td>3</td>\n",
       "      <td>female</td>\n",
       "      <td>28.0</td>\n",
       "      <td>0</td>\n",
       "      <td>0</td>\n",
       "      <td>7.8792</td>\n",
       "      <td>Q</td>\n",
       "      <td>Third</td>\n",
       "      <td>woman</td>\n",
       "      <td>False</td>\n",
       "      <td>E</td>\n",
       "      <td>Queenstown</td>\n",
       "      <td>yes</td>\n",
       "      <td>True</td>\n",
       "    </tr>\n",
       "    <tr>\n",
       "      <th>288</th>\n",
       "      <td>1</td>\n",
       "      <td>2</td>\n",
       "      <td>male</td>\n",
       "      <td>42.0</td>\n",
       "      <td>0</td>\n",
       "      <td>0</td>\n",
       "      <td>13.0000</td>\n",
       "      <td>S</td>\n",
       "      <td>Second</td>\n",
       "      <td>man</td>\n",
       "      <td>True</td>\n",
       "      <td>A</td>\n",
       "      <td>Southampton</td>\n",
       "      <td>yes</td>\n",
       "      <td>True</td>\n",
       "    </tr>\n",
       "    <tr>\n",
       "      <th>873</th>\n",
       "      <td>0</td>\n",
       "      <td>3</td>\n",
       "      <td>male</td>\n",
       "      <td>47.0</td>\n",
       "      <td>0</td>\n",
       "      <td>0</td>\n",
       "      <td>9.0000</td>\n",
       "      <td>S</td>\n",
       "      <td>Third</td>\n",
       "      <td>man</td>\n",
       "      <td>True</td>\n",
       "      <td>B</td>\n",
       "      <td>Southampton</td>\n",
       "      <td>no</td>\n",
       "      <td>True</td>\n",
       "    </tr>\n",
       "  </tbody>\n",
       "</table>\n",
       "</div>"
      ],
      "text/plain": [
       "     survived  pclass     sex   age  sibsp  parch     fare embarked   class  \\\n",
       "358         1       3  female  28.0      0      0   7.8792        Q   Third   \n",
       "288         1       2    male  42.0      0      0  13.0000        S  Second   \n",
       "873         0       3    male  47.0      0      0   9.0000        S   Third   \n",
       "\n",
       "       who  adult_male deck  embark_town alive  alone  \n",
       "358  woman       False    E   Queenstown   yes   True  \n",
       "288    man        True    A  Southampton   yes   True  \n",
       "873    man        True    B  Southampton    no   True  "
      ]
     },
     "execution_count": 122,
     "metadata": {},
     "output_type": "execute_result"
    }
   ],
   "source": [
    "df.sample(3)"
   ]
  },
  {
   "cell_type": "code",
   "execution_count": 123,
   "id": "b8d6bad6-841f-4b83-8e0f-d967191f7bf7",
   "metadata": {},
   "outputs": [
    {
     "data": {
      "text/plain": [
       "0"
      ]
     },
     "execution_count": 123,
     "metadata": {},
     "output_type": "execute_result"
    }
   ],
   "source": [
    "df.isnull().sum().sum()"
   ]
  },
  {
   "cell_type": "code",
   "execution_count": 156,
   "id": "9280a80b-bfcd-451e-a122-23c297fad53c",
   "metadata": {},
   "outputs": [
    {
     "data": {
      "text/plain": [
       "0"
      ]
     },
     "execution_count": 156,
     "metadata": {},
     "output_type": "execute_result"
    }
   ],
   "source": [
    "df.duplicated().sum()"
   ]
  },
  {
   "cell_type": "markdown",
   "id": "60998443-243b-464a-92a5-2922622f83a3",
   "metadata": {},
   "source": [
    "##  Correlation between numerical features and the target variable\n"
   ]
  },
  {
   "cell_type": "code",
   "execution_count": 138,
   "id": "654f5baa-9bc8-4ffd-8cde-8052adaa8458",
   "metadata": {},
   "outputs": [],
   "source": [
    "# Selecting only numeric columns\n",
    "numeric_df = df.select_dtypes(include=['int64', 'float64'])\n"
   ]
  },
  {
   "cell_type": "code",
   "execution_count": 295,
   "id": "5b27c8ec-ba71-481b-bf3e-e13f2dea7682",
   "metadata": {},
   "outputs": [
    {
     "data": {
      "text/html": [
       "<div>\n",
       "<style scoped>\n",
       "    .dataframe tbody tr th:only-of-type {\n",
       "        vertical-align: middle;\n",
       "    }\n",
       "\n",
       "    .dataframe tbody tr th {\n",
       "        vertical-align: top;\n",
       "    }\n",
       "\n",
       "    .dataframe thead th {\n",
       "        text-align: right;\n",
       "    }\n",
       "</style>\n",
       "<table border=\"1\" class=\"dataframe\">\n",
       "  <thead>\n",
       "    <tr style=\"text-align: right;\">\n",
       "      <th></th>\n",
       "      <th>survived</th>\n",
       "      <th>pclass</th>\n",
       "      <th>age</th>\n",
       "      <th>sibsp</th>\n",
       "      <th>parch</th>\n",
       "      <th>fare</th>\n",
       "    </tr>\n",
       "  </thead>\n",
       "  <tbody>\n",
       "    <tr>\n",
       "      <th>0</th>\n",
       "      <td>0</td>\n",
       "      <td>3</td>\n",
       "      <td>22.0</td>\n",
       "      <td>1</td>\n",
       "      <td>0</td>\n",
       "      <td>7.2500</td>\n",
       "    </tr>\n",
       "    <tr>\n",
       "      <th>1</th>\n",
       "      <td>1</td>\n",
       "      <td>1</td>\n",
       "      <td>38.0</td>\n",
       "      <td>1</td>\n",
       "      <td>0</td>\n",
       "      <td>71.2833</td>\n",
       "    </tr>\n",
       "    <tr>\n",
       "      <th>2</th>\n",
       "      <td>1</td>\n",
       "      <td>3</td>\n",
       "      <td>26.0</td>\n",
       "      <td>0</td>\n",
       "      <td>0</td>\n",
       "      <td>7.9250</td>\n",
       "    </tr>\n",
       "    <tr>\n",
       "      <th>3</th>\n",
       "      <td>1</td>\n",
       "      <td>1</td>\n",
       "      <td>35.0</td>\n",
       "      <td>1</td>\n",
       "      <td>0</td>\n",
       "      <td>53.1000</td>\n",
       "    </tr>\n",
       "    <tr>\n",
       "      <th>4</th>\n",
       "      <td>0</td>\n",
       "      <td>3</td>\n",
       "      <td>35.0</td>\n",
       "      <td>0</td>\n",
       "      <td>0</td>\n",
       "      <td>8.0500</td>\n",
       "    </tr>\n",
       "    <tr>\n",
       "      <th>...</th>\n",
       "      <td>...</td>\n",
       "      <td>...</td>\n",
       "      <td>...</td>\n",
       "      <td>...</td>\n",
       "      <td>...</td>\n",
       "      <td>...</td>\n",
       "    </tr>\n",
       "    <tr>\n",
       "      <th>886</th>\n",
       "      <td>0</td>\n",
       "      <td>2</td>\n",
       "      <td>27.0</td>\n",
       "      <td>0</td>\n",
       "      <td>0</td>\n",
       "      <td>13.0000</td>\n",
       "    </tr>\n",
       "    <tr>\n",
       "      <th>887</th>\n",
       "      <td>1</td>\n",
       "      <td>1</td>\n",
       "      <td>19.0</td>\n",
       "      <td>0</td>\n",
       "      <td>0</td>\n",
       "      <td>30.0000</td>\n",
       "    </tr>\n",
       "    <tr>\n",
       "      <th>888</th>\n",
       "      <td>0</td>\n",
       "      <td>3</td>\n",
       "      <td>28.0</td>\n",
       "      <td>1</td>\n",
       "      <td>2</td>\n",
       "      <td>23.4500</td>\n",
       "    </tr>\n",
       "    <tr>\n",
       "      <th>889</th>\n",
       "      <td>1</td>\n",
       "      <td>1</td>\n",
       "      <td>26.0</td>\n",
       "      <td>0</td>\n",
       "      <td>0</td>\n",
       "      <td>30.0000</td>\n",
       "    </tr>\n",
       "    <tr>\n",
       "      <th>890</th>\n",
       "      <td>0</td>\n",
       "      <td>3</td>\n",
       "      <td>32.0</td>\n",
       "      <td>0</td>\n",
       "      <td>0</td>\n",
       "      <td>7.7500</td>\n",
       "    </tr>\n",
       "  </tbody>\n",
       "</table>\n",
       "<p>891 rows × 6 columns</p>\n",
       "</div>"
      ],
      "text/plain": [
       "     survived  pclass   age  sibsp  parch     fare\n",
       "0           0       3  22.0      1      0   7.2500\n",
       "1           1       1  38.0      1      0  71.2833\n",
       "2           1       3  26.0      0      0   7.9250\n",
       "3           1       1  35.0      1      0  53.1000\n",
       "4           0       3  35.0      0      0   8.0500\n",
       "..        ...     ...   ...    ...    ...      ...\n",
       "886         0       2  27.0      0      0  13.0000\n",
       "887         1       1  19.0      0      0  30.0000\n",
       "888         0       3  28.0      1      2  23.4500\n",
       "889         1       1  26.0      0      0  30.0000\n",
       "890         0       3  32.0      0      0   7.7500\n",
       "\n",
       "[891 rows x 6 columns]"
      ]
     },
     "execution_count": 295,
     "metadata": {},
     "output_type": "execute_result"
    }
   ],
   "source": [
    "numeric_df"
   ]
  },
  {
   "cell_type": "code",
   "execution_count": 139,
   "id": "87ec2d48-094e-4ef8-bf81-09cb4a7667da",
   "metadata": {},
   "outputs": [],
   "source": [
    "corr_matrix=numeric_df.corr()"
   ]
  },
  {
   "cell_type": "code",
   "execution_count": 140,
   "id": "467fa86c-2669-4147-8ae5-0f5d05a88aed",
   "metadata": {},
   "outputs": [
    {
     "data": {
      "text/html": [
       "<div>\n",
       "<style scoped>\n",
       "    .dataframe tbody tr th:only-of-type {\n",
       "        vertical-align: middle;\n",
       "    }\n",
       "\n",
       "    .dataframe tbody tr th {\n",
       "        vertical-align: top;\n",
       "    }\n",
       "\n",
       "    .dataframe thead th {\n",
       "        text-align: right;\n",
       "    }\n",
       "</style>\n",
       "<table border=\"1\" class=\"dataframe\">\n",
       "  <thead>\n",
       "    <tr style=\"text-align: right;\">\n",
       "      <th></th>\n",
       "      <th>survived</th>\n",
       "      <th>pclass</th>\n",
       "      <th>age</th>\n",
       "      <th>sibsp</th>\n",
       "      <th>parch</th>\n",
       "      <th>fare</th>\n",
       "    </tr>\n",
       "  </thead>\n",
       "  <tbody>\n",
       "    <tr>\n",
       "      <th>survived</th>\n",
       "      <td>1.000000</td>\n",
       "      <td>-0.338481</td>\n",
       "      <td>-0.064910</td>\n",
       "      <td>-0.035322</td>\n",
       "      <td>0.081629</td>\n",
       "      <td>0.257307</td>\n",
       "    </tr>\n",
       "    <tr>\n",
       "      <th>pclass</th>\n",
       "      <td>-0.338481</td>\n",
       "      <td>1.000000</td>\n",
       "      <td>-0.339898</td>\n",
       "      <td>0.083081</td>\n",
       "      <td>0.018443</td>\n",
       "      <td>-0.549500</td>\n",
       "    </tr>\n",
       "    <tr>\n",
       "      <th>age</th>\n",
       "      <td>-0.064910</td>\n",
       "      <td>-0.339898</td>\n",
       "      <td>1.000000</td>\n",
       "      <td>-0.233296</td>\n",
       "      <td>-0.172482</td>\n",
       "      <td>0.096688</td>\n",
       "    </tr>\n",
       "    <tr>\n",
       "      <th>sibsp</th>\n",
       "      <td>-0.035322</td>\n",
       "      <td>0.083081</td>\n",
       "      <td>-0.233296</td>\n",
       "      <td>1.000000</td>\n",
       "      <td>0.414838</td>\n",
       "      <td>0.159651</td>\n",
       "    </tr>\n",
       "    <tr>\n",
       "      <th>parch</th>\n",
       "      <td>0.081629</td>\n",
       "      <td>0.018443</td>\n",
       "      <td>-0.172482</td>\n",
       "      <td>0.414838</td>\n",
       "      <td>1.000000</td>\n",
       "      <td>0.216225</td>\n",
       "    </tr>\n",
       "    <tr>\n",
       "      <th>fare</th>\n",
       "      <td>0.257307</td>\n",
       "      <td>-0.549500</td>\n",
       "      <td>0.096688</td>\n",
       "      <td>0.159651</td>\n",
       "      <td>0.216225</td>\n",
       "      <td>1.000000</td>\n",
       "    </tr>\n",
       "  </tbody>\n",
       "</table>\n",
       "</div>"
      ],
      "text/plain": [
       "          survived    pclass       age     sibsp     parch      fare\n",
       "survived  1.000000 -0.338481 -0.064910 -0.035322  0.081629  0.257307\n",
       "pclass   -0.338481  1.000000 -0.339898  0.083081  0.018443 -0.549500\n",
       "age      -0.064910 -0.339898  1.000000 -0.233296 -0.172482  0.096688\n",
       "sibsp    -0.035322  0.083081 -0.233296  1.000000  0.414838  0.159651\n",
       "parch     0.081629  0.018443 -0.172482  0.414838  1.000000  0.216225\n",
       "fare      0.257307 -0.549500  0.096688  0.159651  0.216225  1.000000"
      ]
     },
     "execution_count": 140,
     "metadata": {},
     "output_type": "execute_result"
    }
   ],
   "source": [
    "corr_matrix"
   ]
  },
  {
   "cell_type": "code",
   "execution_count": 157,
   "id": "19bb8987-33a4-44ab-a975-6a9f01286953",
   "metadata": {},
   "outputs": [],
   "source": [
    "# I HAVE SELECTED 'SURVIVED' AS TARGET VARIABLE"
   ]
  },
  {
   "cell_type": "code",
   "execution_count": 158,
   "id": "b77e2ee1-9b81-4029-803a-4d4a185b6257",
   "metadata": {},
   "outputs": [
    {
     "data": {
      "text/plain": [
       "survived    1.000000\n",
       "pclass     -0.338481\n",
       "age        -0.064910\n",
       "sibsp      -0.035322\n",
       "parch       0.081629\n",
       "fare        0.257307\n",
       "Name: survived, dtype: float64"
      ]
     },
     "execution_count": 158,
     "metadata": {},
     "output_type": "execute_result"
    }
   ],
   "source": [
    "corr_matrix['survived']"
   ]
  },
  {
   "cell_type": "markdown",
   "id": "fe75d0a9-aaed-4c33-a12f-4467c6d2cacc",
   "metadata": {},
   "source": [
    "## INSIGHTS:\n",
    "\n",
    "The correlation coefficient between fare and target variable survived is 0.257307. This strong positive correlation tells that passengers who paid higher fares were more likely to survive, indicating that passengers in higher classes have better survival rate compared to passengers in lower classes."
   ]
  },
  {
   "cell_type": "markdown",
   "id": "974175df-dbe7-4596-acdd-59472818aa76",
   "metadata": {},
   "source": [
    "##  Correlation between categorical features and the target variable- chi2 test\n"
   ]
  },
  {
   "cell_type": "code",
   "execution_count": 226,
   "id": "c9787337-3c1d-4cfa-9785-aef9e59c5d8d",
   "metadata": {},
   "outputs": [],
   "source": [
    "# Selecting categorical columns \n",
    "\n",
    "cat_df = df.select_dtypes(include=['object', 'category'])\n"
   ]
  },
  {
   "cell_type": "code",
   "execution_count": 227,
   "id": "60951f78-c810-4e7b-ac48-fac7371c94aa",
   "metadata": {},
   "outputs": [],
   "source": [
    "cat_df=cat_df[['sex','embarked','class','who','deck','embark_town']]\t"
   ]
  },
  {
   "cell_type": "code",
   "execution_count": 228,
   "id": "881dff7b-20f5-4588-8829-6c1a0941562f",
   "metadata": {},
   "outputs": [
    {
     "data": {
      "text/html": [
       "<div>\n",
       "<style scoped>\n",
       "    .dataframe tbody tr th:only-of-type {\n",
       "        vertical-align: middle;\n",
       "    }\n",
       "\n",
       "    .dataframe tbody tr th {\n",
       "        vertical-align: top;\n",
       "    }\n",
       "\n",
       "    .dataframe thead th {\n",
       "        text-align: right;\n",
       "    }\n",
       "</style>\n",
       "<table border=\"1\" class=\"dataframe\">\n",
       "  <thead>\n",
       "    <tr style=\"text-align: right;\">\n",
       "      <th></th>\n",
       "      <th>sex</th>\n",
       "      <th>embarked</th>\n",
       "      <th>class</th>\n",
       "      <th>who</th>\n",
       "      <th>deck</th>\n",
       "      <th>embark_town</th>\n",
       "    </tr>\n",
       "  </thead>\n",
       "  <tbody>\n",
       "    <tr>\n",
       "      <th>0</th>\n",
       "      <td>male</td>\n",
       "      <td>S</td>\n",
       "      <td>Third</td>\n",
       "      <td>man</td>\n",
       "      <td>C</td>\n",
       "      <td>Southampton</td>\n",
       "    </tr>\n",
       "    <tr>\n",
       "      <th>1</th>\n",
       "      <td>female</td>\n",
       "      <td>C</td>\n",
       "      <td>First</td>\n",
       "      <td>woman</td>\n",
       "      <td>C</td>\n",
       "      <td>Cherbourg</td>\n",
       "    </tr>\n",
       "    <tr>\n",
       "      <th>2</th>\n",
       "      <td>female</td>\n",
       "      <td>S</td>\n",
       "      <td>Third</td>\n",
       "      <td>woman</td>\n",
       "      <td>C</td>\n",
       "      <td>Southampton</td>\n",
       "    </tr>\n",
       "    <tr>\n",
       "      <th>3</th>\n",
       "      <td>female</td>\n",
       "      <td>S</td>\n",
       "      <td>First</td>\n",
       "      <td>woman</td>\n",
       "      <td>C</td>\n",
       "      <td>Southampton</td>\n",
       "    </tr>\n",
       "    <tr>\n",
       "      <th>4</th>\n",
       "      <td>male</td>\n",
       "      <td>S</td>\n",
       "      <td>Third</td>\n",
       "      <td>man</td>\n",
       "      <td>C</td>\n",
       "      <td>Southampton</td>\n",
       "    </tr>\n",
       "    <tr>\n",
       "      <th>...</th>\n",
       "      <td>...</td>\n",
       "      <td>...</td>\n",
       "      <td>...</td>\n",
       "      <td>...</td>\n",
       "      <td>...</td>\n",
       "      <td>...</td>\n",
       "    </tr>\n",
       "    <tr>\n",
       "      <th>886</th>\n",
       "      <td>male</td>\n",
       "      <td>S</td>\n",
       "      <td>Second</td>\n",
       "      <td>man</td>\n",
       "      <td>C</td>\n",
       "      <td>Southampton</td>\n",
       "    </tr>\n",
       "    <tr>\n",
       "      <th>887</th>\n",
       "      <td>female</td>\n",
       "      <td>S</td>\n",
       "      <td>First</td>\n",
       "      <td>woman</td>\n",
       "      <td>B</td>\n",
       "      <td>Southampton</td>\n",
       "    </tr>\n",
       "    <tr>\n",
       "      <th>888</th>\n",
       "      <td>female</td>\n",
       "      <td>S</td>\n",
       "      <td>Third</td>\n",
       "      <td>woman</td>\n",
       "      <td>B</td>\n",
       "      <td>Southampton</td>\n",
       "    </tr>\n",
       "    <tr>\n",
       "      <th>889</th>\n",
       "      <td>male</td>\n",
       "      <td>C</td>\n",
       "      <td>First</td>\n",
       "      <td>man</td>\n",
       "      <td>C</td>\n",
       "      <td>Cherbourg</td>\n",
       "    </tr>\n",
       "    <tr>\n",
       "      <th>890</th>\n",
       "      <td>male</td>\n",
       "      <td>Q</td>\n",
       "      <td>Third</td>\n",
       "      <td>man</td>\n",
       "      <td>C</td>\n",
       "      <td>Queenstown</td>\n",
       "    </tr>\n",
       "  </tbody>\n",
       "</table>\n",
       "<p>848 rows × 6 columns</p>\n",
       "</div>"
      ],
      "text/plain": [
       "        sex embarked   class    who deck  embark_town\n",
       "0      male        S   Third    man    C  Southampton\n",
       "1    female        C   First  woman    C    Cherbourg\n",
       "2    female        S   Third  woman    C  Southampton\n",
       "3    female        S   First  woman    C  Southampton\n",
       "4      male        S   Third    man    C  Southampton\n",
       "..      ...      ...     ...    ...  ...          ...\n",
       "886    male        S  Second    man    C  Southampton\n",
       "887  female        S   First  woman    B  Southampton\n",
       "888  female        S   Third  woman    B  Southampton\n",
       "889    male        C   First    man    C    Cherbourg\n",
       "890    male        Q   Third    man    C   Queenstown\n",
       "\n",
       "[848 rows x 6 columns]"
      ]
     },
     "execution_count": 228,
     "metadata": {},
     "output_type": "execute_result"
    }
   ],
   "source": [
    "cat_df"
   ]
  },
  {
   "cell_type": "code",
   "execution_count": 229,
   "id": "f7c03f8d-bd7b-4ef5-9fd1-978eae1abe2b",
   "metadata": {},
   "outputs": [],
   "source": [
    "# Encode categorical features to numeric values\n",
    "\n",
    "cat_df= cat_df.apply(LabelEncoder().fit_transform)"
   ]
  },
  {
   "cell_type": "code",
   "execution_count": 230,
   "id": "e8768773-1e47-40ee-b0d7-93b186bfc236",
   "metadata": {},
   "outputs": [],
   "source": [
    "x = cat_df"
   ]
  },
  {
   "cell_type": "code",
   "execution_count": 231,
   "id": "8eec96b7-714b-41d1-ac68-eeb8fd45d9a4",
   "metadata": {},
   "outputs": [],
   "source": [
    "# selecting the target variable survived\n",
    "\n",
    "y = df['alive']"
   ]
  },
  {
   "cell_type": "code",
   "execution_count": 232,
   "id": "8372e5b7-464a-4131-94af-4ce339b9d72f",
   "metadata": {},
   "outputs": [],
   "source": [
    "# Calculating chi-squared \n",
    "\n",
    "chi2_scores, p_values = chi2(x, y)"
   ]
  },
  {
   "cell_type": "code",
   "execution_count": 233,
   "id": "c44dd958-2bf3-4433-9e52-e30107a9682b",
   "metadata": {},
   "outputs": [],
   "source": [
    "# Creating a DataFrame to show the chi-squared scores and p-values\n",
    "\n",
    "chi2_df = pd.DataFrame({'Feature': x.columns, 'Chi2 Score': chi2_scores, 'p-value': p_values})\n",
    "chi2_df = chi2_df.sort_values(by='Chi2 Score', ascending=False)"
   ]
  },
  {
   "cell_type": "code",
   "execution_count": 234,
   "id": "f201eec1-bf05-45a9-9a7a-8e7f816c3153",
   "metadata": {},
   "outputs": [
    {
     "data": {
      "text/html": [
       "<div>\n",
       "<style scoped>\n",
       "    .dataframe tbody tr th:only-of-type {\n",
       "        vertical-align: middle;\n",
       "    }\n",
       "\n",
       "    .dataframe tbody tr th {\n",
       "        vertical-align: top;\n",
       "    }\n",
       "\n",
       "    .dataframe thead th {\n",
       "        text-align: right;\n",
       "    }\n",
       "</style>\n",
       "<table border=\"1\" class=\"dataframe\">\n",
       "  <thead>\n",
       "    <tr style=\"text-align: right;\">\n",
       "      <th></th>\n",
       "      <th>Feature</th>\n",
       "      <th>Chi2 Score</th>\n",
       "      <th>p-value</th>\n",
       "    </tr>\n",
       "  </thead>\n",
       "  <tbody>\n",
       "    <tr>\n",
       "      <th>0</th>\n",
       "      <td>sex</td>\n",
       "      <td>86.645358</td>\n",
       "      <td>1.298350e-20</td>\n",
       "    </tr>\n",
       "    <tr>\n",
       "      <th>2</th>\n",
       "      <td>class</td>\n",
       "      <td>52.296522</td>\n",
       "      <td>4.772190e-13</td>\n",
       "    </tr>\n",
       "    <tr>\n",
       "      <th>3</th>\n",
       "      <td>who</td>\n",
       "      <td>24.942863</td>\n",
       "      <td>5.905473e-07</td>\n",
       "    </tr>\n",
       "    <tr>\n",
       "      <th>1</th>\n",
       "      <td>embarked</td>\n",
       "      <td>9.452523</td>\n",
       "      <td>2.108588e-03</td>\n",
       "    </tr>\n",
       "    <tr>\n",
       "      <th>5</th>\n",
       "      <td>embark_town</td>\n",
       "      <td>9.452523</td>\n",
       "      <td>2.108588e-03</td>\n",
       "    </tr>\n",
       "    <tr>\n",
       "      <th>4</th>\n",
       "      <td>deck</td>\n",
       "      <td>0.016173</td>\n",
       "      <td>8.988033e-01</td>\n",
       "    </tr>\n",
       "  </tbody>\n",
       "</table>\n",
       "</div>"
      ],
      "text/plain": [
       "       Feature  Chi2 Score       p-value\n",
       "0          sex   86.645358  1.298350e-20\n",
       "2        class   52.296522  4.772190e-13\n",
       "3          who   24.942863  5.905473e-07\n",
       "1     embarked    9.452523  2.108588e-03\n",
       "5  embark_town    9.452523  2.108588e-03\n",
       "4         deck    0.016173  8.988033e-01"
      ]
     },
     "execution_count": 234,
     "metadata": {},
     "output_type": "execute_result"
    }
   ],
   "source": [
    "chi2_df"
   ]
  },
  {
   "cell_type": "code",
   "execution_count": 235,
   "id": "114c88f1-9fd3-4273-94d2-6db38bce6439",
   "metadata": {},
   "outputs": [
    {
     "data": {
      "text/html": [
       "<div>\n",
       "<style scoped>\n",
       "    .dataframe tbody tr th:only-of-type {\n",
       "        vertical-align: middle;\n",
       "    }\n",
       "\n",
       "    .dataframe tbody tr th {\n",
       "        vertical-align: top;\n",
       "    }\n",
       "\n",
       "    .dataframe thead th {\n",
       "        text-align: right;\n",
       "    }\n",
       "</style>\n",
       "<table border=\"1\" class=\"dataframe\">\n",
       "  <thead>\n",
       "    <tr style=\"text-align: right;\">\n",
       "      <th></th>\n",
       "      <th>Feature</th>\n",
       "      <th>Chi2 Score</th>\n",
       "      <th>p-value</th>\n",
       "    </tr>\n",
       "  </thead>\n",
       "  <tbody>\n",
       "    <tr>\n",
       "      <th>0</th>\n",
       "      <td>sex</td>\n",
       "      <td>87.0</td>\n",
       "      <td>0.0</td>\n",
       "    </tr>\n",
       "    <tr>\n",
       "      <th>2</th>\n",
       "      <td>class</td>\n",
       "      <td>52.0</td>\n",
       "      <td>0.0</td>\n",
       "    </tr>\n",
       "    <tr>\n",
       "      <th>3</th>\n",
       "      <td>who</td>\n",
       "      <td>25.0</td>\n",
       "      <td>0.0</td>\n",
       "    </tr>\n",
       "    <tr>\n",
       "      <th>1</th>\n",
       "      <td>embarked</td>\n",
       "      <td>9.0</td>\n",
       "      <td>0.0</td>\n",
       "    </tr>\n",
       "    <tr>\n",
       "      <th>5</th>\n",
       "      <td>embark_town</td>\n",
       "      <td>9.0</td>\n",
       "      <td>0.0</td>\n",
       "    </tr>\n",
       "    <tr>\n",
       "      <th>4</th>\n",
       "      <td>deck</td>\n",
       "      <td>0.0</td>\n",
       "      <td>1.0</td>\n",
       "    </tr>\n",
       "  </tbody>\n",
       "</table>\n",
       "</div>"
      ],
      "text/plain": [
       "       Feature  Chi2 Score  p-value\n",
       "0          sex        87.0      0.0\n",
       "2        class        52.0      0.0\n",
       "3          who        25.0      0.0\n",
       "1     embarked         9.0      0.0\n",
       "5  embark_town         9.0      0.0\n",
       "4         deck         0.0      1.0"
      ]
     },
     "execution_count": 235,
     "metadata": {},
     "output_type": "execute_result"
    }
   ],
   "source": [
    "np.round(chi2_df)"
   ]
  },
  {
   "cell_type": "markdown",
   "id": "2fbf916d-2728-498e-871e-2decaf1a2e94",
   "metadata": {},
   "source": [
    "## Documenting the selected features based on the result of chi-square and p value\n"
   ]
  },
  {
   "cell_type": "markdown",
   "id": "61d7e14e-4b20-4b9a-b525-5bd9acbc94bf",
   "metadata": {},
   "source": [
    "### CATEGORICAL FEATURES\n",
    "- Deck has lowerst chi2 score,and highest p values,therefore it carries least correlation with target variable 'survived'.\n",
    "- Aside by 'Deck',other categorical features have significant impact on target varialbe.\n",
    "- Therefore excluding feature 'deck' only."
   ]
  },
  {
   "cell_type": "markdown",
   "id": "46c6e9a4-ff3f-4476-98bb-4fc2773aa879",
   "metadata": {},
   "source": [
    "### Numerical Features\n",
    "- None of numerical feature seems to have insignificant impact on target variable 'Survived'\n",
    "- Therefore keeping all of the 5 input features"
   ]
  },
  {
   "cell_type": "code",
   "execution_count": null,
   "id": "0b2f5f90-d8c0-4a5f-a325-ccaba83b63f5",
   "metadata": {},
   "outputs": [],
   "source": []
  },
  {
   "cell_type": "code",
   "execution_count": null,
   "id": "62c876ed-e8d6-4eaf-9155-aea8e7ae8f2e",
   "metadata": {},
   "outputs": [],
   "source": []
  },
  {
   "cell_type": "markdown",
   "id": "40ce85e0-901e-4717-83c0-33aa8d1f7545",
   "metadata": {},
   "source": [
    "# **Task 2: Feature Transformation**\n",
    "\n",
    "Feature scaling or feature transfomration is essential when input columns vary from a wide range such as age and salary. Common techniques include \n",
    "- Min-Max scaling (transforming data to a range of [0, 1])\n",
    "- Standardization (centering data to have a mean of 0 and standard deviation of 1)\n",
    "- Log Transformation (reducing skewness).\n",
    "\n",
    "These transformations help improve model performance by ensuring all features contribute equally.f 1.lly."
   ]
  },
  {
   "cell_type": "code",
   "execution_count": 238,
   "id": "80157457-f4f9-403e-8a59-d141ce8530f9",
   "metadata": {},
   "outputs": [
    {
     "data": {
      "text/plain": [
       "512.3292"
      ]
     },
     "execution_count": 238,
     "metadata": {},
     "output_type": "execute_result"
    }
   ],
   "source": [
    "df['fare'].max()"
   ]
  },
  {
   "cell_type": "code",
   "execution_count": 239,
   "id": "99cc8489-3e5c-43c6-a6d4-ff474b5ff5b1",
   "metadata": {},
   "outputs": [
    {
     "data": {
      "text/plain": [
       "80.0"
      ]
     },
     "execution_count": 239,
     "metadata": {},
     "output_type": "execute_result"
    }
   ],
   "source": [
    "df1['Age'].max()"
   ]
  },
  {
   "cell_type": "code",
   "execution_count": 240,
   "id": "dc756196-19b7-4a06-bbc2-a10213258e18",
   "metadata": {},
   "outputs": [],
   "source": [
    "## APPLYING TRANSFOMRATION ON THESE TWO COLUMNS SINCE THEY VARY A LOT IN RANGEES"
   ]
  },
  {
   "cell_type": "code",
   "execution_count": 241,
   "id": "13a4f7b6-31c0-4ed1-bf92-53f7ce1c3a21",
   "metadata": {},
   "outputs": [],
   "source": [
    "## SELECTING INPUT FEATURES I.e AGE AND FARE AND TARGET VARIABLE SURVIVED"
   ]
  },
  {
   "cell_type": "code",
   "execution_count": 243,
   "id": "a2eb17dd-8c5e-46d9-ab8c-b2dd463a1bac",
   "metadata": {},
   "outputs": [],
   "source": [
    "dfs=df[['age','fare','survived']]"
   ]
  },
  {
   "cell_type": "code",
   "execution_count": 244,
   "id": "ca15f469-394a-4191-bd9c-3e0546507f61",
   "metadata": {},
   "outputs": [],
   "source": [
    "# input features\n",
    "\n",
    "x=dfs[['age','fare']]"
   ]
  },
  {
   "cell_type": "code",
   "execution_count": 254,
   "id": "00a2263d-e31a-4cdf-8eec-8eca7636645b",
   "metadata": {},
   "outputs": [
    {
     "data": {
      "text/html": [
       "<div>\n",
       "<style scoped>\n",
       "    .dataframe tbody tr th:only-of-type {\n",
       "        vertical-align: middle;\n",
       "    }\n",
       "\n",
       "    .dataframe tbody tr th {\n",
       "        vertical-align: top;\n",
       "    }\n",
       "\n",
       "    .dataframe thead th {\n",
       "        text-align: right;\n",
       "    }\n",
       "</style>\n",
       "<table border=\"1\" class=\"dataframe\">\n",
       "  <thead>\n",
       "    <tr style=\"text-align: right;\">\n",
       "      <th></th>\n",
       "      <th>age</th>\n",
       "      <th>fare</th>\n",
       "    </tr>\n",
       "  </thead>\n",
       "  <tbody>\n",
       "    <tr>\n",
       "      <th>0</th>\n",
       "      <td>22.0</td>\n",
       "      <td>7.2500</td>\n",
       "    </tr>\n",
       "    <tr>\n",
       "      <th>1</th>\n",
       "      <td>38.0</td>\n",
       "      <td>71.2833</td>\n",
       "    </tr>\n",
       "    <tr>\n",
       "      <th>2</th>\n",
       "      <td>26.0</td>\n",
       "      <td>7.9250</td>\n",
       "    </tr>\n",
       "    <tr>\n",
       "      <th>3</th>\n",
       "      <td>35.0</td>\n",
       "      <td>53.1000</td>\n",
       "    </tr>\n",
       "    <tr>\n",
       "      <th>4</th>\n",
       "      <td>35.0</td>\n",
       "      <td>8.0500</td>\n",
       "    </tr>\n",
       "    <tr>\n",
       "      <th>...</th>\n",
       "      <td>...</td>\n",
       "      <td>...</td>\n",
       "    </tr>\n",
       "    <tr>\n",
       "      <th>886</th>\n",
       "      <td>27.0</td>\n",
       "      <td>13.0000</td>\n",
       "    </tr>\n",
       "    <tr>\n",
       "      <th>887</th>\n",
       "      <td>19.0</td>\n",
       "      <td>30.0000</td>\n",
       "    </tr>\n",
       "    <tr>\n",
       "      <th>888</th>\n",
       "      <td>28.0</td>\n",
       "      <td>23.4500</td>\n",
       "    </tr>\n",
       "    <tr>\n",
       "      <th>889</th>\n",
       "      <td>26.0</td>\n",
       "      <td>30.0000</td>\n",
       "    </tr>\n",
       "    <tr>\n",
       "      <th>890</th>\n",
       "      <td>32.0</td>\n",
       "      <td>7.7500</td>\n",
       "    </tr>\n",
       "  </tbody>\n",
       "</table>\n",
       "<p>848 rows × 2 columns</p>\n",
       "</div>"
      ],
      "text/plain": [
       "      age     fare\n",
       "0    22.0   7.2500\n",
       "1    38.0  71.2833\n",
       "2    26.0   7.9250\n",
       "3    35.0  53.1000\n",
       "4    35.0   8.0500\n",
       "..    ...      ...\n",
       "886  27.0  13.0000\n",
       "887  19.0  30.0000\n",
       "888  28.0  23.4500\n",
       "889  26.0  30.0000\n",
       "890  32.0   7.7500\n",
       "\n",
       "[848 rows x 2 columns]"
      ]
     },
     "execution_count": 254,
     "metadata": {},
     "output_type": "execute_result"
    }
   ],
   "source": [
    "x"
   ]
  },
  {
   "cell_type": "code",
   "execution_count": 245,
   "id": "c514ff1d-304b-47fd-b7b6-56e1f1b7fb84",
   "metadata": {},
   "outputs": [],
   "source": [
    "# target variable \n",
    "\n",
    "y= dfs['survived']"
   ]
  },
  {
   "cell_type": "code",
   "execution_count": 255,
   "id": "fc79e16a-c8f9-4bcd-8e35-de77d2130fbc",
   "metadata": {},
   "outputs": [
    {
     "data": {
      "text/plain": [
       "0      0\n",
       "1      1\n",
       "2      1\n",
       "3      1\n",
       "4      0\n",
       "      ..\n",
       "886    0\n",
       "887    1\n",
       "888    0\n",
       "889    1\n",
       "890    0\n",
       "Name: survived, Length: 848, dtype: int64"
      ]
     },
     "execution_count": 255,
     "metadata": {},
     "output_type": "execute_result"
    }
   ],
   "source": [
    "y"
   ]
  },
  {
   "cell_type": "code",
   "execution_count": null,
   "id": "f482ea1e-2fe1-44ce-9ba1-d946c06ab227",
   "metadata": {},
   "outputs": [],
   "source": [
    "## Before applying scaling splitting data into test and train data "
   ]
  },
  {
   "cell_type": "code",
   "execution_count": null,
   "id": "c6781152-e84b-49ed-8558-0f5bf2c695ee",
   "metadata": {},
   "outputs": [],
   "source": [
    "## Train test split\n"
   ]
  },
  {
   "cell_type": "code",
   "execution_count": 247,
   "id": "43e423da-e997-4a04-a390-3348664d64c6",
   "metadata": {},
   "outputs": [],
   "source": [
    "x_train,x_test,y_train,y_test=train_test_split(x,y,test_size=0.3) \n",
    "\n",
    "# test size=0.3 shows that 30% will testing data and 70% training data"
   ]
  },
  {
   "cell_type": "code",
   "execution_count": 256,
   "id": "cd1586c0-c69c-4caa-b393-eff074925a61",
   "metadata": {},
   "outputs": [
    {
     "data": {
      "text/html": [
       "<div>\n",
       "<style scoped>\n",
       "    .dataframe tbody tr th:only-of-type {\n",
       "        vertical-align: middle;\n",
       "    }\n",
       "\n",
       "    .dataframe tbody tr th {\n",
       "        vertical-align: top;\n",
       "    }\n",
       "\n",
       "    .dataframe thead th {\n",
       "        text-align: right;\n",
       "    }\n",
       "</style>\n",
       "<table border=\"1\" class=\"dataframe\">\n",
       "  <thead>\n",
       "    <tr style=\"text-align: right;\">\n",
       "      <th></th>\n",
       "      <th>age</th>\n",
       "      <th>fare</th>\n",
       "    </tr>\n",
       "  </thead>\n",
       "  <tbody>\n",
       "    <tr>\n",
       "      <th>748</th>\n",
       "      <td>19.0</td>\n",
       "      <td>53.1000</td>\n",
       "    </tr>\n",
       "    <tr>\n",
       "      <th>111</th>\n",
       "      <td>14.5</td>\n",
       "      <td>14.4542</td>\n",
       "    </tr>\n",
       "    <tr>\n",
       "      <th>449</th>\n",
       "      <td>52.0</td>\n",
       "      <td>30.5000</td>\n",
       "    </tr>\n",
       "    <tr>\n",
       "      <th>672</th>\n",
       "      <td>70.0</td>\n",
       "      <td>10.5000</td>\n",
       "    </tr>\n",
       "    <tr>\n",
       "      <th>569</th>\n",
       "      <td>32.0</td>\n",
       "      <td>7.8542</td>\n",
       "    </tr>\n",
       "    <tr>\n",
       "      <th>...</th>\n",
       "      <td>...</td>\n",
       "      <td>...</td>\n",
       "    </tr>\n",
       "    <tr>\n",
       "      <th>743</th>\n",
       "      <td>24.0</td>\n",
       "      <td>16.1000</td>\n",
       "    </tr>\n",
       "    <tr>\n",
       "      <th>733</th>\n",
       "      <td>23.0</td>\n",
       "      <td>13.0000</td>\n",
       "    </tr>\n",
       "    <tr>\n",
       "      <th>751</th>\n",
       "      <td>6.0</td>\n",
       "      <td>12.4750</td>\n",
       "    </tr>\n",
       "    <tr>\n",
       "      <th>533</th>\n",
       "      <td>28.0</td>\n",
       "      <td>22.3583</td>\n",
       "    </tr>\n",
       "    <tr>\n",
       "      <th>171</th>\n",
       "      <td>4.0</td>\n",
       "      <td>29.1250</td>\n",
       "    </tr>\n",
       "  </tbody>\n",
       "</table>\n",
       "<p>593 rows × 2 columns</p>\n",
       "</div>"
      ],
      "text/plain": [
       "      age     fare\n",
       "748  19.0  53.1000\n",
       "111  14.5  14.4542\n",
       "449  52.0  30.5000\n",
       "672  70.0  10.5000\n",
       "569  32.0   7.8542\n",
       "..    ...      ...\n",
       "743  24.0  16.1000\n",
       "733  23.0  13.0000\n",
       "751   6.0  12.4750\n",
       "533  28.0  22.3583\n",
       "171   4.0  29.1250\n",
       "\n",
       "[593 rows x 2 columns]"
      ]
     },
     "execution_count": 256,
     "metadata": {},
     "output_type": "execute_result"
    }
   ],
   "source": [
    "x_train"
   ]
  },
  {
   "cell_type": "code",
   "execution_count": 257,
   "id": "fd0deb14-5be6-4460-8ed7-248c2383716c",
   "metadata": {},
   "outputs": [
    {
     "data": {
      "text/html": [
       "<div>\n",
       "<style scoped>\n",
       "    .dataframe tbody tr th:only-of-type {\n",
       "        vertical-align: middle;\n",
       "    }\n",
       "\n",
       "    .dataframe tbody tr th {\n",
       "        vertical-align: top;\n",
       "    }\n",
       "\n",
       "    .dataframe thead th {\n",
       "        text-align: right;\n",
       "    }\n",
       "</style>\n",
       "<table border=\"1\" class=\"dataframe\">\n",
       "  <thead>\n",
       "    <tr style=\"text-align: right;\">\n",
       "      <th></th>\n",
       "      <th>age</th>\n",
       "      <th>fare</th>\n",
       "    </tr>\n",
       "  </thead>\n",
       "  <tbody>\n",
       "    <tr>\n",
       "      <th>606</th>\n",
       "      <td>30.0</td>\n",
       "      <td>7.8958</td>\n",
       "    </tr>\n",
       "    <tr>\n",
       "      <th>562</th>\n",
       "      <td>28.0</td>\n",
       "      <td>13.5000</td>\n",
       "    </tr>\n",
       "    <tr>\n",
       "      <th>838</th>\n",
       "      <td>32.0</td>\n",
       "      <td>56.4958</td>\n",
       "    </tr>\n",
       "    <tr>\n",
       "      <th>783</th>\n",
       "      <td>28.0</td>\n",
       "      <td>23.4500</td>\n",
       "    </tr>\n",
       "    <tr>\n",
       "      <th>668</th>\n",
       "      <td>43.0</td>\n",
       "      <td>8.0500</td>\n",
       "    </tr>\n",
       "    <tr>\n",
       "      <th>...</th>\n",
       "      <td>...</td>\n",
       "      <td>...</td>\n",
       "    </tr>\n",
       "    <tr>\n",
       "      <th>166</th>\n",
       "      <td>28.0</td>\n",
       "      <td>55.0000</td>\n",
       "    </tr>\n",
       "    <tr>\n",
       "      <th>683</th>\n",
       "      <td>14.0</td>\n",
       "      <td>46.9000</td>\n",
       "    </tr>\n",
       "    <tr>\n",
       "      <th>791</th>\n",
       "      <td>16.0</td>\n",
       "      <td>26.0000</td>\n",
       "    </tr>\n",
       "    <tr>\n",
       "      <th>261</th>\n",
       "      <td>3.0</td>\n",
       "      <td>31.3875</td>\n",
       "    </tr>\n",
       "    <tr>\n",
       "      <th>423</th>\n",
       "      <td>28.0</td>\n",
       "      <td>14.4000</td>\n",
       "    </tr>\n",
       "  </tbody>\n",
       "</table>\n",
       "<p>255 rows × 2 columns</p>\n",
       "</div>"
      ],
      "text/plain": [
       "      age     fare\n",
       "606  30.0   7.8958\n",
       "562  28.0  13.5000\n",
       "838  32.0  56.4958\n",
       "783  28.0  23.4500\n",
       "668  43.0   8.0500\n",
       "..    ...      ...\n",
       "166  28.0  55.0000\n",
       "683  14.0  46.9000\n",
       "791  16.0  26.0000\n",
       "261   3.0  31.3875\n",
       "423  28.0  14.4000\n",
       "\n",
       "[255 rows x 2 columns]"
      ]
     },
     "execution_count": 257,
     "metadata": {},
     "output_type": "execute_result"
    }
   ],
   "source": [
    "x_test"
   ]
  },
  {
   "cell_type": "code",
   "execution_count": 258,
   "id": "410eb563-79d0-4f64-af88-48cfc497ed27",
   "metadata": {},
   "outputs": [
    {
     "data": {
      "text/plain": [
       "748    0\n",
       "111    0\n",
       "449    1\n",
       "672    0\n",
       "569    1\n",
       "      ..\n",
       "743    0\n",
       "733    0\n",
       "751    1\n",
       "533    1\n",
       "171    0\n",
       "Name: survived, Length: 593, dtype: int64"
      ]
     },
     "execution_count": 258,
     "metadata": {},
     "output_type": "execute_result"
    }
   ],
   "source": [
    "y_train"
   ]
  },
  {
   "cell_type": "code",
   "execution_count": 259,
   "id": "0afbe712-d70d-47c3-8068-9ec4c72d2d87",
   "metadata": {},
   "outputs": [
    {
     "data": {
      "text/plain": [
       "606    0\n",
       "562    0\n",
       "838    1\n",
       "783    0\n",
       "668    0\n",
       "      ..\n",
       "166    1\n",
       "683    0\n",
       "791    0\n",
       "261    1\n",
       "423    0\n",
       "Name: survived, Length: 255, dtype: int64"
      ]
     },
     "execution_count": 259,
     "metadata": {},
     "output_type": "execute_result"
    }
   ],
   "source": [
    "y_test"
   ]
  },
  {
   "cell_type": "code",
   "execution_count": 249,
   "id": "d69989ed-5e53-485f-bce0-fadc6b4bd1af",
   "metadata": {},
   "outputs": [],
   "source": [
    "# creating an object of standardscaler\n",
    "\n",
    "scaler = StandardScaler()"
   ]
  },
  {
   "cell_type": "code",
   "execution_count": 250,
   "id": "765b1577-4107-4ad0-acd2-25ea8ce36ecd",
   "metadata": {},
   "outputs": [
    {
     "data": {
      "text/html": [
       "<style>#sk-container-id-1 {color: black;background-color: white;}#sk-container-id-1 pre{padding: 0;}#sk-container-id-1 div.sk-toggleable {background-color: white;}#sk-container-id-1 label.sk-toggleable__label {cursor: pointer;display: block;width: 100%;margin-bottom: 0;padding: 0.3em;box-sizing: border-box;text-align: center;}#sk-container-id-1 label.sk-toggleable__label-arrow:before {content: \"▸\";float: left;margin-right: 0.25em;color: #696969;}#sk-container-id-1 label.sk-toggleable__label-arrow:hover:before {color: black;}#sk-container-id-1 div.sk-estimator:hover label.sk-toggleable__label-arrow:before {color: black;}#sk-container-id-1 div.sk-toggleable__content {max-height: 0;max-width: 0;overflow: hidden;text-align: left;background-color: #f0f8ff;}#sk-container-id-1 div.sk-toggleable__content pre {margin: 0.2em;color: black;border-radius: 0.25em;background-color: #f0f8ff;}#sk-container-id-1 input.sk-toggleable__control:checked~div.sk-toggleable__content {max-height: 200px;max-width: 100%;overflow: auto;}#sk-container-id-1 input.sk-toggleable__control:checked~label.sk-toggleable__label-arrow:before {content: \"▾\";}#sk-container-id-1 div.sk-estimator input.sk-toggleable__control:checked~label.sk-toggleable__label {background-color: #d4ebff;}#sk-container-id-1 div.sk-label input.sk-toggleable__control:checked~label.sk-toggleable__label {background-color: #d4ebff;}#sk-container-id-1 input.sk-hidden--visually {border: 0;clip: rect(1px 1px 1px 1px);clip: rect(1px, 1px, 1px, 1px);height: 1px;margin: -1px;overflow: hidden;padding: 0;position: absolute;width: 1px;}#sk-container-id-1 div.sk-estimator {font-family: monospace;background-color: #f0f8ff;border: 1px dotted black;border-radius: 0.25em;box-sizing: border-box;margin-bottom: 0.5em;}#sk-container-id-1 div.sk-estimator:hover {background-color: #d4ebff;}#sk-container-id-1 div.sk-parallel-item::after {content: \"\";width: 100%;border-bottom: 1px solid gray;flex-grow: 1;}#sk-container-id-1 div.sk-label:hover label.sk-toggleable__label {background-color: #d4ebff;}#sk-container-id-1 div.sk-serial::before {content: \"\";position: absolute;border-left: 1px solid gray;box-sizing: border-box;top: 0;bottom: 0;left: 50%;z-index: 0;}#sk-container-id-1 div.sk-serial {display: flex;flex-direction: column;align-items: center;background-color: white;padding-right: 0.2em;padding-left: 0.2em;position: relative;}#sk-container-id-1 div.sk-item {position: relative;z-index: 1;}#sk-container-id-1 div.sk-parallel {display: flex;align-items: stretch;justify-content: center;background-color: white;position: relative;}#sk-container-id-1 div.sk-item::before, #sk-container-id-1 div.sk-parallel-item::before {content: \"\";position: absolute;border-left: 1px solid gray;box-sizing: border-box;top: 0;bottom: 0;left: 50%;z-index: -1;}#sk-container-id-1 div.sk-parallel-item {display: flex;flex-direction: column;z-index: 1;position: relative;background-color: white;}#sk-container-id-1 div.sk-parallel-item:first-child::after {align-self: flex-end;width: 50%;}#sk-container-id-1 div.sk-parallel-item:last-child::after {align-self: flex-start;width: 50%;}#sk-container-id-1 div.sk-parallel-item:only-child::after {width: 0;}#sk-container-id-1 div.sk-dashed-wrapped {border: 1px dashed gray;margin: 0 0.4em 0.5em 0.4em;box-sizing: border-box;padding-bottom: 0.4em;background-color: white;}#sk-container-id-1 div.sk-label label {font-family: monospace;font-weight: bold;display: inline-block;line-height: 1.2em;}#sk-container-id-1 div.sk-label-container {text-align: center;}#sk-container-id-1 div.sk-container {/* jupyter's `normalize.less` sets `[hidden] { display: none; }` but bootstrap.min.css set `[hidden] { display: none !important; }` so we also need the `!important` here to be able to override the default hidden behavior on the sphinx rendered scikit-learn.org. See: https://github.com/scikit-learn/scikit-learn/issues/21755 */display: inline-block !important;position: relative;}#sk-container-id-1 div.sk-text-repr-fallback {display: none;}</style><div id=\"sk-container-id-1\" class=\"sk-top-container\"><div class=\"sk-text-repr-fallback\"><pre>StandardScaler()</pre><b>In a Jupyter environment, please rerun this cell to show the HTML representation or trust the notebook. <br />On GitHub, the HTML representation is unable to render, please try loading this page with nbviewer.org.</b></div><div class=\"sk-container\" hidden><div class=\"sk-item\"><div class=\"sk-estimator sk-toggleable\"><input class=\"sk-toggleable__control sk-hidden--visually\" id=\"sk-estimator-id-1\" type=\"checkbox\" checked><label for=\"sk-estimator-id-1\" class=\"sk-toggleable__label sk-toggleable__label-arrow\">StandardScaler</label><div class=\"sk-toggleable__content\"><pre>StandardScaler()</pre></div></div></div></div></div>"
      ],
      "text/plain": [
       "StandardScaler()"
      ]
     },
     "execution_count": 250,
     "metadata": {},
     "output_type": "execute_result"
    }
   ],
   "source": [
    "# fit the scaler to the train set, it will learn the parameters\n",
    "# fit implies that it will learn and store mean and std of both input columns age and fare\n",
    "\n",
    "scaler.fit(x_train)\n"
   ]
  },
  {
   "cell_type": "code",
   "execution_count": 251,
   "id": "ce183b26-bbc1-4008-9604-a53373b65855",
   "metadata": {},
   "outputs": [],
   "source": [
    "# transform train and test sets\n",
    "\n",
    "x_train_scaled = scaler.transform(x_train)\n",
    "x_test_scaled = scaler.transform(x_test)"
   ]
  },
  {
   "cell_type": "code",
   "execution_count": 252,
   "id": "7014e6b8-a443-48c7-965f-ab5a7e87d99b",
   "metadata": {},
   "outputs": [
    {
     "data": {
      "text/plain": [
       "array([[-0.8009542 ,  0.45682914],\n",
       "       [-1.14857497, -0.35865817],\n",
       "       [ 1.74826475, -0.02006649],\n",
       "       ...,\n",
       "       [-1.80519197, -0.40042241],\n",
       "       [-0.10571267, -0.1918692 ],\n",
       "       [-1.95969009, -0.04908116]])"
      ]
     },
     "execution_count": 252,
     "metadata": {},
     "output_type": "execute_result"
    }
   ],
   "source": [
    "x_train_scaled"
   ]
  },
  {
   "cell_type": "code",
   "execution_count": 253,
   "id": "f30e7a2d-c4ce-451d-8885-770fea4afe96",
   "metadata": {},
   "outputs": [
    {
     "data": {
      "text/plain": [
       "array([[ 4.87854514e-02, -4.97050753e-01],\n",
       "       [-1.05712667e-01, -3.78793297e-01],\n",
       "       [ 2.03283570e-01,  5.28485875e-01],\n",
       "       [-1.05712667e-01, -1.68832609e-01],\n",
       "       [ 1.05302322e+00, -4.93796890e-01],\n",
       "       [-3.37459845e-01, -5.10678151e-01],\n",
       "       [-8.78203259e-01, -2.37148963e-01],\n",
       "       [-6.46456081e-01, -4.56341591e-01],\n",
       "       [ 5.12279806e-01, -4.97050753e-01],\n",
       "       [-1.05712667e-01, -1.26277059e-01],\n",
       "       [ 5.12279806e-01,  1.83036183e-01],\n",
       "       [ 8.98525102e-01, -2.52183836e-01],\n",
       "       [-5.69207022e-01,  2.53427937e+00],\n",
       "       [-1.05712667e-01,  8.03950077e-01],\n",
       "       [-1.05712667e-01, -5.00654902e-01],\n",
       "       [ 2.21175911e+00,  1.72661652e+00],\n",
       "       [-3.37459845e-01, -1.15023588e-01],\n",
       "       [-8.00954200e-01, -4.42098027e-01],\n",
       "       [-1.05712667e-01, -3.69477541e-02],\n",
       "       [-1.18719950e+00,  1.73804243e-01],\n",
       "       [ 1.20752134e+00, -1.03417721e-01],\n",
       "       [-1.72794291e+00, -1.09748194e-01],\n",
       "       [ 4.35030747e-01,  1.23547732e+00],\n",
       "       [-1.05712667e-01, -1.54061505e-01],\n",
       "       [-2.19143726e+00, -4.28734398e-01],\n",
       "       [-7.23705140e-01, -4.80872174e-01],\n",
       "       [ 4.35030747e-01, -1.15023588e-01],\n",
       "       [-4.14708904e-01,  1.00758029e+00],\n",
       "       [ 1.67101569e+00, -4.93796890e-01],\n",
       "       [-1.18719950e+00, -4.26446987e-01],\n",
       "       [-1.05712667e-01, -4.98456118e-01],\n",
       "       [ 6.66777925e-01,  1.23547732e+00],\n",
       "       [-1.05712667e-01, -3.23929197e-01],\n",
       "       [-2.03693915e+00, -2.68010019e-01],\n",
       "       [-8.78203259e-01, -4.20996450e-01],\n",
       "       [-4.91957963e-01, -4.97928578e-01],\n",
       "       [-2.60210785e-01, -4.99599823e-01],\n",
       "       [ 1.67101569e+00, -3.99367334e-01],\n",
       "       [-1.41894667e+00,  3.25999365e-01],\n",
       "       [-1.05712667e-01, -2.42335731e-01],\n",
       "       [ 2.03283570e-01, -3.89344085e-01],\n",
       "       [ 8.21276043e-01,  2.17449748e+00],\n",
       "       [-4.91957963e-01, -4.20996450e-01],\n",
       "       [ 4.35030747e-01, -5.13315848e-01],\n",
       "       [ 4.87854514e-02,  1.30933284e+00],\n",
       "       [-1.57344479e+00, -3.41954164e-01],\n",
       "       [-8.00954200e-01, -4.49044666e-01],\n",
       "       [ 2.41908099e-01, -2.91232895e-02],\n",
       "       [-1.05712667e-01, -4.97050753e-01],\n",
       "       [ 1.67101569e+00, -1.03417721e-01],\n",
       "       [-1.05712667e-01, -9.51570442e-03],\n",
       "       [ 2.36625723e+00,  9.24229065e-01],\n",
       "       [ 2.80532629e-01,  1.16162180e+00],\n",
       "       [ 4.87854514e-02, -9.51570442e-03],\n",
       "       [ 3.17737235e+00, -5.00127363e-01],\n",
       "       [ 3.57781688e-01,  2.21366606e-02],\n",
       "       [-1.05712667e-01, -3.23929197e-01],\n",
       "       [-1.05712667e-01, -6.63664582e-01],\n",
       "       [ 3.91123841e+00, -3.06172811e-02],\n",
       "       [ 1.90276287e+00,  9.87886191e-01],\n",
       "       [-1.05712667e-01,  1.07026886e+00],\n",
       "       [-1.05712667e-01, -5.11117064e-01],\n",
       "       [ 5.12279806e-01, -1.15023588e-01],\n",
       "       [-1.65069385e+00, -2.18948853e-01],\n",
       "       [ 5.12279806e-01, -2.96497148e-01],\n",
       "       [-8.00954200e-01, -3.57691720e-01],\n",
       "       [-1.03270138e+00,  1.16162180e+00],\n",
       "       [-4.14708904e-01, -2.57284088e-01],\n",
       "       [-2.11418821e+00, -1.15023588e-01],\n",
       "       [-1.05712667e-01,  4.13747166e+00],\n",
       "       [ 2.05726099e+00, -1.03417721e-01],\n",
       "       [-1.95969009e+00,  1.06367461e+00],\n",
       "       [-1.82961726e-01,  3.79931889e+00],\n",
       "       [-2.60210785e-01, -4.80872174e-01],\n",
       "       [-1.18719950e+00,  1.86852462e+00],\n",
       "       [ 1.59376663e+00, -4.42098027e-01],\n",
       "       [-1.10995044e+00,  3.79588988e+00],\n",
       "       [-1.03270138e+00, -4.99599823e-01],\n",
       "       [-6.46456081e-01,  9.67223527e-01],\n",
       "       [-2.11418821e+00,  2.53427937e+00],\n",
       "       [-7.23705140e-01, -5.14898466e-01],\n",
       "       [-5.69207022e-01, -5.10678151e-01],\n",
       "       [-1.82961726e-01, -3.58658172e-01],\n",
       "       [-1.05712667e-01, -1.57226741e-01],\n",
       "       [-1.05712667e-01, -1.59348040e-02],\n",
       "       [ 1.67101569e+00,  9.81378465e-01],\n",
       "       [ 1.20752134e+00, -7.49305922e-02],\n",
       "       [-1.80519197e+00, -3.71277082e-03],\n",
       "       [-1.05712667e-01, -5.00391132e-01],\n",
       "       [-1.05712667e-01, -4.97050753e-01],\n",
       "       [-1.65069385e+00,  1.11818362e-01],\n",
       "       [ 1.90276287e+00,  4.30715940e-01],\n",
       "       [-2.03693915e+00,  2.13722096e-01],\n",
       "       [-1.82961726e-01, -2.20531471e-01],\n",
       "       [ 7.44026984e-01, -4.96434587e-01],\n",
       "       [-4.91957963e-01, -4.97050753e-01],\n",
       "       [ 1.59376663e+00, -3.89344085e-01],\n",
       "       [-2.11418821e+00, -4.04378958e-01],\n",
       "       [-1.65069385e+00, -4.90811607e-02],\n",
       "       [ 4.35030747e-01, -1.03417721e-01],\n",
       "       [ 3.57781688e-01, -4.93796890e-01],\n",
       "       [ 8.59900573e-01, -3.57691720e-01],\n",
       "       [-1.57344479e+00,  3.25999365e-01],\n",
       "       [ 5.12279806e-01,  1.01472893e+01],\n",
       "       [ 1.51651758e+00, -1.16517580e-01],\n",
       "       [ 2.52075534e+00,  1.02446155e+00],\n",
       "       [-8.78203259e-01,  1.01707600e+00],\n",
       "       [-8.00954200e-01, -1.09045511e-01],\n",
       "       [-8.00954200e-01,  1.25825014e+00],\n",
       "       [ 2.80532629e-01, -2.30554720e-01],\n",
       "       [-9.55452318e-01, -4.10445662e-01],\n",
       "       [ 3.13874782e+00,  8.34547364e-01],\n",
       "       [-1.26444855e+00, -5.11117064e-01],\n",
       "       [-1.05712667e-01, -4.42098027e-01],\n",
       "       [-6.46456081e-01,  9.81378465e-01],\n",
       "       [-1.05712667e-01, -4.93796890e-01],\n",
       "       [ 8.21276043e-01, -6.63664582e-01],\n",
       "       [ 7.44026984e-01, -6.63664582e-01],\n",
       "       [ 1.43926852e+00,  4.33617406e-01],\n",
       "       [ 2.21175911e+00, -1.03417721e-01],\n",
       "       [-2.60210785e-01, -1.15023588e-01],\n",
       "       [ 3.57781688e-01, -2.20531471e-01],\n",
       "       [-2.60210785e-01, -3.58658172e-01],\n",
       "       [-1.95969009e+00, -1.78328318e-01],\n",
       "       [-8.78203259e-01,  8.87301305e-01],\n",
       "       [ 1.26034511e-01, -4.97928578e-01],\n",
       "       [-2.23624172e+00, -4.83948784e-01],\n",
       "       [-1.05712667e-01,  1.00758029e+00],\n",
       "       [ 4.87854514e-02, -3.89344085e-01],\n",
       "       [-3.37459845e-01, -5.14898466e-01],\n",
       "       [ 3.57781688e-01, -1.78328318e-01],\n",
       "       [ 7.44026984e-01, -4.90811607e-02],\n",
       "       [-1.82961726e-01, -3.89344085e-01],\n",
       "       [-1.05712667e-01, -5.17008624e-01],\n",
       "       [ 2.03283570e-01, -4.87202647e-01],\n",
       "       [ 1.20752134e+00, -3.78793297e-01],\n",
       "       [-1.05712667e-01, -5.11205690e-01],\n",
       "       [ 1.20752134e+00,  1.09778953e+00],\n",
       "       [-1.05712667e-01, -4.91950502e-01],\n",
       "       [ 4.35030747e-01,  1.01472893e+01],\n",
       "       [ 4.35030747e-01, -4.42098027e-01],\n",
       "       [ 8.98525102e-01,  2.17449748e+00],\n",
       "       [-1.05712667e-01, -5.00127363e-01],\n",
       "       [ 7.44026984e-01,  5.15913555e-01],\n",
       "       [-3.37459845e-01, -4.97050753e-01],\n",
       "       [ 8.21276043e-01, -9.51570442e-03],\n",
       "       [-1.05712667e-01,  7.48906024e-02],\n",
       "       [-1.88244103e+00, -4.00422413e-01],\n",
       "       [-1.57344479e+00,  6.17021170e-02],\n",
       "       [-5.69207022e-01, -5.04963844e-01],\n",
       "       [-4.14708904e-01, -5.14898466e-01],\n",
       "       [ 7.44026984e-01, -1.15023588e-01],\n",
       "       [-3.37459845e-01,  2.53427937e+00],\n",
       "       [ 6.66777925e-01, -4.97050753e-01],\n",
       "       [ 9.75774161e-01,  4.33617406e-01],\n",
       "       [-1.05712667e-01, -3.58658172e-01],\n",
       "       [-3.37459845e-01,  2.13722096e-01],\n",
       "       [-8.78203259e-01, -2.88056517e-01],\n",
       "       [-1.03270138e+00, -4.93796890e-01],\n",
       "       [-3.76084374e-01, -4.93796890e-01],\n",
       "       [-6.46456081e-01, -3.23929197e-01],\n",
       "       [-4.91957963e-01, -3.46174479e-01],\n",
       "       [-2.60210785e-01, -4.96434587e-01],\n",
       "       [-7.23705140e-01, -4.93796890e-01],\n",
       "       [-1.05712667e-01, -5.00127363e-01],\n",
       "       [ 1.90276287e+00,  5.89769074e-01],\n",
       "       [ 1.05302322e+00,  3.25999365e-01],\n",
       "       [ 1.05302322e+00, -1.09748194e-01],\n",
       "       [-8.78203259e-01, -5.00127363e-01],\n",
       "       [-4.14708904e-01, -3.89344085e-01],\n",
       "       [ 1.90276287e+00, -1.78328318e-01],\n",
       "       [ 1.20752134e+00, -4.93796890e-01],\n",
       "       [-1.05712667e-01, -4.92478041e-01],\n",
       "       [ 1.36201946e+00,  1.48746121e-01],\n",
       "       [-1.05712667e-01, -6.63664582e-01],\n",
       "       [ 3.57781688e-01, -4.42098027e-01],\n",
       "       [ 8.74099810e-02, -5.00127363e-01],\n",
       "       [-1.05712667e-01, -1.91869200e-01],\n",
       "       [ 3.57781688e-01, -3.89344085e-01],\n",
       "       [-1.05712667e-01, -4.98456118e-01],\n",
       "       [-2.21074953e+00, -2.57284088e-01],\n",
       "       [-1.05712667e-01,  1.71957855e-01],\n",
       "       [-1.05712667e-01, -4.93796890e-01],\n",
       "       [-1.05712667e-01, -1.54061505e-01],\n",
       "       [ 2.82975158e+00, -4.42098027e-01],\n",
       "       [-8.00954200e-01, -4.97928578e-01],\n",
       "       [ 1.43926852e+00,  1.71957855e-01],\n",
       "       [ 1.36201946e+00, -3.57691720e-01],\n",
       "       [ 5.12279806e-01,  8.34547364e-01],\n",
       "       [ 4.35030747e-01,  4.56829141e-01],\n",
       "       [ 6.66777925e-01, -4.80872174e-01],\n",
       "       [-1.05712667e-01, -3.36590143e-01],\n",
       "       [ 2.36625723e+00, -1.03417721e-01],\n",
       "       [ 4.87854514e-02, -4.93796890e-01],\n",
       "       [ 2.03283570e-01, -3.36590143e-01],\n",
       "       [-3.37459845e-01,  5.06242703e-01],\n",
       "       [ 1.51651758e+00,  9.55442517e-01],\n",
       "       [-4.14708904e-01,  7.98674683e-01],\n",
       "       [-8.00954200e-01, -6.63664582e-01],\n",
       "       [-2.19143726e+00, -3.31489892e-01],\n",
       "       [-1.18719950e+00, -2.91232895e-02],\n",
       "       [-1.05712667e-01, -5.11117064e-01],\n",
       "       [ 1.20752134e+00, -1.09748194e-01],\n",
       "       [ 1.20752134e+00,  2.81528273e+00],\n",
       "       [-1.05712667e-01, -5.04347678e-01],\n",
       "       [ 5.12279806e-01,  1.00019474e+00],\n",
       "       [ 8.21276043e-01,  1.59296909e-01],\n",
       "       [-1.05712667e-01, -1.26277059e-01],\n",
       "       [ 7.44026984e-01, -3.71277082e-03],\n",
       "       [-2.84636078e-02, -1.15023588e-01],\n",
       "       [-1.10995044e+00, -5.11117064e-01],\n",
       "       [ 6.66777925e-01,  4.13747166e+00],\n",
       "       [-1.05712667e-01, -5.11205690e-01],\n",
       "       [-2.60210785e-01, -4.97050753e-01],\n",
       "       [ 8.98525102e-01,  1.73804243e-01],\n",
       "       [-1.05712667e-01, -3.96729637e-01],\n",
       "       [ 1.05302322e+00, -5.27559412e-01],\n",
       "       [-8.78203259e-01, -5.21228939e-01],\n",
       "       [-8.78203259e-01, -4.93796890e-01],\n",
       "       [-1.05712667e-01, -5.00127363e-01],\n",
       "       [ 2.03283570e-01, -4.96434587e-01],\n",
       "       [ 9.75774161e-01, -9.39220112e-02],\n",
       "       [-1.57344479e+00, -3.28149513e-01],\n",
       "       [ 6.66777925e-01,  1.02446155e+00],\n",
       "       [ 4.35030747e-01, -2.20531471e-01],\n",
       "       [-1.82961726e-01, -4.97050753e-01],\n",
       "       [ 5.12279806e-01, -5.05491384e-01],\n",
       "       [ 1.90276287e+00, -1.15023588e-01],\n",
       "       [-1.88244103e+00, -1.33884344e-03],\n",
       "       [-1.05712667e-01, -5.11205690e-01],\n",
       "       [ 1.59376663e+00,  5.15913555e-01],\n",
       "       [-1.18719950e+00, -4.97928578e-01],\n",
       "       [-5.69207022e-01, -4.56077821e-01],\n",
       "       [-1.05712667e-01, -5.11205690e-01],\n",
       "       [-1.05712667e-01, -5.00127363e-01],\n",
       "       [ 1.26034511e-01, -2.30554720e-01],\n",
       "       [ 4.87854514e-02,  5.37631298e-01],\n",
       "       [-2.19143726e+00,  1.59296909e-01],\n",
       "       [-2.84636078e-02, -3.06172811e-02],\n",
       "       [-1.05712667e-01, -1.68832609e-01],\n",
       "       [ 5.89528866e-01,  4.45311900e-01],\n",
       "       [-4.91957963e-01, -4.96434587e-01],\n",
       "       [-2.19143726e+00,  1.17182382e-01],\n",
       "       [-1.05712667e-01, -4.63199603e-01],\n",
       "       [ 1.36201946e+00, -4.73750392e-01],\n",
       "       [ 2.28900817e+00, -3.78793297e-01],\n",
       "       [ 5.89528866e-01,  4.56829141e-01],\n",
       "       [ 4.87854514e-02,  1.58207072e+00],\n",
       "       [ 2.80532629e-01, -5.58156699e-01],\n",
       "       [-1.05712667e-01,  8.03950077e-01],\n",
       "       [-1.05712667e-01,  4.96922136e-01],\n",
       "       [-1.18719950e+00,  3.25999365e-01],\n",
       "       [-1.03270138e+00, -1.15023588e-01],\n",
       "       [-2.03693915e+00, -1.33884344e-03],\n",
       "       [-1.05712667e-01, -3.59801878e-01]])"
      ]
     },
     "execution_count": 253,
     "metadata": {},
     "output_type": "execute_result"
    }
   ],
   "source": [
    "x_test_scaled"
   ]
  },
  {
   "cell_type": "code",
   "execution_count": 261,
   "id": "257b7d6d-84ec-4f91-ba53-4b0bd436d5fa",
   "metadata": {},
   "outputs": [],
   "source": [
    "# x train and test scale is numpy array transforming it into DATAFRAME\n",
    "\n",
    "x_train_scaled = pd.DataFrame(x_train_scaled, columns=x_train.columns)\n",
    "x_test_scaled = pd.DataFrame(x_test_scaled, columns=x_test.columns)"
   ]
  },
  {
   "cell_type": "code",
   "execution_count": 262,
   "id": "97a13a13-1a86-4004-98a0-dc574c7f4ddb",
   "metadata": {},
   "outputs": [
    {
     "data": {
      "text/html": [
       "<div>\n",
       "<style scoped>\n",
       "    .dataframe tbody tr th:only-of-type {\n",
       "        vertical-align: middle;\n",
       "    }\n",
       "\n",
       "    .dataframe tbody tr th {\n",
       "        vertical-align: top;\n",
       "    }\n",
       "\n",
       "    .dataframe thead th {\n",
       "        text-align: right;\n",
       "    }\n",
       "</style>\n",
       "<table border=\"1\" class=\"dataframe\">\n",
       "  <thead>\n",
       "    <tr style=\"text-align: right;\">\n",
       "      <th></th>\n",
       "      <th>age</th>\n",
       "      <th>fare</th>\n",
       "    </tr>\n",
       "  </thead>\n",
       "  <tbody>\n",
       "    <tr>\n",
       "      <th>0</th>\n",
       "      <td>-0.800954</td>\n",
       "      <td>0.456829</td>\n",
       "    </tr>\n",
       "    <tr>\n",
       "      <th>1</th>\n",
       "      <td>-1.148575</td>\n",
       "      <td>-0.358658</td>\n",
       "    </tr>\n",
       "    <tr>\n",
       "      <th>2</th>\n",
       "      <td>1.748265</td>\n",
       "      <td>-0.020066</td>\n",
       "    </tr>\n",
       "    <tr>\n",
       "      <th>3</th>\n",
       "      <td>3.138748</td>\n",
       "      <td>-0.442098</td>\n",
       "    </tr>\n",
       "    <tr>\n",
       "      <th>4</th>\n",
       "      <td>0.203284</td>\n",
       "      <td>-0.497929</td>\n",
       "    </tr>\n",
       "    <tr>\n",
       "      <th>...</th>\n",
       "      <td>...</td>\n",
       "      <td>...</td>\n",
       "    </tr>\n",
       "    <tr>\n",
       "      <th>588</th>\n",
       "      <td>-0.414709</td>\n",
       "      <td>-0.323929</td>\n",
       "    </tr>\n",
       "    <tr>\n",
       "      <th>589</th>\n",
       "      <td>-0.491958</td>\n",
       "      <td>-0.389344</td>\n",
       "    </tr>\n",
       "    <tr>\n",
       "      <th>590</th>\n",
       "      <td>-1.805192</td>\n",
       "      <td>-0.400422</td>\n",
       "    </tr>\n",
       "    <tr>\n",
       "      <th>591</th>\n",
       "      <td>-0.105713</td>\n",
       "      <td>-0.191869</td>\n",
       "    </tr>\n",
       "    <tr>\n",
       "      <th>592</th>\n",
       "      <td>-1.959690</td>\n",
       "      <td>-0.049081</td>\n",
       "    </tr>\n",
       "  </tbody>\n",
       "</table>\n",
       "<p>593 rows × 2 columns</p>\n",
       "</div>"
      ],
      "text/plain": [
       "          age      fare\n",
       "0   -0.800954  0.456829\n",
       "1   -1.148575 -0.358658\n",
       "2    1.748265 -0.020066\n",
       "3    3.138748 -0.442098\n",
       "4    0.203284 -0.497929\n",
       "..        ...       ...\n",
       "588 -0.414709 -0.323929\n",
       "589 -0.491958 -0.389344\n",
       "590 -1.805192 -0.400422\n",
       "591 -0.105713 -0.191869\n",
       "592 -1.959690 -0.049081\n",
       "\n",
       "[593 rows x 2 columns]"
      ]
     },
     "execution_count": 262,
     "metadata": {},
     "output_type": "execute_result"
    }
   ],
   "source": [
    "x_train_scaled"
   ]
  },
  {
   "cell_type": "code",
   "execution_count": 263,
   "id": "1dc1bc8d-e63b-485e-80ac-30eb3268f193",
   "metadata": {},
   "outputs": [
    {
     "data": {
      "text/html": [
       "<div>\n",
       "<style scoped>\n",
       "    .dataframe tbody tr th:only-of-type {\n",
       "        vertical-align: middle;\n",
       "    }\n",
       "\n",
       "    .dataframe tbody tr th {\n",
       "        vertical-align: top;\n",
       "    }\n",
       "\n",
       "    .dataframe thead th {\n",
       "        text-align: right;\n",
       "    }\n",
       "</style>\n",
       "<table border=\"1\" class=\"dataframe\">\n",
       "  <thead>\n",
       "    <tr style=\"text-align: right;\">\n",
       "      <th></th>\n",
       "      <th>age</th>\n",
       "      <th>fare</th>\n",
       "    </tr>\n",
       "  </thead>\n",
       "  <tbody>\n",
       "    <tr>\n",
       "      <th>0</th>\n",
       "      <td>0.048785</td>\n",
       "      <td>-0.497051</td>\n",
       "    </tr>\n",
       "    <tr>\n",
       "      <th>1</th>\n",
       "      <td>-0.105713</td>\n",
       "      <td>-0.378793</td>\n",
       "    </tr>\n",
       "    <tr>\n",
       "      <th>2</th>\n",
       "      <td>0.203284</td>\n",
       "      <td>0.528486</td>\n",
       "    </tr>\n",
       "    <tr>\n",
       "      <th>3</th>\n",
       "      <td>-0.105713</td>\n",
       "      <td>-0.168833</td>\n",
       "    </tr>\n",
       "    <tr>\n",
       "      <th>4</th>\n",
       "      <td>1.053023</td>\n",
       "      <td>-0.493797</td>\n",
       "    </tr>\n",
       "    <tr>\n",
       "      <th>...</th>\n",
       "      <td>...</td>\n",
       "      <td>...</td>\n",
       "    </tr>\n",
       "    <tr>\n",
       "      <th>250</th>\n",
       "      <td>-0.105713</td>\n",
       "      <td>0.496922</td>\n",
       "    </tr>\n",
       "    <tr>\n",
       "      <th>251</th>\n",
       "      <td>-1.187199</td>\n",
       "      <td>0.325999</td>\n",
       "    </tr>\n",
       "    <tr>\n",
       "      <th>252</th>\n",
       "      <td>-1.032701</td>\n",
       "      <td>-0.115024</td>\n",
       "    </tr>\n",
       "    <tr>\n",
       "      <th>253</th>\n",
       "      <td>-2.036939</td>\n",
       "      <td>-0.001339</td>\n",
       "    </tr>\n",
       "    <tr>\n",
       "      <th>254</th>\n",
       "      <td>-0.105713</td>\n",
       "      <td>-0.359802</td>\n",
       "    </tr>\n",
       "  </tbody>\n",
       "</table>\n",
       "<p>255 rows × 2 columns</p>\n",
       "</div>"
      ],
      "text/plain": [
       "          age      fare\n",
       "0    0.048785 -0.497051\n",
       "1   -0.105713 -0.378793\n",
       "2    0.203284  0.528486\n",
       "3   -0.105713 -0.168833\n",
       "4    1.053023 -0.493797\n",
       "..        ...       ...\n",
       "250 -0.105713  0.496922\n",
       "251 -1.187199  0.325999\n",
       "252 -1.032701 -0.115024\n",
       "253 -2.036939 -0.001339\n",
       "254 -0.105713 -0.359802\n",
       "\n",
       "[255 rows x 2 columns]"
      ]
     },
     "execution_count": 263,
     "metadata": {},
     "output_type": "execute_result"
    }
   ],
   "source": [
    "x_test_scaled"
   ]
  },
  {
   "cell_type": "code",
   "execution_count": 265,
   "id": "1a829249-8d5a-45b9-b6ff-f5286e04a3d1",
   "metadata": {},
   "outputs": [
    {
     "data": {
      "text/html": [
       "<div>\n",
       "<style scoped>\n",
       "    .dataframe tbody tr th:only-of-type {\n",
       "        vertical-align: middle;\n",
       "    }\n",
       "\n",
       "    .dataframe tbody tr th {\n",
       "        vertical-align: top;\n",
       "    }\n",
       "\n",
       "    .dataframe thead th {\n",
       "        text-align: right;\n",
       "    }\n",
       "</style>\n",
       "<table border=\"1\" class=\"dataframe\">\n",
       "  <thead>\n",
       "    <tr style=\"text-align: right;\">\n",
       "      <th></th>\n",
       "      <th>age</th>\n",
       "      <th>fare</th>\n",
       "    </tr>\n",
       "  </thead>\n",
       "  <tbody>\n",
       "    <tr>\n",
       "      <th>0</th>\n",
       "      <td>-1.0</td>\n",
       "      <td>0.0</td>\n",
       "    </tr>\n",
       "    <tr>\n",
       "      <th>1</th>\n",
       "      <td>-1.0</td>\n",
       "      <td>-0.0</td>\n",
       "    </tr>\n",
       "    <tr>\n",
       "      <th>2</th>\n",
       "      <td>2.0</td>\n",
       "      <td>-0.0</td>\n",
       "    </tr>\n",
       "    <tr>\n",
       "      <th>3</th>\n",
       "      <td>3.0</td>\n",
       "      <td>-0.0</td>\n",
       "    </tr>\n",
       "    <tr>\n",
       "      <th>4</th>\n",
       "      <td>0.0</td>\n",
       "      <td>-0.0</td>\n",
       "    </tr>\n",
       "    <tr>\n",
       "      <th>...</th>\n",
       "      <td>...</td>\n",
       "      <td>...</td>\n",
       "    </tr>\n",
       "    <tr>\n",
       "      <th>588</th>\n",
       "      <td>-0.0</td>\n",
       "      <td>-0.0</td>\n",
       "    </tr>\n",
       "    <tr>\n",
       "      <th>589</th>\n",
       "      <td>-0.0</td>\n",
       "      <td>-0.0</td>\n",
       "    </tr>\n",
       "    <tr>\n",
       "      <th>590</th>\n",
       "      <td>-2.0</td>\n",
       "      <td>-0.0</td>\n",
       "    </tr>\n",
       "    <tr>\n",
       "      <th>591</th>\n",
       "      <td>-0.0</td>\n",
       "      <td>-0.0</td>\n",
       "    </tr>\n",
       "    <tr>\n",
       "      <th>592</th>\n",
       "      <td>-2.0</td>\n",
       "      <td>-0.0</td>\n",
       "    </tr>\n",
       "  </tbody>\n",
       "</table>\n",
       "<p>593 rows × 2 columns</p>\n",
       "</div>"
      ],
      "text/plain": [
       "     age  fare\n",
       "0   -1.0   0.0\n",
       "1   -1.0  -0.0\n",
       "2    2.0  -0.0\n",
       "3    3.0  -0.0\n",
       "4    0.0  -0.0\n",
       "..   ...   ...\n",
       "588 -0.0  -0.0\n",
       "589 -0.0  -0.0\n",
       "590 -2.0  -0.0\n",
       "591 -0.0  -0.0\n",
       "592 -2.0  -0.0\n",
       "\n",
       "[593 rows x 2 columns]"
      ]
     },
     "execution_count": 265,
     "metadata": {},
     "output_type": "execute_result"
    }
   ],
   "source": [
    "np.round(x_train_scaled)"
   ]
  },
  {
   "cell_type": "code",
   "execution_count": 269,
   "id": "55f3f66c-29f3-433f-9edd-2bcdf6ad28ef",
   "metadata": {},
   "outputs": [
    {
     "data": {
      "text/html": [
       "<div>\n",
       "<style scoped>\n",
       "    .dataframe tbody tr th:only-of-type {\n",
       "        vertical-align: middle;\n",
       "    }\n",
       "\n",
       "    .dataframe tbody tr th {\n",
       "        vertical-align: top;\n",
       "    }\n",
       "\n",
       "    .dataframe thead th {\n",
       "        text-align: right;\n",
       "    }\n",
       "</style>\n",
       "<table border=\"1\" class=\"dataframe\">\n",
       "  <thead>\n",
       "    <tr style=\"text-align: right;\">\n",
       "      <th></th>\n",
       "      <th>age</th>\n",
       "      <th>fare</th>\n",
       "    </tr>\n",
       "  </thead>\n",
       "  <tbody>\n",
       "    <tr>\n",
       "      <th>count</th>\n",
       "      <td>593.0</td>\n",
       "      <td>593.0</td>\n",
       "    </tr>\n",
       "    <tr>\n",
       "      <th>mean</th>\n",
       "      <td>0.0</td>\n",
       "      <td>-0.0</td>\n",
       "    </tr>\n",
       "    <tr>\n",
       "      <th>std</th>\n",
       "      <td>1.0</td>\n",
       "      <td>1.0</td>\n",
       "    </tr>\n",
       "    <tr>\n",
       "      <th>min</th>\n",
       "      <td>-2.0</td>\n",
       "      <td>-1.0</td>\n",
       "    </tr>\n",
       "    <tr>\n",
       "      <th>25%</th>\n",
       "      <td>-1.0</td>\n",
       "      <td>-0.0</td>\n",
       "    </tr>\n",
       "    <tr>\n",
       "      <th>50%</th>\n",
       "      <td>-0.0</td>\n",
       "      <td>-0.0</td>\n",
       "    </tr>\n",
       "    <tr>\n",
       "      <th>75%</th>\n",
       "      <td>0.0</td>\n",
       "      <td>-0.0</td>\n",
       "    </tr>\n",
       "    <tr>\n",
       "      <th>max</th>\n",
       "      <td>3.0</td>\n",
       "      <td>10.0</td>\n",
       "    </tr>\n",
       "  </tbody>\n",
       "</table>\n",
       "</div>"
      ],
      "text/plain": [
       "         age   fare\n",
       "count  593.0  593.0\n",
       "mean     0.0   -0.0\n",
       "std      1.0    1.0\n",
       "min     -2.0   -1.0\n",
       "25%     -1.0   -0.0\n",
       "50%     -0.0   -0.0\n",
       "75%      0.0   -0.0\n",
       "max      3.0   10.0"
      ]
     },
     "execution_count": 269,
     "metadata": {},
     "output_type": "execute_result"
    }
   ],
   "source": [
    "np.round(x_train_scaled.describe())"
   ]
  },
  {
   "cell_type": "markdown",
   "id": "74197a7a-dd9c-41bc-ad56-cf2829be9e86",
   "metadata": {},
   "source": [
    "#### RESUTL OF SCALING: MEAN OF TRAINING DATA HAS BEEN CENTRED TO 0 AND STD TO 1"
   ]
  },
  {
   "cell_type": "code",
   "execution_count": 268,
   "id": "3778565a-9b43-4587-98af-3b63d2aaef39",
   "metadata": {},
   "outputs": [
    {
     "data": {
      "text/html": [
       "<div>\n",
       "<style scoped>\n",
       "    .dataframe tbody tr th:only-of-type {\n",
       "        vertical-align: middle;\n",
       "    }\n",
       "\n",
       "    .dataframe tbody tr th {\n",
       "        vertical-align: top;\n",
       "    }\n",
       "\n",
       "    .dataframe thead th {\n",
       "        text-align: right;\n",
       "    }\n",
       "</style>\n",
       "<table border=\"1\" class=\"dataframe\">\n",
       "  <thead>\n",
       "    <tr style=\"text-align: right;\">\n",
       "      <th></th>\n",
       "      <th>age</th>\n",
       "      <th>fare</th>\n",
       "    </tr>\n",
       "  </thead>\n",
       "  <tbody>\n",
       "    <tr>\n",
       "      <th>count</th>\n",
       "      <td>255.0</td>\n",
       "      <td>255.0</td>\n",
       "    </tr>\n",
       "    <tr>\n",
       "      <th>mean</th>\n",
       "      <td>0.0</td>\n",
       "      <td>0.0</td>\n",
       "    </tr>\n",
       "    <tr>\n",
       "      <th>std</th>\n",
       "      <td>1.0</td>\n",
       "      <td>1.0</td>\n",
       "    </tr>\n",
       "    <tr>\n",
       "      <th>min</th>\n",
       "      <td>-2.0</td>\n",
       "      <td>-1.0</td>\n",
       "    </tr>\n",
       "    <tr>\n",
       "      <th>25%</th>\n",
       "      <td>-1.0</td>\n",
       "      <td>-0.0</td>\n",
       "    </tr>\n",
       "    <tr>\n",
       "      <th>50%</th>\n",
       "      <td>-0.0</td>\n",
       "      <td>-0.0</td>\n",
       "    </tr>\n",
       "    <tr>\n",
       "      <th>75%</th>\n",
       "      <td>1.0</td>\n",
       "      <td>0.0</td>\n",
       "    </tr>\n",
       "    <tr>\n",
       "      <th>max</th>\n",
       "      <td>4.0</td>\n",
       "      <td>10.0</td>\n",
       "    </tr>\n",
       "  </tbody>\n",
       "</table>\n",
       "</div>"
      ],
      "text/plain": [
       "         age   fare\n",
       "count  255.0  255.0\n",
       "mean     0.0    0.0\n",
       "std      1.0    1.0\n",
       "min     -2.0   -1.0\n",
       "25%     -1.0   -0.0\n",
       "50%     -0.0   -0.0\n",
       "75%      1.0    0.0\n",
       "max      4.0   10.0"
      ]
     },
     "execution_count": 268,
     "metadata": {},
     "output_type": "execute_result"
    }
   ],
   "source": [
    "np.round(x_test_scaled.describe())"
   ]
  },
  {
   "cell_type": "markdown",
   "id": "2d1d7abc-39ed-4f68-b60b-c10cf3586f38",
   "metadata": {},
   "source": [
    "#### RESUTL OF SCALING: MEAN OF TEST DATA HAS BEEN CENTRED TO 0 AND STD TO 1"
   ]
  },
  {
   "cell_type": "code",
   "execution_count": null,
   "id": "3c7fcf9e-6de4-4d14-93f2-dd9ccf504bfe",
   "metadata": {},
   "outputs": [],
   "source": []
  },
  {
   "cell_type": "markdown",
   "id": "271446a0-1ac3-4eee-93d6-0e4f9ab1ac49",
   "metadata": {},
   "source": [
    "# Effect of Scaling\n"
   ]
  },
  {
   "cell_type": "code",
   "execution_count": 271,
   "id": "572dd7a6-6f7e-4022-9afb-bac65584bf5b",
   "metadata": {},
   "outputs": [
    {
     "data": {
      "text/plain": [
       "Text(0.5, 1.0, 'AFTER SCALING')"
      ]
     },
     "execution_count": 271,
     "metadata": {},
     "output_type": "execute_result"
    },
    {
     "data": {
      "image/png": "[encoded data removed]",
      "text/plain": [
       "<Figure size 640x480 with 2 Axes>"
      ]
     },
     "metadata": {},
     "output_type": "display_data"
    }
   ],
   "source": [
    "plt.subplot(2,2,1)\n",
    "plt.scatter(x_train['age'],x_train['fare'])\n",
    "plt.xlabel(\"Age\")\n",
    "plt.ylabel(\"Fare\")\n",
    "plt.title(\"BEFORE SCALING\",pad=15)\n",
    "\n",
    "\n",
    "plt.subplot(2,2,2)\n",
    "plt.scatter(x_train_scaled['age'],x_train_scaled['fare'],color='g')\n",
    "plt.xlabel(\"Age\")\n",
    "plt.ylabel(\"Fare\")\n",
    "plt.title(\"AFTER SCALING\",pad=15)"
   ]
  },
  {
   "cell_type": "markdown",
   "id": "f021fb69-0ea7-4ace-8ab7-742709f20b89",
   "metadata": {},
   "source": [
    "### INSIGHTS:\n",
    "SCATTER PLOTS VERIFIES TOO THAT MEAN OF THE DATA IS CENTRED AROUND 0."
   ]
  },
  {
   "cell_type": "code",
   "execution_count": null,
   "id": "6af5f9b4-0823-4b9c-9e1b-3794926600e5",
   "metadata": {},
   "outputs": [],
   "source": []
  },
  {
   "cell_type": "markdown",
   "id": "5924afc2-1322-43ba-8da3-d94eb1cba576",
   "metadata": {},
   "source": [
    "# **Task 3: Feature Creation**\n"
   ]
  },
  {
   "cell_type": "code",
   "execution_count": 273,
   "id": "46a5a15f-8c11-4210-a0db-c0b40baeb5eb",
   "metadata": {},
   "outputs": [
    {
     "data": {
      "text/html": [
       "<div>\n",
       "<style scoped>\n",
       "    .dataframe tbody tr th:only-of-type {\n",
       "        vertical-align: middle;\n",
       "    }\n",
       "\n",
       "    .dataframe tbody tr th {\n",
       "        vertical-align: top;\n",
       "    }\n",
       "\n",
       "    .dataframe thead th {\n",
       "        text-align: right;\n",
       "    }\n",
       "</style>\n",
       "<table border=\"1\" class=\"dataframe\">\n",
       "  <thead>\n",
       "    <tr style=\"text-align: right;\">\n",
       "      <th></th>\n",
       "      <th>survived</th>\n",
       "      <th>pclass</th>\n",
       "      <th>sex</th>\n",
       "      <th>age</th>\n",
       "      <th>sibsp</th>\n",
       "      <th>parch</th>\n",
       "      <th>fare</th>\n",
       "      <th>embarked</th>\n",
       "      <th>class</th>\n",
       "      <th>who</th>\n",
       "      <th>adult_male</th>\n",
       "      <th>deck</th>\n",
       "      <th>embark_town</th>\n",
       "      <th>alive</th>\n",
       "      <th>alone</th>\n",
       "    </tr>\n",
       "  </thead>\n",
       "  <tbody>\n",
       "    <tr>\n",
       "      <th>416</th>\n",
       "      <td>1</td>\n",
       "      <td>2</td>\n",
       "      <td>female</td>\n",
       "      <td>34.0</td>\n",
       "      <td>1</td>\n",
       "      <td>1</td>\n",
       "      <td>32.5000</td>\n",
       "      <td>S</td>\n",
       "      <td>Second</td>\n",
       "      <td>woman</td>\n",
       "      <td>False</td>\n",
       "      <td>C</td>\n",
       "      <td>Southampton</td>\n",
       "      <td>yes</td>\n",
       "      <td>False</td>\n",
       "    </tr>\n",
       "    <tr>\n",
       "      <th>455</th>\n",
       "      <td>1</td>\n",
       "      <td>3</td>\n",
       "      <td>male</td>\n",
       "      <td>29.0</td>\n",
       "      <td>0</td>\n",
       "      <td>0</td>\n",
       "      <td>7.8958</td>\n",
       "      <td>C</td>\n",
       "      <td>Third</td>\n",
       "      <td>man</td>\n",
       "      <td>True</td>\n",
       "      <td>C</td>\n",
       "      <td>Cherbourg</td>\n",
       "      <td>yes</td>\n",
       "      <td>True</td>\n",
       "    </tr>\n",
       "    <tr>\n",
       "      <th>307</th>\n",
       "      <td>1</td>\n",
       "      <td>1</td>\n",
       "      <td>female</td>\n",
       "      <td>17.0</td>\n",
       "      <td>1</td>\n",
       "      <td>0</td>\n",
       "      <td>108.9000</td>\n",
       "      <td>C</td>\n",
       "      <td>First</td>\n",
       "      <td>woman</td>\n",
       "      <td>False</td>\n",
       "      <td>C</td>\n",
       "      <td>Cherbourg</td>\n",
       "      <td>yes</td>\n",
       "      <td>False</td>\n",
       "    </tr>\n",
       "  </tbody>\n",
       "</table>\n",
       "</div>"
      ],
      "text/plain": [
       "     survived  pclass     sex   age  sibsp  parch      fare embarked   class  \\\n",
       "416         1       2  female  34.0      1      1   32.5000        S  Second   \n",
       "455         1       3    male  29.0      0      0    7.8958        C   Third   \n",
       "307         1       1  female  17.0      1      0  108.9000        C   First   \n",
       "\n",
       "       who  adult_male deck  embark_town alive  alone  \n",
       "416  woman       False    C  Southampton   yes  False  \n",
       "455    man        True    C    Cherbourg   yes   True  \n",
       "307  woman       False    C    Cherbourg   yes  False  "
      ]
     },
     "execution_count": 273,
     "metadata": {},
     "output_type": "execute_result"
    }
   ],
   "source": [
    "df.sample(3)"
   ]
  },
  {
   "cell_type": "code",
   "execution_count": 275,
   "id": "0148713f-6134-4b99-8843-80d94d1b3f4d",
   "metadata": {},
   "outputs": [],
   "source": [
    "x = df[['age','pclass','sibsp','parch']]\n",
    "y = df['survived']"
   ]
  },
  {
   "cell_type": "markdown",
   "id": "2f883657-1f01-4c4c-80b7-8e99676b8efb",
   "metadata": {},
   "source": [
    "### Constructing a new col named Family size from sibsp(sibling spouse) and parch(parent child)\n"
   ]
  },
  {
   "cell_type": "code",
   "execution_count": 281,
   "id": "72cff2fb-f2ad-48b1-8aa6-2777b7bed896",
   "metadata": {},
   "outputs": [
    {
     "name": "stderr",
     "output_type": "stream",
     "text": [
      "C:\\Users\\Malaika ahmad\\AppData\\Local\\Temp\\ipykernel_7628\\1471904793.py:1: SettingWithCopyWarning: \n",
      "A value is trying to be set on a copy of a slice from a DataFrame.\n",
      "Try using .loc[row_indexer,col_indexer] = value instead\n",
      "\n",
      "See the caveats in the documentation: https://pandas.pydata.org/pandas-docs/stable/user_guide/indexing.html#returning-a-view-versus-a-copy\n",
      "  x['Family_size'] = x['sibsp'] + x['parch'] + 1\n"
     ]
    }
   ],
   "source": [
    "\n",
    "x['Family_size'] = x['sibsp'] + x['parch'] + 1\n",
    "# +1 shows that i'm counting that passenger into family count"
   ]
  },
  {
   "cell_type": "code",
   "execution_count": 282,
   "id": "e9875394-477f-409f-b44a-2b47e92e745a",
   "metadata": {},
   "outputs": [
    {
     "data": {
      "text/html": [
       "<div>\n",
       "<style scoped>\n",
       "    .dataframe tbody tr th:only-of-type {\n",
       "        vertical-align: middle;\n",
       "    }\n",
       "\n",
       "    .dataframe tbody tr th {\n",
       "        vertical-align: top;\n",
       "    }\n",
       "\n",
       "    .dataframe thead th {\n",
       "        text-align: right;\n",
       "    }\n",
       "</style>\n",
       "<table border=\"1\" class=\"dataframe\">\n",
       "  <thead>\n",
       "    <tr style=\"text-align: right;\">\n",
       "      <th></th>\n",
       "      <th>age</th>\n",
       "      <th>pclass</th>\n",
       "      <th>sibsp</th>\n",
       "      <th>parch</th>\n",
       "      <th>Family_size</th>\n",
       "    </tr>\n",
       "  </thead>\n",
       "  <tbody>\n",
       "    <tr>\n",
       "      <th>0</th>\n",
       "      <td>22.0</td>\n",
       "      <td>3</td>\n",
       "      <td>1</td>\n",
       "      <td>0</td>\n",
       "      <td>2</td>\n",
       "    </tr>\n",
       "    <tr>\n",
       "      <th>1</th>\n",
       "      <td>38.0</td>\n",
       "      <td>1</td>\n",
       "      <td>1</td>\n",
       "      <td>0</td>\n",
       "      <td>2</td>\n",
       "    </tr>\n",
       "    <tr>\n",
       "      <th>2</th>\n",
       "      <td>26.0</td>\n",
       "      <td>3</td>\n",
       "      <td>0</td>\n",
       "      <td>0</td>\n",
       "      <td>1</td>\n",
       "    </tr>\n",
       "    <tr>\n",
       "      <th>3</th>\n",
       "      <td>35.0</td>\n",
       "      <td>1</td>\n",
       "      <td>1</td>\n",
       "      <td>0</td>\n",
       "      <td>2</td>\n",
       "    </tr>\n",
       "    <tr>\n",
       "      <th>4</th>\n",
       "      <td>35.0</td>\n",
       "      <td>3</td>\n",
       "      <td>0</td>\n",
       "      <td>0</td>\n",
       "      <td>1</td>\n",
       "    </tr>\n",
       "  </tbody>\n",
       "</table>\n",
       "</div>"
      ],
      "text/plain": [
       "    age  pclass  sibsp  parch  Family_size\n",
       "0  22.0       3      1      0            2\n",
       "1  38.0       1      1      0            2\n",
       "2  26.0       3      0      0            1\n",
       "3  35.0       1      1      0            2\n",
       "4  35.0       3      0      0            1"
      ]
     },
     "execution_count": 282,
     "metadata": {},
     "output_type": "execute_result"
    }
   ],
   "source": [
    "x.head()"
   ]
  },
  {
   "cell_type": "code",
   "execution_count": null,
   "id": "697687e7-406d-4f3d-af2a-aff5eab7addf",
   "metadata": {},
   "outputs": [],
   "source": [
    "## CALCULATING THE ACCURACY BEFORE AND AFTER CRREATING A NEW COLUMN"
   ]
  },
  {
   "cell_type": "code",
   "execution_count": 279,
   "id": "4e294495-39b9-4921-901d-0fae3b149adc",
   "metadata": {},
   "outputs": [
    {
     "data": {
      "text/plain": [
       "0.6914728682170542"
      ]
     },
     "execution_count": 279,
     "metadata": {},
     "output_type": "execute_result"
    }
   ],
   "source": [
    "np.mean(cross_val_score(LogisticRegression(),x,y,scoring='accuracy',cv=20))\n"
   ]
  },
  {
   "cell_type": "code",
   "execution_count": 283,
   "id": "8f6cd33b-3118-4ddf-ae57-8b1076c6e36a",
   "metadata": {},
   "outputs": [
    {
     "data": {
      "text/plain": [
       "0.6914728682170542"
      ]
     },
     "execution_count": 283,
     "metadata": {},
     "output_type": "execute_result"
    }
   ],
   "source": [
    "np.mean(cross_val_score(LogisticRegression(),x,y,scoring='accuracy',cv=20))\n"
   ]
  },
  {
   "cell_type": "code",
   "execution_count": null,
   "id": "9b2e0d5b-9060-415c-8901-5ef12e21e83e",
   "metadata": {},
   "outputs": [],
   "source": []
  },
  {
   "cell_type": "markdown",
   "id": "9ba30108-360b-4522-acdc-88241c9f95d9",
   "metadata": {},
   "source": [
    "# **Task 4: Polynomial Features**\n",
    "Extracting polynomial features is a feature engineering technique that involves creating new features by raising existing features to various powers. This process allows machine learning models to capture non-linear relationships between variables."
   ]
  },
  {
   "cell_type": "code",
   "execution_count": 332,
   "id": "9bfeb09f-5adf-4eb7-936f-d84c5b567473",
   "metadata": {},
   "outputs": [],
   "source": [
    "poly = PolynomialFeatures(degree=2)  "
   ]
  },
  {
   "cell_type": "code",
   "execution_count": 341,
   "id": "00bf18fa-787f-43e9-9fcc-56e8a25b4ca8",
   "metadata": {},
   "outputs": [],
   "source": [
    "# TAKING TWO VARIALBS FARE AND AGE TO SHOW THE NON-LINEAR BEHAVIOUR"
   ]
  },
  {
   "cell_type": "code",
   "execution_count": 343,
   "id": "e99236cc-b6b6-455c-90f4-936e2db6dd6d",
   "metadata": {},
   "outputs": [
    {
     "data": {
      "text/plain": [
       "Text(0, 0.5, 'Fare')"
      ]
     },
     "execution_count": 343,
     "metadata": {},
     "output_type": "execute_result"
    },
    {
     "data": {
      "image/png": "[encoded data removed]",
      "text/plain": [
       "<Figure size 640x480 with 1 Axes>"
      ]
     },
     "metadata": {},
     "output_type": "display_data"
    }
   ],
   "source": [
    "plt.subplot(2,2,1)\n",
    "\n",
    "x1=df['age']\n",
    "x2=x1[5:10]\n",
    "\n",
    "y1=df['fare']\n",
    "y2=y1[5:10]\n",
    "\n",
    "plt.scatter(x2,y2)\n",
    "plt.xlabel(\"Age\")\n",
    "plt.ylabel(\"Fare\")\n"
   ]
  },
  {
   "cell_type": "code",
   "execution_count": 334,
   "id": "9040fb14-2aeb-4264-a2d2-46d19fe5ff6c",
   "metadata": {},
   "outputs": [],
   "source": [
    "x = df[['age', 'fare']]\n"
   ]
  },
  {
   "cell_type": "code",
   "execution_count": 335,
   "id": "4a58a2f7-2112-46be-a039-c4eb8bf84d61",
   "metadata": {},
   "outputs": [],
   "source": [
    "x_poly = poly.fit_transform(x)\n"
   ]
  },
  {
   "cell_type": "code",
   "execution_count": 336,
   "id": "56a8734c-6243-4f87-bffb-529c1e5606e2",
   "metadata": {},
   "outputs": [
    {
     "data": {
      "text/plain": [
       "array([[1.00000000e+00, 2.20000000e+01, 7.25000000e+00, 4.84000000e+02,\n",
       "        1.59500000e+02, 5.25625000e+01],\n",
       "       [1.00000000e+00, 3.80000000e+01, 7.12833000e+01, 1.44400000e+03,\n",
       "        2.70876540e+03, 5.08130886e+03],\n",
       "       [1.00000000e+00, 2.60000000e+01, 7.92500000e+00, 6.76000000e+02,\n",
       "        2.06050000e+02, 6.28056250e+01],\n",
       "       ...,\n",
       "       [1.00000000e+00, 2.80000000e+01, 2.34500000e+01, 7.84000000e+02,\n",
       "        6.56600000e+02, 5.49902500e+02],\n",
       "       [1.00000000e+00, 2.60000000e+01, 3.00000000e+01, 6.76000000e+02,\n",
       "        7.80000000e+02, 9.00000000e+02],\n",
       "       [1.00000000e+00, 3.20000000e+01, 7.75000000e+00, 1.02400000e+03,\n",
       "        2.48000000e+02, 6.00625000e+01]])"
      ]
     },
     "execution_count": 336,
     "metadata": {},
     "output_type": "execute_result"
    }
   ],
   "source": [
    "x_poly"
   ]
  },
  {
   "cell_type": "code",
   "execution_count": 337,
   "id": "b9d96258-2a47-4b98-9ea5-315ee49a46a0",
   "metadata": {},
   "outputs": [],
   "source": [
    "# Convert to DataFrame for visualization\n",
    "\n",
    "poly_features_df = pd.DataFrame(x_poly, columns=poly.get_feature_names_out())\n"
   ]
  },
  {
   "cell_type": "code",
   "execution_count": 338,
   "id": "999e021f-18f8-4e95-bc81-446670928ec9",
   "metadata": {},
   "outputs": [],
   "source": [
    "dfp=poly_features_df"
   ]
  },
  {
   "cell_type": "code",
   "execution_count": 339,
   "id": "7abe2b9e-db9f-4840-a421-ea3914b0cfdd",
   "metadata": {},
   "outputs": [
    {
     "data": {
      "text/html": [
       "<div>\n",
       "<style scoped>\n",
       "    .dataframe tbody tr th:only-of-type {\n",
       "        vertical-align: middle;\n",
       "    }\n",
       "\n",
       "    .dataframe tbody tr th {\n",
       "        vertical-align: top;\n",
       "    }\n",
       "\n",
       "    .dataframe thead th {\n",
       "        text-align: right;\n",
       "    }\n",
       "</style>\n",
       "<table border=\"1\" class=\"dataframe\">\n",
       "  <thead>\n",
       "    <tr style=\"text-align: right;\">\n",
       "      <th></th>\n",
       "      <th>1</th>\n",
       "      <th>age</th>\n",
       "      <th>fare</th>\n",
       "      <th>age^2</th>\n",
       "      <th>age fare</th>\n",
       "      <th>fare^2</th>\n",
       "    </tr>\n",
       "  </thead>\n",
       "  <tbody>\n",
       "    <tr>\n",
       "      <th>0</th>\n",
       "      <td>1.0</td>\n",
       "      <td>22.0</td>\n",
       "      <td>7.2500</td>\n",
       "      <td>484.0</td>\n",
       "      <td>159.5000</td>\n",
       "      <td>52.562500</td>\n",
       "    </tr>\n",
       "    <tr>\n",
       "      <th>1</th>\n",
       "      <td>1.0</td>\n",
       "      <td>38.0</td>\n",
       "      <td>71.2833</td>\n",
       "      <td>1444.0</td>\n",
       "      <td>2708.7654</td>\n",
       "      <td>5081.308859</td>\n",
       "    </tr>\n",
       "    <tr>\n",
       "      <th>2</th>\n",
       "      <td>1.0</td>\n",
       "      <td>26.0</td>\n",
       "      <td>7.9250</td>\n",
       "      <td>676.0</td>\n",
       "      <td>206.0500</td>\n",
       "      <td>62.805625</td>\n",
       "    </tr>\n",
       "    <tr>\n",
       "      <th>3</th>\n",
       "      <td>1.0</td>\n",
       "      <td>35.0</td>\n",
       "      <td>53.1000</td>\n",
       "      <td>1225.0</td>\n",
       "      <td>1858.5000</td>\n",
       "      <td>2819.610000</td>\n",
       "    </tr>\n",
       "    <tr>\n",
       "      <th>4</th>\n",
       "      <td>1.0</td>\n",
       "      <td>35.0</td>\n",
       "      <td>8.0500</td>\n",
       "      <td>1225.0</td>\n",
       "      <td>281.7500</td>\n",
       "      <td>64.802500</td>\n",
       "    </tr>\n",
       "    <tr>\n",
       "      <th>...</th>\n",
       "      <td>...</td>\n",
       "      <td>...</td>\n",
       "      <td>...</td>\n",
       "      <td>...</td>\n",
       "      <td>...</td>\n",
       "      <td>...</td>\n",
       "    </tr>\n",
       "    <tr>\n",
       "      <th>843</th>\n",
       "      <td>1.0</td>\n",
       "      <td>27.0</td>\n",
       "      <td>13.0000</td>\n",
       "      <td>729.0</td>\n",
       "      <td>351.0000</td>\n",
       "      <td>169.000000</td>\n",
       "    </tr>\n",
       "    <tr>\n",
       "      <th>844</th>\n",
       "      <td>1.0</td>\n",
       "      <td>19.0</td>\n",
       "      <td>30.0000</td>\n",
       "      <td>361.0</td>\n",
       "      <td>570.0000</td>\n",
       "      <td>900.000000</td>\n",
       "    </tr>\n",
       "    <tr>\n",
       "      <th>845</th>\n",
       "      <td>1.0</td>\n",
       "      <td>28.0</td>\n",
       "      <td>23.4500</td>\n",
       "      <td>784.0</td>\n",
       "      <td>656.6000</td>\n",
       "      <td>549.902500</td>\n",
       "    </tr>\n",
       "    <tr>\n",
       "      <th>846</th>\n",
       "      <td>1.0</td>\n",
       "      <td>26.0</td>\n",
       "      <td>30.0000</td>\n",
       "      <td>676.0</td>\n",
       "      <td>780.0000</td>\n",
       "      <td>900.000000</td>\n",
       "    </tr>\n",
       "    <tr>\n",
       "      <th>847</th>\n",
       "      <td>1.0</td>\n",
       "      <td>32.0</td>\n",
       "      <td>7.7500</td>\n",
       "      <td>1024.0</td>\n",
       "      <td>248.0000</td>\n",
       "      <td>60.062500</td>\n",
       "    </tr>\n",
       "  </tbody>\n",
       "</table>\n",
       "<p>848 rows × 6 columns</p>\n",
       "</div>"
      ],
      "text/plain": [
       "       1   age     fare   age^2   age fare       fare^2\n",
       "0    1.0  22.0   7.2500   484.0   159.5000    52.562500\n",
       "1    1.0  38.0  71.2833  1444.0  2708.7654  5081.308859\n",
       "2    1.0  26.0   7.9250   676.0   206.0500    62.805625\n",
       "3    1.0  35.0  53.1000  1225.0  1858.5000  2819.610000\n",
       "4    1.0  35.0   8.0500  1225.0   281.7500    64.802500\n",
       "..   ...   ...      ...     ...        ...          ...\n",
       "843  1.0  27.0  13.0000   729.0   351.0000   169.000000\n",
       "844  1.0  19.0  30.0000   361.0   570.0000   900.000000\n",
       "845  1.0  28.0  23.4500   784.0   656.6000   549.902500\n",
       "846  1.0  26.0  30.0000   676.0   780.0000   900.000000\n",
       "847  1.0  32.0   7.7500  1024.0   248.0000    60.062500\n",
       "\n",
       "[848 rows x 6 columns]"
      ]
     },
     "execution_count": 339,
     "metadata": {},
     "output_type": "execute_result"
    }
   ],
   "source": [
    "dfp"
   ]
  },
  {
   "cell_type": "code",
   "execution_count": 344,
   "id": "e22eae72-e312-419f-81aa-27cb998bba36",
   "metadata": {},
   "outputs": [
    {
     "data": {
      "text/plain": [
       "Text(0, 0.5, 'Fare')"
      ]
     },
     "execution_count": 344,
     "metadata": {},
     "output_type": "execute_result"
    },
    {
     "data": {
      "image/png": "[encoded data removed]",
      "text/plain": [
       "<Figure size 640x480 with 1 Axes>"
      ]
     },
     "metadata": {},
     "output_type": "display_data"
    }
   ],
   "source": [
    "plt.subplot(2,2,1)\n",
    "\n",
    "x1=dfp['age^2']\n",
    "x2=x1[5:10]\n",
    "\n",
    "y1=dfp['fare^2']\n",
    "y2=y1[5:10]\n",
    "\n",
    "plt.scatter(x2,y2)\n",
    "plt.xlabel(\"Age\")\n",
    "plt.ylabel(\"Fare\")\n"
   ]
  },
  {
   "cell_type": "code",
   "execution_count": null,
   "id": "42c432a4-da3e-4bfa-8ad2-2eefe53c627d",
   "metadata": {},
   "outputs": [],
   "source": [
    "# AFTER APPLYING POLYNOMIAL FEATURES,GRAPH SHOWS THE NON-LINEAR BEHAVIOR WITH MORE CLARITY"
   ]
  },
  {
   "cell_type": "code",
   "execution_count": null,
   "id": "9e7724b8-a6ac-4c83-b9da-76427767964e",
   "metadata": {},
   "outputs": [],
   "source": []
  },
  {
   "cell_type": "markdown",
   "id": "427c4df8-616d-4cab-8453-368cd2572f7b",
   "metadata": {},
   "source": [
    "# **Task 5: Handling Categorical Features**\n"
   ]
  },
  {
   "cell_type": "code",
   "execution_count": 346,
   "id": "361634fb-f6a7-404b-a0c3-3680a36884e0",
   "metadata": {},
   "outputs": [
    {
     "data": {
      "text/html": [
       "<div>\n",
       "<style scoped>\n",
       "    .dataframe tbody tr th:only-of-type {\n",
       "        vertical-align: middle;\n",
       "    }\n",
       "\n",
       "    .dataframe tbody tr th {\n",
       "        vertical-align: top;\n",
       "    }\n",
       "\n",
       "    .dataframe thead th {\n",
       "        text-align: right;\n",
       "    }\n",
       "</style>\n",
       "<table border=\"1\" class=\"dataframe\">\n",
       "  <thead>\n",
       "    <tr style=\"text-align: right;\">\n",
       "      <th></th>\n",
       "      <th>survived</th>\n",
       "      <th>pclass</th>\n",
       "      <th>sex</th>\n",
       "      <th>age</th>\n",
       "      <th>sibsp</th>\n",
       "      <th>parch</th>\n",
       "      <th>fare</th>\n",
       "      <th>embarked</th>\n",
       "      <th>class</th>\n",
       "      <th>who</th>\n",
       "      <th>adult_male</th>\n",
       "      <th>deck</th>\n",
       "      <th>embark_town</th>\n",
       "      <th>alive</th>\n",
       "      <th>alone</th>\n",
       "    </tr>\n",
       "  </thead>\n",
       "  <tbody>\n",
       "    <tr>\n",
       "      <th>780</th>\n",
       "      <td>1</td>\n",
       "      <td>3</td>\n",
       "      <td>female</td>\n",
       "      <td>13.0</td>\n",
       "      <td>0</td>\n",
       "      <td>0</td>\n",
       "      <td>7.2292</td>\n",
       "      <td>C</td>\n",
       "      <td>Third</td>\n",
       "      <td>child</td>\n",
       "      <td>False</td>\n",
       "      <td>B</td>\n",
       "      <td>Cherbourg</td>\n",
       "      <td>yes</td>\n",
       "      <td>True</td>\n",
       "    </tr>\n",
       "    <tr>\n",
       "      <th>654</th>\n",
       "      <td>0</td>\n",
       "      <td>3</td>\n",
       "      <td>female</td>\n",
       "      <td>18.0</td>\n",
       "      <td>0</td>\n",
       "      <td>0</td>\n",
       "      <td>6.7500</td>\n",
       "      <td>Q</td>\n",
       "      <td>Third</td>\n",
       "      <td>woman</td>\n",
       "      <td>False</td>\n",
       "      <td>A</td>\n",
       "      <td>Queenstown</td>\n",
       "      <td>no</td>\n",
       "      <td>True</td>\n",
       "    </tr>\n",
       "    <tr>\n",
       "      <th>528</th>\n",
       "      <td>0</td>\n",
       "      <td>3</td>\n",
       "      <td>male</td>\n",
       "      <td>39.0</td>\n",
       "      <td>0</td>\n",
       "      <td>0</td>\n",
       "      <td>7.9250</td>\n",
       "      <td>S</td>\n",
       "      <td>Third</td>\n",
       "      <td>man</td>\n",
       "      <td>True</td>\n",
       "      <td>C</td>\n",
       "      <td>Southampton</td>\n",
       "      <td>no</td>\n",
       "      <td>True</td>\n",
       "    </tr>\n",
       "  </tbody>\n",
       "</table>\n",
       "</div>"
      ],
      "text/plain": [
       "     survived  pclass     sex   age  sibsp  parch    fare embarked  class  \\\n",
       "780         1       3  female  13.0      0      0  7.2292        C  Third   \n",
       "654         0       3  female  18.0      0      0  6.7500        Q  Third   \n",
       "528         0       3    male  39.0      0      0  7.9250        S  Third   \n",
       "\n",
       "       who  adult_male deck  embark_town alive  alone  \n",
       "780  child       False    B    Cherbourg   yes   True  \n",
       "654  woman       False    A   Queenstown    no   True  \n",
       "528    man        True    C  Southampton    no   True  "
      ]
     },
     "execution_count": 346,
     "metadata": {},
     "output_type": "execute_result"
    }
   ],
   "source": [
    "df.sample(3)"
   ]
  },
  {
   "cell_type": "markdown",
   "id": "293b158c-a0ec-4a6e-bb1d-d95c7df3776b",
   "metadata": {},
   "source": [
    "## APPLYING OrdinalEncoding to ordinal features"
   ]
  },
  {
   "cell_type": "code",
   "execution_count": 350,
   "id": "8c77031c-8f22-41e7-9af9-b314c67a8452",
   "metadata": {},
   "outputs": [],
   "source": [
    "# SELECTING ORDINAL FEATURES 'CLASS' AND 'WHO'\n",
    "x=df[['class','who']]"
   ]
  },
  {
   "cell_type": "code",
   "execution_count": 351,
   "id": "ede30bd6-1253-4feb-8020-ceffd3e5e1fb",
   "metadata": {},
   "outputs": [],
   "source": [
    "# SELECTING TARGET VARIABLE 'ALIVE'"
   ]
  },
  {
   "cell_type": "code",
   "execution_count": 352,
   "id": "a3101486-ac82-4951-a450-38675577f090",
   "metadata": {},
   "outputs": [],
   "source": [
    "y=df['alive']"
   ]
  },
  {
   "cell_type": "markdown",
   "id": "62266fa1-41c2-4064-a8c0-5402382d370e",
   "metadata": {},
   "source": [
    "## Splitting the data into train and  test "
   ]
  },
  {
   "cell_type": "code",
   "execution_count": 388,
   "id": "89f5dd81-71f4-4279-8862-f7ee50168765",
   "metadata": {},
   "outputs": [],
   "source": [
    "x_train,x_test,y_train,y_test=train_test_split(x,y,test_size=0.2)"
   ]
  },
  {
   "cell_type": "code",
   "execution_count": null,
   "id": "4971eef7-37f1-479c-b11e-f0d66a393b0f",
   "metadata": {},
   "outputs": [],
   "source": []
  },
  {
   "cell_type": "code",
   "execution_count": 389,
   "id": "379661aa-b17d-4a8e-9f31-7a161bdc49c3",
   "metadata": {},
   "outputs": [
    {
     "data": {
      "text/plain": [
       "class\n",
       "Third     455\n",
       "First     212\n",
       "Second    181\n",
       "Name: count, dtype: int64"
      ]
     },
     "execution_count": 389,
     "metadata": {},
     "output_type": "execute_result"
    }
   ],
   "source": [
    "df['class'].value_counts()"
   ]
  },
  {
   "cell_type": "code",
   "execution_count": 390,
   "id": "703172dc-a6ea-4b43-9227-bf30949c5858",
   "metadata": {},
   "outputs": [
    {
     "data": {
      "text/plain": [
       "who\n",
       "man      500\n",
       "woman    265\n",
       "child     83\n",
       "Name: count, dtype: int64"
      ]
     },
     "execution_count": 390,
     "metadata": {},
     "output_type": "execute_result"
    }
   ],
   "source": [
    "df['who'].value_counts()"
   ]
  },
  {
   "cell_type": "code",
   "execution_count": 391,
   "id": "da7837ee-c2f7-4c1d-97bd-98d78c386c07",
   "metadata": {},
   "outputs": [],
   "source": [
    "oe = OrdinalEncoder(categories=[['First','Second','Third'],['man','woman','child']])\n"
   ]
  },
  {
   "cell_type": "code",
   "execution_count": 392,
   "id": "d65f80c8-e96a-4e20-8cf8-1b05bba926cf",
   "metadata": {},
   "outputs": [],
   "source": [
    "# FITTING THE TRAINING AND TEST DATA x_train=oe.transform(x_train)"
   ]
  },
  {
   "cell_type": "code",
   "execution_count": 394,
   "id": "a68ef1b3-b947-4548-a154-505154f764ef",
   "metadata": {},
   "outputs": [
    {
     "data": {
      "text/html": [
       "<style>#sk-container-id-7 {color: black;background-color: white;}#sk-container-id-7 pre{padding: 0;}#sk-container-id-7 div.sk-toggleable {background-color: white;}#sk-container-id-7 label.sk-toggleable__label {cursor: pointer;display: block;width: 100%;margin-bottom: 0;padding: 0.3em;box-sizing: border-box;text-align: center;}#sk-container-id-7 label.sk-toggleable__label-arrow:before {content: \"▸\";float: left;margin-right: 0.25em;color: #696969;}#sk-container-id-7 label.sk-toggleable__label-arrow:hover:before {color: black;}#sk-container-id-7 div.sk-estimator:hover label.sk-toggleable__label-arrow:before {color: black;}#sk-container-id-7 div.sk-toggleable__content {max-height: 0;max-width: 0;overflow: hidden;text-align: left;background-color: #f0f8ff;}#sk-container-id-7 div.sk-toggleable__content pre {margin: 0.2em;color: black;border-radius: 0.25em;background-color: #f0f8ff;}#sk-container-id-7 input.sk-toggleable__control:checked~div.sk-toggleable__content {max-height: 200px;max-width: 100%;overflow: auto;}#sk-container-id-7 input.sk-toggleable__control:checked~label.sk-toggleable__label-arrow:before {content: \"▾\";}#sk-container-id-7 div.sk-estimator input.sk-toggleable__control:checked~label.sk-toggleable__label {background-color: #d4ebff;}#sk-container-id-7 div.sk-label input.sk-toggleable__control:checked~label.sk-toggleable__label {background-color: #d4ebff;}#sk-container-id-7 input.sk-hidden--visually {border: 0;clip: rect(1px 1px 1px 1px);clip: rect(1px, 1px, 1px, 1px);height: 1px;margin: -1px;overflow: hidden;padding: 0;position: absolute;width: 1px;}#sk-container-id-7 div.sk-estimator {font-family: monospace;background-color: #f0f8ff;border: 1px dotted black;border-radius: 0.25em;box-sizing: border-box;margin-bottom: 0.5em;}#sk-container-id-7 div.sk-estimator:hover {background-color: #d4ebff;}#sk-container-id-7 div.sk-parallel-item::after {content: \"\";width: 100%;border-bottom: 1px solid gray;flex-grow: 1;}#sk-container-id-7 div.sk-label:hover label.sk-toggleable__label {background-color: #d4ebff;}#sk-container-id-7 div.sk-serial::before {content: \"\";position: absolute;border-left: 1px solid gray;box-sizing: border-box;top: 0;bottom: 0;left: 50%;z-index: 0;}#sk-container-id-7 div.sk-serial {display: flex;flex-direction: column;align-items: center;background-color: white;padding-right: 0.2em;padding-left: 0.2em;position: relative;}#sk-container-id-7 div.sk-item {position: relative;z-index: 1;}#sk-container-id-7 div.sk-parallel {display: flex;align-items: stretch;justify-content: center;background-color: white;position: relative;}#sk-container-id-7 div.sk-item::before, #sk-container-id-7 div.sk-parallel-item::before {content: \"\";position: absolute;border-left: 1px solid gray;box-sizing: border-box;top: 0;bottom: 0;left: 50%;z-index: -1;}#sk-container-id-7 div.sk-parallel-item {display: flex;flex-direction: column;z-index: 1;position: relative;background-color: white;}#sk-container-id-7 div.sk-parallel-item:first-child::after {align-self: flex-end;width: 50%;}#sk-container-id-7 div.sk-parallel-item:last-child::after {align-self: flex-start;width: 50%;}#sk-container-id-7 div.sk-parallel-item:only-child::after {width: 0;}#sk-container-id-7 div.sk-dashed-wrapped {border: 1px dashed gray;margin: 0 0.4em 0.5em 0.4em;box-sizing: border-box;padding-bottom: 0.4em;background-color: white;}#sk-container-id-7 div.sk-label label {font-family: monospace;font-weight: bold;display: inline-block;line-height: 1.2em;}#sk-container-id-7 div.sk-label-container {text-align: center;}#sk-container-id-7 div.sk-container {/* jupyter's `normalize.less` sets `[hidden] { display: none; }` but bootstrap.min.css set `[hidden] { display: none !important; }` so we also need the `!important` here to be able to override the default hidden behavior on the sphinx rendered scikit-learn.org. See: https://github.com/scikit-learn/scikit-learn/issues/21755 */display: inline-block !important;position: relative;}#sk-container-id-7 div.sk-text-repr-fallback {display: none;}</style><div id=\"sk-container-id-7\" class=\"sk-top-container\"><div class=\"sk-text-repr-fallback\"><pre>OrdinalEncoder(categories=[[&#x27;First&#x27;, &#x27;Second&#x27;, &#x27;Third&#x27;],\n",
       "                           [&#x27;man&#x27;, &#x27;woman&#x27;, &#x27;child&#x27;]])</pre><b>In a Jupyter environment, please rerun this cell to show the HTML representation or trust the notebook. <br />On GitHub, the HTML representation is unable to render, please try loading this page with nbviewer.org.</b></div><div class=\"sk-container\" hidden><div class=\"sk-item\"><div class=\"sk-estimator sk-toggleable\"><input class=\"sk-toggleable__control sk-hidden--visually\" id=\"sk-estimator-id-7\" type=\"checkbox\" checked><label for=\"sk-estimator-id-7\" class=\"sk-toggleable__label sk-toggleable__label-arrow\">OrdinalEncoder</label><div class=\"sk-toggleable__content\"><pre>OrdinalEncoder(categories=[[&#x27;First&#x27;, &#x27;Second&#x27;, &#x27;Third&#x27;],\n",
       "                           [&#x27;man&#x27;, &#x27;woman&#x27;, &#x27;child&#x27;]])</pre></div></div></div></div></div>"
      ],
      "text/plain": [
       "OrdinalEncoder(categories=[['First', 'Second', 'Third'],\n",
       "                           ['man', 'woman', 'child']])"
      ]
     },
     "execution_count": 394,
     "metadata": {},
     "output_type": "execute_result"
    }
   ],
   "source": [
    "oe.fit(x_train)\n"
   ]
  },
  {
   "cell_type": "code",
   "execution_count": 395,
   "id": "a0e84cef-baa5-4b95-a579-5ea9f1c1d52c",
   "metadata": {},
   "outputs": [
    {
     "data": {
      "text/html": [
       "<style>#sk-container-id-8 {color: black;background-color: white;}#sk-container-id-8 pre{padding: 0;}#sk-container-id-8 div.sk-toggleable {background-color: white;}#sk-container-id-8 label.sk-toggleable__label {cursor: pointer;display: block;width: 100%;margin-bottom: 0;padding: 0.3em;box-sizing: border-box;text-align: center;}#sk-container-id-8 label.sk-toggleable__label-arrow:before {content: \"▸\";float: left;margin-right: 0.25em;color: #696969;}#sk-container-id-8 label.sk-toggleable__label-arrow:hover:before {color: black;}#sk-container-id-8 div.sk-estimator:hover label.sk-toggleable__label-arrow:before {color: black;}#sk-container-id-8 div.sk-toggleable__content {max-height: 0;max-width: 0;overflow: hidden;text-align: left;background-color: #f0f8ff;}#sk-container-id-8 div.sk-toggleable__content pre {margin: 0.2em;color: black;border-radius: 0.25em;background-color: #f0f8ff;}#sk-container-id-8 input.sk-toggleable__control:checked~div.sk-toggleable__content {max-height: 200px;max-width: 100%;overflow: auto;}#sk-container-id-8 input.sk-toggleable__control:checked~label.sk-toggleable__label-arrow:before {content: \"▾\";}#sk-container-id-8 div.sk-estimator input.sk-toggleable__control:checked~label.sk-toggleable__label {background-color: #d4ebff;}#sk-container-id-8 div.sk-label input.sk-toggleable__control:checked~label.sk-toggleable__label {background-color: #d4ebff;}#sk-container-id-8 input.sk-hidden--visually {border: 0;clip: rect(1px 1px 1px 1px);clip: rect(1px, 1px, 1px, 1px);height: 1px;margin: -1px;overflow: hidden;padding: 0;position: absolute;width: 1px;}#sk-container-id-8 div.sk-estimator {font-family: monospace;background-color: #f0f8ff;border: 1px dotted black;border-radius: 0.25em;box-sizing: border-box;margin-bottom: 0.5em;}#sk-container-id-8 div.sk-estimator:hover {background-color: #d4ebff;}#sk-container-id-8 div.sk-parallel-item::after {content: \"\";width: 100%;border-bottom: 1px solid gray;flex-grow: 1;}#sk-container-id-8 div.sk-label:hover label.sk-toggleable__label {background-color: #d4ebff;}#sk-container-id-8 div.sk-serial::before {content: \"\";position: absolute;border-left: 1px solid gray;box-sizing: border-box;top: 0;bottom: 0;left: 50%;z-index: 0;}#sk-container-id-8 div.sk-serial {display: flex;flex-direction: column;align-items: center;background-color: white;padding-right: 0.2em;padding-left: 0.2em;position: relative;}#sk-container-id-8 div.sk-item {position: relative;z-index: 1;}#sk-container-id-8 div.sk-parallel {display: flex;align-items: stretch;justify-content: center;background-color: white;position: relative;}#sk-container-id-8 div.sk-item::before, #sk-container-id-8 div.sk-parallel-item::before {content: \"\";position: absolute;border-left: 1px solid gray;box-sizing: border-box;top: 0;bottom: 0;left: 50%;z-index: -1;}#sk-container-id-8 div.sk-parallel-item {display: flex;flex-direction: column;z-index: 1;position: relative;background-color: white;}#sk-container-id-8 div.sk-parallel-item:first-child::after {align-self: flex-end;width: 50%;}#sk-container-id-8 div.sk-parallel-item:last-child::after {align-self: flex-start;width: 50%;}#sk-container-id-8 div.sk-parallel-item:only-child::after {width: 0;}#sk-container-id-8 div.sk-dashed-wrapped {border: 1px dashed gray;margin: 0 0.4em 0.5em 0.4em;box-sizing: border-box;padding-bottom: 0.4em;background-color: white;}#sk-container-id-8 div.sk-label label {font-family: monospace;font-weight: bold;display: inline-block;line-height: 1.2em;}#sk-container-id-8 div.sk-label-container {text-align: center;}#sk-container-id-8 div.sk-container {/* jupyter's `normalize.less` sets `[hidden] { display: none; }` but bootstrap.min.css set `[hidden] { display: none !important; }` so we also need the `!important` here to be able to override the default hidden behavior on the sphinx rendered scikit-learn.org. See: https://github.com/scikit-learn/scikit-learn/issues/21755 */display: inline-block !important;position: relative;}#sk-container-id-8 div.sk-text-repr-fallback {display: none;}</style><div id=\"sk-container-id-8\" class=\"sk-top-container\"><div class=\"sk-text-repr-fallback\"><pre>OrdinalEncoder(categories=[[&#x27;First&#x27;, &#x27;Second&#x27;, &#x27;Third&#x27;],\n",
       "                           [&#x27;man&#x27;, &#x27;woman&#x27;, &#x27;child&#x27;]])</pre><b>In a Jupyter environment, please rerun this cell to show the HTML representation or trust the notebook. <br />On GitHub, the HTML representation is unable to render, please try loading this page with nbviewer.org.</b></div><div class=\"sk-container\" hidden><div class=\"sk-item\"><div class=\"sk-estimator sk-toggleable\"><input class=\"sk-toggleable__control sk-hidden--visually\" id=\"sk-estimator-id-8\" type=\"checkbox\" checked><label for=\"sk-estimator-id-8\" class=\"sk-toggleable__label sk-toggleable__label-arrow\">OrdinalEncoder</label><div class=\"sk-toggleable__content\"><pre>OrdinalEncoder(categories=[[&#x27;First&#x27;, &#x27;Second&#x27;, &#x27;Third&#x27;],\n",
       "                           [&#x27;man&#x27;, &#x27;woman&#x27;, &#x27;child&#x27;]])</pre></div></div></div></div></div>"
      ],
      "text/plain": [
       "OrdinalEncoder(categories=[['First', 'Second', 'Third'],\n",
       "                           ['man', 'woman', 'child']])"
      ]
     },
     "execution_count": 395,
     "metadata": {},
     "output_type": "execute_result"
    }
   ],
   "source": [
    "oe.fit(x_test)"
   ]
  },
  {
   "cell_type": "code",
   "execution_count": 396,
   "id": "61f19fad-2aad-4c08-a666-8c32371fca8e",
   "metadata": {},
   "outputs": [],
   "source": [
    "# TRAINING THE TEST ND TRAIN DATA"
   ]
  },
  {
   "cell_type": "code",
   "execution_count": 397,
   "id": "68689501-59c5-42b0-8023-d3895c7f4cfa",
   "metadata": {},
   "outputs": [],
   "source": [
    " x_train=oe.transform(x_train)"
   ]
  },
  {
   "cell_type": "code",
   "execution_count": 398,
   "id": "3ac9c071-874b-43a4-8d5b-af7624747add",
   "metadata": {},
   "outputs": [],
   "source": [
    " x_test=oe.transform(x_test)"
   ]
  },
  {
   "cell_type": "code",
   "execution_count": 399,
   "id": "d6840d16-172b-4d58-b8b1-efe1528658ec",
   "metadata": {},
   "outputs": [
    {
     "data": {
      "text/plain": [
       "array([[2., 0.],\n",
       "       [0., 0.],\n",
       "       [0., 0.],\n",
       "       ...,\n",
       "       [0., 0.],\n",
       "       [2., 0.],\n",
       "       [2., 1.]])"
      ]
     },
     "execution_count": 399,
     "metadata": {},
     "output_type": "execute_result"
    }
   ],
   "source": [
    " x_train"
   ]
  },
  {
   "cell_type": "code",
   "execution_count": 400,
   "id": "8b918751-0ad8-434d-be3d-b96153e81eff",
   "metadata": {},
   "outputs": [
    {
     "data": {
      "text/plain": [
       "array([[2., 0.],\n",
       "       [1., 2.],\n",
       "       [0., 0.],\n",
       "       [1., 0.],\n",
       "       [0., 1.],\n",
       "       [0., 0.],\n",
       "       [2., 2.],\n",
       "       [0., 0.],\n",
       "       [1., 0.],\n",
       "       [1., 0.],\n",
       "       [0., 0.],\n",
       "       [2., 0.],\n",
       "       [1., 0.],\n",
       "       [1., 2.],\n",
       "       [2., 2.],\n",
       "       [2., 1.],\n",
       "       [0., 0.],\n",
       "       [0., 0.],\n",
       "       [0., 1.],\n",
       "       [0., 1.],\n",
       "       [2., 2.],\n",
       "       [2., 0.],\n",
       "       [2., 0.],\n",
       "       [2., 0.],\n",
       "       [1., 1.],\n",
       "       [0., 1.],\n",
       "       [2., 0.],\n",
       "       [0., 0.],\n",
       "       [1., 0.],\n",
       "       [1., 0.],\n",
       "       [0., 1.],\n",
       "       [1., 1.],\n",
       "       [2., 0.],\n",
       "       [2., 0.],\n",
       "       [2., 1.],\n",
       "       [0., 0.],\n",
       "       [0., 1.],\n",
       "       [2., 0.],\n",
       "       [2., 1.],\n",
       "       [0., 0.],\n",
       "       [2., 1.],\n",
       "       [0., 0.],\n",
       "       [0., 1.],\n",
       "       [0., 2.],\n",
       "       [2., 0.],\n",
       "       [2., 0.],\n",
       "       [2., 0.],\n",
       "       [2., 1.],\n",
       "       [0., 0.],\n",
       "       [0., 1.],\n",
       "       [2., 0.],\n",
       "       [2., 0.],\n",
       "       [2., 0.],\n",
       "       [1., 1.],\n",
       "       [2., 0.],\n",
       "       [1., 2.],\n",
       "       [2., 1.],\n",
       "       [1., 1.],\n",
       "       [2., 2.],\n",
       "       [2., 0.],\n",
       "       [0., 1.],\n",
       "       [1., 0.],\n",
       "       [1., 0.],\n",
       "       [2., 0.],\n",
       "       [0., 1.],\n",
       "       [0., 0.],\n",
       "       [2., 0.],\n",
       "       [1., 1.],\n",
       "       [2., 1.],\n",
       "       [0., 1.],\n",
       "       [1., 0.],\n",
       "       [1., 0.],\n",
       "       [1., 1.],\n",
       "       [2., 2.],\n",
       "       [2., 0.],\n",
       "       [0., 0.],\n",
       "       [2., 0.],\n",
       "       [0., 0.],\n",
       "       [2., 2.],\n",
       "       [0., 1.],\n",
       "       [1., 0.],\n",
       "       [2., 0.],\n",
       "       [0., 0.],\n",
       "       [0., 0.],\n",
       "       [2., 1.],\n",
       "       [2., 0.],\n",
       "       [2., 0.],\n",
       "       [1., 1.],\n",
       "       [2., 0.],\n",
       "       [0., 0.],\n",
       "       [2., 0.],\n",
       "       [2., 1.],\n",
       "       [2., 0.],\n",
       "       [1., 0.],\n",
       "       [2., 0.],\n",
       "       [0., 0.],\n",
       "       [1., 1.],\n",
       "       [1., 1.],\n",
       "       [0., 1.],\n",
       "       [1., 0.],\n",
       "       [2., 2.],\n",
       "       [0., 0.],\n",
       "       [0., 1.],\n",
       "       [1., 0.],\n",
       "       [2., 0.],\n",
       "       [1., 1.],\n",
       "       [0., 0.],\n",
       "       [1., 0.],\n",
       "       [2., 0.],\n",
       "       [1., 0.],\n",
       "       [1., 0.],\n",
       "       [2., 1.],\n",
       "       [2., 0.],\n",
       "       [2., 0.],\n",
       "       [2., 0.],\n",
       "       [2., 0.],\n",
       "       [0., 0.],\n",
       "       [2., 0.],\n",
       "       [2., 0.],\n",
       "       [2., 0.],\n",
       "       [2., 0.],\n",
       "       [1., 0.],\n",
       "       [1., 1.],\n",
       "       [2., 1.],\n",
       "       [2., 0.],\n",
       "       [2., 0.],\n",
       "       [1., 0.],\n",
       "       [2., 0.],\n",
       "       [1., 1.],\n",
       "       [2., 0.],\n",
       "       [2., 0.],\n",
       "       [1., 1.],\n",
       "       [1., 0.],\n",
       "       [2., 2.],\n",
       "       [1., 0.],\n",
       "       [2., 0.],\n",
       "       [2., 2.],\n",
       "       [2., 0.],\n",
       "       [1., 1.],\n",
       "       [2., 0.],\n",
       "       [2., 2.],\n",
       "       [2., 2.],\n",
       "       [2., 0.],\n",
       "       [2., 0.],\n",
       "       [2., 1.],\n",
       "       [1., 0.],\n",
       "       [2., 0.],\n",
       "       [1., 0.],\n",
       "       [2., 0.],\n",
       "       [1., 2.],\n",
       "       [0., 1.],\n",
       "       [2., 0.],\n",
       "       [2., 2.],\n",
       "       [1., 2.],\n",
       "       [2., 0.],\n",
       "       [0., 2.],\n",
       "       [1., 0.],\n",
       "       [2., 0.],\n",
       "       [0., 0.],\n",
       "       [1., 1.],\n",
       "       [2., 2.],\n",
       "       [2., 0.],\n",
       "       [2., 0.],\n",
       "       [0., 1.],\n",
       "       [2., 0.],\n",
       "       [1., 0.],\n",
       "       [1., 1.],\n",
       "       [1., 1.],\n",
       "       [2., 0.],\n",
       "       [2., 0.]])"
      ]
     },
     "execution_count": 400,
     "metadata": {},
     "output_type": "execute_result"
    }
   ],
   "source": [
    "x_test"
   ]
  },
  {
   "cell_type": "code",
   "execution_count": 401,
   "id": "4e56ea29-aa9c-4f1d-8540-339a6a8718fd",
   "metadata": {},
   "outputs": [
    {
     "data": {
      "text/plain": [
       "[array(['First', 'Second', 'Third'], dtype=object),\n",
       " array(['man', 'woman', 'child'], dtype=object)]"
      ]
     },
     "execution_count": 401,
     "metadata": {},
     "output_type": "execute_result"
    }
   ],
   "source": [
    "oe.categories_"
   ]
  },
  {
   "cell_type": "code",
   "execution_count": 420,
   "id": "1ccb7a82-5909-4a14-a8c5-8925d6bc16d1",
   "metadata": {},
   "outputs": [],
   "source": [
    "transformed_col = oe.fit_transform(df[['class', 'who']])"
   ]
  },
  {
   "cell_type": "code",
   "execution_count": 421,
   "id": "297326fa-8351-4b3d-84b8-6f4566606931",
   "metadata": {},
   "outputs": [],
   "source": [
    "transformed_df = pd.DataFrame(transformed_col, columns=['class', 'who'])"
   ]
  },
  {
   "cell_type": "code",
   "execution_count": 415,
   "id": "810743e0-bfaf-4300-a10e-f6e320e88362",
   "metadata": {},
   "outputs": [
    {
     "data": {
      "text/html": [
       "<div>\n",
       "<style scoped>\n",
       "    .dataframe tbody tr th:only-of-type {\n",
       "        vertical-align: middle;\n",
       "    }\n",
       "\n",
       "    .dataframe tbody tr th {\n",
       "        vertical-align: top;\n",
       "    }\n",
       "\n",
       "    .dataframe thead th {\n",
       "        text-align: right;\n",
       "    }\n",
       "</style>\n",
       "<table border=\"1\" class=\"dataframe\">\n",
       "  <thead>\n",
       "    <tr style=\"text-align: right;\">\n",
       "      <th></th>\n",
       "      <th>survived</th>\n",
       "      <th>pclass</th>\n",
       "      <th>sex</th>\n",
       "      <th>age</th>\n",
       "      <th>sibsp</th>\n",
       "      <th>parch</th>\n",
       "      <th>fare</th>\n",
       "      <th>embarked</th>\n",
       "      <th>class</th>\n",
       "      <th>who</th>\n",
       "      <th>adult_male</th>\n",
       "      <th>deck</th>\n",
       "      <th>embark_town</th>\n",
       "      <th>alive</th>\n",
       "      <th>alone</th>\n",
       "    </tr>\n",
       "  </thead>\n",
       "  <tbody>\n",
       "    <tr>\n",
       "      <th>0</th>\n",
       "      <td>0</td>\n",
       "      <td>3</td>\n",
       "      <td>male</td>\n",
       "      <td>22.0</td>\n",
       "      <td>1</td>\n",
       "      <td>0</td>\n",
       "      <td>7.2500</td>\n",
       "      <td>S</td>\n",
       "      <td>Third</td>\n",
       "      <td>man</td>\n",
       "      <td>True</td>\n",
       "      <td>C</td>\n",
       "      <td>Southampton</td>\n",
       "      <td>no</td>\n",
       "      <td>False</td>\n",
       "    </tr>\n",
       "    <tr>\n",
       "      <th>1</th>\n",
       "      <td>1</td>\n",
       "      <td>1</td>\n",
       "      <td>female</td>\n",
       "      <td>38.0</td>\n",
       "      <td>1</td>\n",
       "      <td>0</td>\n",
       "      <td>71.2833</td>\n",
       "      <td>C</td>\n",
       "      <td>First</td>\n",
       "      <td>woman</td>\n",
       "      <td>False</td>\n",
       "      <td>C</td>\n",
       "      <td>Cherbourg</td>\n",
       "      <td>yes</td>\n",
       "      <td>False</td>\n",
       "    </tr>\n",
       "    <tr>\n",
       "      <th>2</th>\n",
       "      <td>1</td>\n",
       "      <td>3</td>\n",
       "      <td>female</td>\n",
       "      <td>26.0</td>\n",
       "      <td>0</td>\n",
       "      <td>0</td>\n",
       "      <td>7.9250</td>\n",
       "      <td>S</td>\n",
       "      <td>Third</td>\n",
       "      <td>woman</td>\n",
       "      <td>False</td>\n",
       "      <td>C</td>\n",
       "      <td>Southampton</td>\n",
       "      <td>yes</td>\n",
       "      <td>True</td>\n",
       "    </tr>\n",
       "    <tr>\n",
       "      <th>3</th>\n",
       "      <td>1</td>\n",
       "      <td>1</td>\n",
       "      <td>female</td>\n",
       "      <td>35.0</td>\n",
       "      <td>1</td>\n",
       "      <td>0</td>\n",
       "      <td>53.1000</td>\n",
       "      <td>S</td>\n",
       "      <td>First</td>\n",
       "      <td>woman</td>\n",
       "      <td>False</td>\n",
       "      <td>C</td>\n",
       "      <td>Southampton</td>\n",
       "      <td>yes</td>\n",
       "      <td>False</td>\n",
       "    </tr>\n",
       "    <tr>\n",
       "      <th>4</th>\n",
       "      <td>0</td>\n",
       "      <td>3</td>\n",
       "      <td>male</td>\n",
       "      <td>35.0</td>\n",
       "      <td>0</td>\n",
       "      <td>0</td>\n",
       "      <td>8.0500</td>\n",
       "      <td>S</td>\n",
       "      <td>Third</td>\n",
       "      <td>man</td>\n",
       "      <td>True</td>\n",
       "      <td>C</td>\n",
       "      <td>Southampton</td>\n",
       "      <td>no</td>\n",
       "      <td>True</td>\n",
       "    </tr>\n",
       "  </tbody>\n",
       "</table>\n",
       "</div>"
      ],
      "text/plain": [
       "   survived  pclass     sex   age  sibsp  parch     fare embarked  class  \\\n",
       "0         0       3    male  22.0      1      0   7.2500        S  Third   \n",
       "1         1       1  female  38.0      1      0  71.2833        C  First   \n",
       "2         1       3  female  26.0      0      0   7.9250        S  Third   \n",
       "3         1       1  female  35.0      1      0  53.1000        S  First   \n",
       "4         0       3    male  35.0      0      0   8.0500        S  Third   \n",
       "\n",
       "     who  adult_male deck  embark_town alive  alone  \n",
       "0    man        True    C  Southampton    no  False  \n",
       "1  woman       False    C    Cherbourg   yes  False  \n",
       "2  woman       False    C  Southampton   yes   True  \n",
       "3  woman       False    C  Southampton   yes  False  \n",
       "4    man        True    C  Southampton    no   True  "
      ]
     },
     "execution_count": 415,
     "metadata": {},
     "output_type": "execute_result"
    }
   ],
   "source": [
    "df.head(5)"
   ]
  },
  {
   "cell_type": "code",
   "execution_count": 419,
   "id": "75507d8f-dd91-44b6-b1c2-ad9a53ec13fb",
   "metadata": {},
   "outputs": [
    {
     "name": "stdout",
     "output_type": "stream",
     "text": [
      "Categorical columns into numerical columns \n",
      " \n",
      " CLASS: 0=FIRST,1=SECOND,2=THIRD \n",
      " WHO: 0=MAN, 1=WOMAN, 2=CHILD \n",
      " \n",
      "      class  who\n",
      "0      2.0  0.0\n",
      "1      0.0  1.0\n",
      "2      2.0  1.0\n",
      "3      0.0  1.0\n",
      "4      2.0  0.0\n",
      "..     ...  ...\n",
      "843    1.0  0.0\n",
      "844    0.0  1.0\n",
      "845    2.0  1.0\n",
      "846    0.0  0.0\n",
      "847    2.0  0.0\n",
      "\n",
      "[848 rows x 2 columns]\n"
     ]
    }
   ],
   "source": [
    "print(\"Categorical columns into numerical columns \\n \\n CLASS: 0=FIRST,1=SECOND,2=THIRD \\n WHO: 0=MAN, 1=WOMAN, 2=CHILD \\n \\n\" ,transformed_df)"
   ]
  },
  {
   "cell_type": "code",
   "execution_count": null,
   "id": "be429024-0af6-495f-b6f6-b1d827a7b4b2",
   "metadata": {},
   "outputs": [],
   "source": [
    "## USING LabeEncoding to transform target column 'alive'"
   ]
  },
  {
   "cell_type": "code",
   "execution_count": 404,
   "id": "f8acad6e-8b51-45ee-ac8e-466552399dfe",
   "metadata": {},
   "outputs": [],
   "source": [
    "le = LabelEncoder()\n"
   ]
  },
  {
   "cell_type": "code",
   "execution_count": 405,
   "id": "7aca81e0-2129-4bc0-8ebd-e8c8c3568a37",
   "metadata": {},
   "outputs": [
    {
     "data": {
      "text/html": [
       "<style>#sk-container-id-9 {color: black;background-color: white;}#sk-container-id-9 pre{padding: 0;}#sk-container-id-9 div.sk-toggleable {background-color: white;}#sk-container-id-9 label.sk-toggleable__label {cursor: pointer;display: block;width: 100%;margin-bottom: 0;padding: 0.3em;box-sizing: border-box;text-align: center;}#sk-container-id-9 label.sk-toggleable__label-arrow:before {content: \"▸\";float: left;margin-right: 0.25em;color: #696969;}#sk-container-id-9 label.sk-toggleable__label-arrow:hover:before {color: black;}#sk-container-id-9 div.sk-estimator:hover label.sk-toggleable__label-arrow:before {color: black;}#sk-container-id-9 div.sk-toggleable__content {max-height: 0;max-width: 0;overflow: hidden;text-align: left;background-color: #f0f8ff;}#sk-container-id-9 div.sk-toggleable__content pre {margin: 0.2em;color: black;border-radius: 0.25em;background-color: #f0f8ff;}#sk-container-id-9 input.sk-toggleable__control:checked~div.sk-toggleable__content {max-height: 200px;max-width: 100%;overflow: auto;}#sk-container-id-9 input.sk-toggleable__control:checked~label.sk-toggleable__label-arrow:before {content: \"▾\";}#sk-container-id-9 div.sk-estimator input.sk-toggleable__control:checked~label.sk-toggleable__label {background-color: #d4ebff;}#sk-container-id-9 div.sk-label input.sk-toggleable__control:checked~label.sk-toggleable__label {background-color: #d4ebff;}#sk-container-id-9 input.sk-hidden--visually {border: 0;clip: rect(1px 1px 1px 1px);clip: rect(1px, 1px, 1px, 1px);height: 1px;margin: -1px;overflow: hidden;padding: 0;position: absolute;width: 1px;}#sk-container-id-9 div.sk-estimator {font-family: monospace;background-color: #f0f8ff;border: 1px dotted black;border-radius: 0.25em;box-sizing: border-box;margin-bottom: 0.5em;}#sk-container-id-9 div.sk-estimator:hover {background-color: #d4ebff;}#sk-container-id-9 div.sk-parallel-item::after {content: \"\";width: 100%;border-bottom: 1px solid gray;flex-grow: 1;}#sk-container-id-9 div.sk-label:hover label.sk-toggleable__label {background-color: #d4ebff;}#sk-container-id-9 div.sk-serial::before {content: \"\";position: absolute;border-left: 1px solid gray;box-sizing: border-box;top: 0;bottom: 0;left: 50%;z-index: 0;}#sk-container-id-9 div.sk-serial {display: flex;flex-direction: column;align-items: center;background-color: white;padding-right: 0.2em;padding-left: 0.2em;position: relative;}#sk-container-id-9 div.sk-item {position: relative;z-index: 1;}#sk-container-id-9 div.sk-parallel {display: flex;align-items: stretch;justify-content: center;background-color: white;position: relative;}#sk-container-id-9 div.sk-item::before, #sk-container-id-9 div.sk-parallel-item::before {content: \"\";position: absolute;border-left: 1px solid gray;box-sizing: border-box;top: 0;bottom: 0;left: 50%;z-index: -1;}#sk-container-id-9 div.sk-parallel-item {display: flex;flex-direction: column;z-index: 1;position: relative;background-color: white;}#sk-container-id-9 div.sk-parallel-item:first-child::after {align-self: flex-end;width: 50%;}#sk-container-id-9 div.sk-parallel-item:last-child::after {align-self: flex-start;width: 50%;}#sk-container-id-9 div.sk-parallel-item:only-child::after {width: 0;}#sk-container-id-9 div.sk-dashed-wrapped {border: 1px dashed gray;margin: 0 0.4em 0.5em 0.4em;box-sizing: border-box;padding-bottom: 0.4em;background-color: white;}#sk-container-id-9 div.sk-label label {font-family: monospace;font-weight: bold;display: inline-block;line-height: 1.2em;}#sk-container-id-9 div.sk-label-container {text-align: center;}#sk-container-id-9 div.sk-container {/* jupyter's `normalize.less` sets `[hidden] { display: none; }` but bootstrap.min.css set `[hidden] { display: none !important; }` so we also need the `!important` here to be able to override the default hidden behavior on the sphinx rendered scikit-learn.org. See: https://github.com/scikit-learn/scikit-learn/issues/21755 */display: inline-block !important;position: relative;}#sk-container-id-9 div.sk-text-repr-fallback {display: none;}</style><div id=\"sk-container-id-9\" class=\"sk-top-container\"><div class=\"sk-text-repr-fallback\"><pre>LabelEncoder()</pre><b>In a Jupyter environment, please rerun this cell to show the HTML representation or trust the notebook. <br />On GitHub, the HTML representation is unable to render, please try loading this page with nbviewer.org.</b></div><div class=\"sk-container\" hidden><div class=\"sk-item\"><div class=\"sk-estimator sk-toggleable\"><input class=\"sk-toggleable__control sk-hidden--visually\" id=\"sk-estimator-id-9\" type=\"checkbox\" checked><label for=\"sk-estimator-id-9\" class=\"sk-toggleable__label sk-toggleable__label-arrow\">LabelEncoder</label><div class=\"sk-toggleable__content\"><pre>LabelEncoder()</pre></div></div></div></div></div>"
      ],
      "text/plain": [
       "LabelEncoder()"
      ]
     },
     "execution_count": 405,
     "metadata": {},
     "output_type": "execute_result"
    }
   ],
   "source": [
    "le.fit(y_train)\n"
   ]
  },
  {
   "cell_type": "code",
   "execution_count": 406,
   "id": "9a5bd894-7062-4b66-85bf-4029fac6cd2a",
   "metadata": {},
   "outputs": [
    {
     "data": {
      "text/plain": [
       "array(['no', 'yes'], dtype=object)"
      ]
     },
     "execution_count": 406,
     "metadata": {},
     "output_type": "execute_result"
    }
   ],
   "source": [
    "le.classes_\n"
   ]
  },
  {
   "cell_type": "code",
   "execution_count": 407,
   "id": "7acbce61-ea72-415f-bc8c-ded6a098ead9",
   "metadata": {},
   "outputs": [],
   "source": [
    "y_train = le.transform(y_train)\n"
   ]
  },
  {
   "cell_type": "code",
   "execution_count": 408,
   "id": "b246904e-e2e2-41b4-a888-a1d13d736901",
   "metadata": {},
   "outputs": [],
   "source": [
    "y_test = le.transform(y_test)\n"
   ]
  },
  {
   "cell_type": "code",
   "execution_count": 409,
   "id": "36e74acf-9c3f-409b-88f6-e9b1e81ac7a1",
   "metadata": {},
   "outputs": [
    {
     "data": {
      "text/plain": [
       "array([0, 0, 1, 0, 0, 0, 0, 0, 1, 0, 1, 1, 0, 0, 0, 1, 1, 1, 0, 0, 0, 1,\n",
       "       0, 1, 1, 0, 1, 1, 0, 0, 0, 0, 0, 0, 1, 1, 0, 0, 0, 0, 0, 0, 1, 0,\n",
       "       0, 0, 0, 0, 0, 1, 0, 1, 0, 0, 1, 1, 0, 0, 0, 0, 1, 1, 0, 1, 0, 1,\n",
       "       0, 1, 1, 0, 1, 0, 0, 0, 0, 0, 0, 1, 0, 0, 0, 1, 1, 0, 0, 1, 0, 1,\n",
       "       0, 0, 1, 0, 1, 0, 0, 0, 0, 0, 0, 1, 0, 0, 1, 0, 0, 1, 0, 1, 0, 0,\n",
       "       0, 0, 0, 0, 1, 1, 0, 1, 1, 0, 0, 0, 0, 1, 1, 0, 0, 1, 1, 0, 1, 1,\n",
       "       0, 0, 1, 1, 1, 1, 1, 0, 1, 0, 0, 0, 1, 0, 1, 0, 0, 1, 0, 0, 0, 0,\n",
       "       0, 0, 0, 0, 0, 1, 0, 0, 0, 0, 0, 0, 0, 1, 1, 1, 1, 0, 0, 0, 0, 0,\n",
       "       1, 0, 0, 0, 0, 0, 1, 0, 0, 0, 0, 1, 1, 0, 0, 0, 0, 1, 0, 0, 1, 0,\n",
       "       0, 0, 0, 1, 0, 1, 1, 1, 0, 1, 1, 0, 1, 1, 1, 0, 0, 0, 0, 1, 1, 0,\n",
       "       0, 0, 0, 0, 1, 0, 0, 1, 0, 0, 1, 0, 1, 1, 0, 0, 0, 0, 0, 0, 0, 1,\n",
       "       0, 0, 0, 0, 0, 1, 0, 1, 1, 0, 1, 0, 0, 0, 0, 0, 1, 0, 1, 0, 0, 0,\n",
       "       0, 1, 0, 1, 0, 0, 1, 0, 0, 0, 0, 1, 0, 0, 1, 1, 0, 0, 0, 1, 0, 0,\n",
       "       0, 0, 0, 1, 0, 0, 1, 0, 1, 0, 0, 0, 0, 1, 1, 1, 1, 0, 0, 1, 1, 1,\n",
       "       1, 0, 1, 0, 0, 0, 1, 0, 0, 0, 0, 1, 1, 1, 0, 0, 1, 1, 0, 1, 0, 0,\n",
       "       0, 1, 1, 0, 0, 0, 1, 1, 0, 1, 0, 0, 0, 0, 0, 1, 1, 0, 0, 1, 1, 0,\n",
       "       1, 1, 1, 1, 1, 1, 0, 0, 0, 0, 1, 0, 0, 1, 0, 1, 0, 0, 0, 1, 0, 1,\n",
       "       1, 0, 0, 1, 0, 1, 0, 0, 1, 1, 1, 0, 0, 1, 0, 0, 1, 0, 1, 1, 0, 1,\n",
       "       1, 1, 0, 0, 0, 0, 0, 1, 0, 0, 1, 1, 0, 1, 0, 0, 0, 0, 1, 1, 0, 1,\n",
       "       0, 0, 1, 0, 1, 0, 1, 1, 0, 1, 0, 1, 0, 1, 1, 1, 0, 0, 0, 1, 0, 1,\n",
       "       0, 1, 0, 0, 1, 1, 1, 1, 1, 0, 1, 1, 1, 1, 1, 0, 0, 1, 1, 0, 0, 0,\n",
       "       0, 0, 0, 1, 0, 1, 0, 1, 0, 1, 0, 0, 0, 0, 0, 0, 1, 0, 0, 1, 0, 1,\n",
       "       0, 1, 1, 0, 0, 1, 1, 0, 0, 1, 1, 0, 0, 1, 1, 1, 0, 0, 1, 0, 0, 1,\n",
       "       0, 1, 1, 1, 1, 0, 0, 0, 0, 0, 0, 1, 0, 1, 0, 1, 1, 0, 0, 0, 0, 0,\n",
       "       1, 0, 1, 0, 1, 0, 0, 0, 1, 1, 0, 0, 0, 1, 0, 1, 1, 0, 0, 0, 0, 1,\n",
       "       1, 0, 0, 0, 0, 1, 0, 1, 0, 1, 1, 1, 0, 1, 1, 0, 0, 0, 0, 1, 0, 0,\n",
       "       1, 0, 1, 1, 0, 0, 1, 1, 1, 1, 1, 0, 1, 0, 0, 0, 1, 1, 0, 0, 0, 0,\n",
       "       0, 0, 0, 0, 1, 1, 0, 0, 0, 0, 0, 0, 0, 1, 1, 1, 0, 1, 0, 1, 1, 0,\n",
       "       1, 1, 1, 1, 1, 0, 0, 0, 0, 0, 1, 0, 0, 1, 0, 0, 0, 0, 1, 0, 0, 1,\n",
       "       0, 0, 0, 0, 1, 0, 0, 0, 0, 0, 0, 1, 1, 0, 1, 1, 0, 0, 0, 0, 1, 1,\n",
       "       0, 0, 1, 0, 0, 1, 0, 0, 1, 1, 1, 0, 0, 0, 0, 0, 0, 1])"
      ]
     },
     "execution_count": 409,
     "metadata": {},
     "output_type": "execute_result"
    }
   ],
   "source": [
    "y_train"
   ]
  },
  {
   "cell_type": "code",
   "execution_count": 422,
   "id": "b25935c6-dd90-4837-9a6e-aaa2cb8dd86a",
   "metadata": {},
   "outputs": [],
   "source": [
    "y_trans=pd.DataFrame(y_train,columns=['alive'])"
   ]
  },
  {
   "cell_type": "code",
   "execution_count": 423,
   "id": "86adec3f-8c99-4d01-aeeb-98c2abca44e1",
   "metadata": {},
   "outputs": [
    {
     "name": "stdout",
     "output_type": "stream",
     "text": [
      "Categorical column into numerical column \n",
      " \n",
      " ALIVE: 0=NO, 1=YES \n",
      " \n",
      "      alive\n",
      "0        0\n",
      "1        0\n",
      "2        1\n",
      "3        0\n",
      "4        0\n",
      "..     ...\n",
      "673      0\n",
      "674      0\n",
      "675      0\n",
      "676      0\n",
      "677      1\n",
      "\n",
      "[678 rows x 1 columns]\n"
     ]
    }
   ],
   "source": [
    "print(\"Categorical column into numerical column \\n \\n ALIVE: 0=NO, 1=YES \\n \\n\" ,y_trans)"
   ]
  },
  {
   "cell_type": "code",
   "execution_count": 410,
   "id": "285e740b-3542-45d4-90a8-27020b3c5464",
   "metadata": {},
   "outputs": [
    {
     "data": {
      "text/plain": [
       "array([0, 1, 0, 0, 1, 0, 1, 0, 0, 0, 0, 0, 0, 1, 0, 0, 0, 0, 1, 1, 0, 0,\n",
       "       1, 1, 1, 1, 0, 0, 0, 0, 1, 1, 0, 0, 0, 0, 1, 0, 1, 1, 0, 1, 1, 0,\n",
       "       0, 0, 0, 0, 0, 1, 0, 0, 0, 1, 0, 1, 1, 1, 0, 0, 1, 1, 0, 0, 1, 1,\n",
       "       0, 1, 0, 1, 0, 0, 1, 1, 0, 0, 0, 1, 0, 1, 0, 0, 1, 0, 0, 1, 0, 1,\n",
       "       0, 1, 0, 1, 0, 0, 1, 0, 1, 1, 1, 0, 0, 0, 1, 0, 0, 1, 0, 1, 0, 0,\n",
       "       0, 0, 0, 0, 0, 0, 0, 1, 0, 0, 0, 1, 1, 0, 0, 0, 0, 0, 1, 0, 0, 1,\n",
       "       0, 1, 0, 0, 1, 1, 1, 1, 1, 0, 1, 0, 1, 0, 0, 0, 0, 1, 1, 1, 0, 1,\n",
       "       1, 1, 0, 0, 1, 1, 0, 0, 1, 1, 0, 0, 1, 1, 0, 0])"
      ]
     },
     "execution_count": 410,
     "metadata": {},
     "output_type": "execute_result"
    }
   ],
   "source": [
    "y_test"
   ]
  },
  {
   "cell_type": "code",
   "execution_count": null,
   "id": "1f4af49a-5f6d-46b7-8bfe-9d705f34f307",
   "metadata": {},
   "outputs": [],
   "source": []
  }
 ],
 "metadata": {
  "kernelspec": {
   "display_name": "Python 3 (ipykernel)",
   "language": "python",
   "name": "python3"
  },
  "language_info": {
   "codemirror_mode": {
    "name": "ipython",
    "version": 3
   },
   "file_extension": ".py",
   "mimetype": "text/x-python",
   "name": "python",
   "nbconvert_exporter": "python",
   "pygments_lexer": "ipython3",
   "version": "3.11.7"
  }
 },
 "nbformat": 4,
 "nbformat_minor": 5
}
